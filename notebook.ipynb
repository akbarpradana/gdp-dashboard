{
  "cells": [
    {
      "cell_type": "markdown",
      "metadata": {
        "id": "yhB-pmPtJxuF"
      },
      "source": [
        "\n",
        "#Proyek Analisis Data : E-Commerce Public Dataset\n",
        "\n",
        "\n",
        "*   Nama        : Akbar Wahyu Pradana\n",
        "*   Email       : m200b4ky0281@bangkit.academy\n",
        "*   ID Dicoding : Akbar Wahyu Pradana M200B4KY0281\n",
        "\n",
        "\n",
        "\n",
        "\n",
        "\n",
        "\n",
        "\n"
      ]
    },
    {
      "cell_type": "markdown",
      "metadata": {
        "id": "sDpTOqh-J9za"
      },
      "source": [
        "## Menetukaan Pertanyaan Bisnis"
      ]
    },
    {
      "cell_type": "markdown",
      "metadata": {
        "id": "9931xsspLYzH"
      },
      "source": [
        "\n",
        "\n",
        "1. Berapa jumlah order (pesanan) setiap State (kota) dan presentasenya?\n",
        "2. 10 terbanyak order (pesanan) berdasarkan kategori pesananan\n",
        "\n",
        "\n"
      ]
    },
    {
      "cell_type": "markdown",
      "metadata": {
        "id": "owGrzk65LdLC"
      },
      "source": [
        "## Import Semua Packages/Library yang Digunakan"
      ]
    },
    {
      "cell_type": "code",
      "execution_count": 1,
      "metadata": {
        "colab": {
          "base_uri": "https://localhost:8080/"
        },
        "id": "HASVrWO0_yCg",
        "outputId": "f7ffd0bc-a065-4c3e-e598-28ca504af245"
      },
      "outputs": [
        {
          "output_type": "stream",
          "name": "stdout",
          "text": [
            "Requirement already satisfied: pandas in /usr/local/lib/python3.10/dist-packages (2.2.2)\n",
            "Requirement already satisfied: numpy>=1.22.4 in /usr/local/lib/python3.10/dist-packages (from pandas) (1.26.4)\n",
            "Requirement already satisfied: python-dateutil>=2.8.2 in /usr/local/lib/python3.10/dist-packages (from pandas) (2.8.2)\n",
            "Requirement already satisfied: pytz>=2020.1 in /usr/local/lib/python3.10/dist-packages (from pandas) (2024.2)\n",
            "Requirement already satisfied: tzdata>=2022.7 in /usr/local/lib/python3.10/dist-packages (from pandas) (2024.2)\n",
            "Requirement already satisfied: six>=1.5 in /usr/local/lib/python3.10/dist-packages (from python-dateutil>=2.8.2->pandas) (1.17.0)\n",
            "Requirement already satisfied: plotly in /usr/local/lib/python3.10/dist-packages (5.24.1)\n",
            "Requirement already satisfied: tenacity>=6.2.0 in /usr/local/lib/python3.10/dist-packages (from plotly) (9.0.0)\n",
            "Requirement already satisfied: packaging in /usr/local/lib/python3.10/dist-packages (from plotly) (24.2)\n",
            "Requirement already satisfied: pipreqs in /usr/local/lib/python3.10/dist-packages (0.5.0)\n",
            "Requirement already satisfied: docopt==0.6.2 in /usr/local/lib/python3.10/dist-packages (from pipreqs) (0.6.2)\n",
            "Requirement already satisfied: ipython==8.12.3 in /usr/local/lib/python3.10/dist-packages (from pipreqs) (8.12.3)\n",
            "Requirement already satisfied: nbconvert<8.0.0,>=7.11.0 in /usr/local/lib/python3.10/dist-packages (from pipreqs) (7.16.4)\n",
            "Requirement already satisfied: yarg==0.1.9 in /usr/local/lib/python3.10/dist-packages (from pipreqs) (0.1.9)\n",
            "Requirement already satisfied: backcall in /usr/local/lib/python3.10/dist-packages (from ipython==8.12.3->pipreqs) (0.2.0)\n",
            "Requirement already satisfied: decorator in /usr/local/lib/python3.10/dist-packages (from ipython==8.12.3->pipreqs) (4.4.2)\n",
            "Requirement already satisfied: jedi>=0.16 in /usr/local/lib/python3.10/dist-packages (from ipython==8.12.3->pipreqs) (0.19.2)\n",
            "Requirement already satisfied: matplotlib-inline in /usr/local/lib/python3.10/dist-packages (from ipython==8.12.3->pipreqs) (0.1.7)\n",
            "Requirement already satisfied: pickleshare in /usr/local/lib/python3.10/dist-packages (from ipython==8.12.3->pipreqs) (0.7.5)\n",
            "Requirement already satisfied: prompt-toolkit!=3.0.37,<3.1.0,>=3.0.30 in /usr/local/lib/python3.10/dist-packages (from ipython==8.12.3->pipreqs) (3.0.48)\n",
            "Requirement already satisfied: pygments>=2.4.0 in /usr/local/lib/python3.10/dist-packages (from ipython==8.12.3->pipreqs) (2.18.0)\n",
            "Requirement already satisfied: stack-data in /usr/local/lib/python3.10/dist-packages (from ipython==8.12.3->pipreqs) (0.6.3)\n",
            "Requirement already satisfied: traitlets>=5 in /usr/local/lib/python3.10/dist-packages (from ipython==8.12.3->pipreqs) (5.7.1)\n",
            "Requirement already satisfied: pexpect>4.3 in /usr/local/lib/python3.10/dist-packages (from ipython==8.12.3->pipreqs) (4.9.0)\n",
            "Requirement already satisfied: requests in /usr/local/lib/python3.10/dist-packages (from yarg==0.1.9->pipreqs) (2.32.3)\n",
            "Requirement already satisfied: beautifulsoup4 in /usr/local/lib/python3.10/dist-packages (from nbconvert<8.0.0,>=7.11.0->pipreqs) (4.12.3)\n",
            "Requirement already satisfied: bleach!=5.0.0 in /usr/local/lib/python3.10/dist-packages (from nbconvert<8.0.0,>=7.11.0->pipreqs) (6.2.0)\n",
            "Requirement already satisfied: defusedxml in /usr/local/lib/python3.10/dist-packages (from nbconvert<8.0.0,>=7.11.0->pipreqs) (0.7.1)\n",
            "Requirement already satisfied: jinja2>=3.0 in /usr/local/lib/python3.10/dist-packages (from nbconvert<8.0.0,>=7.11.0->pipreqs) (3.1.4)\n",
            "Requirement already satisfied: jupyter-core>=4.7 in /usr/local/lib/python3.10/dist-packages (from nbconvert<8.0.0,>=7.11.0->pipreqs) (5.7.2)\n",
            "Requirement already satisfied: jupyterlab-pygments in /usr/local/lib/python3.10/dist-packages (from nbconvert<8.0.0,>=7.11.0->pipreqs) (0.3.0)\n",
            "Requirement already satisfied: markupsafe>=2.0 in /usr/local/lib/python3.10/dist-packages (from nbconvert<8.0.0,>=7.11.0->pipreqs) (3.0.2)\n",
            "Requirement already satisfied: mistune<4,>=2.0.3 in /usr/local/lib/python3.10/dist-packages (from nbconvert<8.0.0,>=7.11.0->pipreqs) (3.0.2)\n",
            "Requirement already satisfied: nbclient>=0.5.0 in /usr/local/lib/python3.10/dist-packages (from nbconvert<8.0.0,>=7.11.0->pipreqs) (0.10.1)\n",
            "Requirement already satisfied: nbformat>=5.7 in /usr/local/lib/python3.10/dist-packages (from nbconvert<8.0.0,>=7.11.0->pipreqs) (5.10.4)\n",
            "Requirement already satisfied: packaging in /usr/local/lib/python3.10/dist-packages (from nbconvert<8.0.0,>=7.11.0->pipreqs) (24.2)\n",
            "Requirement already satisfied: pandocfilters>=1.4.1 in /usr/local/lib/python3.10/dist-packages (from nbconvert<8.0.0,>=7.11.0->pipreqs) (1.5.1)\n",
            "Requirement already satisfied: tinycss2 in /usr/local/lib/python3.10/dist-packages (from nbconvert<8.0.0,>=7.11.0->pipreqs) (1.4.0)\n",
            "Requirement already satisfied: webencodings in /usr/local/lib/python3.10/dist-packages (from bleach!=5.0.0->nbconvert<8.0.0,>=7.11.0->pipreqs) (0.5.1)\n",
            "Requirement already satisfied: parso<0.9.0,>=0.8.4 in /usr/local/lib/python3.10/dist-packages (from jedi>=0.16->ipython==8.12.3->pipreqs) (0.8.4)\n",
            "Requirement already satisfied: platformdirs>=2.5 in /usr/local/lib/python3.10/dist-packages (from jupyter-core>=4.7->nbconvert<8.0.0,>=7.11.0->pipreqs) (4.3.6)\n",
            "Requirement already satisfied: jupyter-client>=6.1.12 in /usr/local/lib/python3.10/dist-packages (from nbclient>=0.5.0->nbconvert<8.0.0,>=7.11.0->pipreqs) (6.1.12)\n",
            "Requirement already satisfied: fastjsonschema>=2.15 in /usr/local/lib/python3.10/dist-packages (from nbformat>=5.7->nbconvert<8.0.0,>=7.11.0->pipreqs) (2.21.1)\n",
            "Requirement already satisfied: jsonschema>=2.6 in /usr/local/lib/python3.10/dist-packages (from nbformat>=5.7->nbconvert<8.0.0,>=7.11.0->pipreqs) (4.23.0)\n",
            "Requirement already satisfied: ptyprocess>=0.5 in /usr/local/lib/python3.10/dist-packages (from pexpect>4.3->ipython==8.12.3->pipreqs) (0.7.0)\n",
            "Requirement already satisfied: wcwidth in /usr/local/lib/python3.10/dist-packages (from prompt-toolkit!=3.0.37,<3.1.0,>=3.0.30->ipython==8.12.3->pipreqs) (0.2.13)\n",
            "Requirement already satisfied: soupsieve>1.2 in /usr/local/lib/python3.10/dist-packages (from beautifulsoup4->nbconvert<8.0.0,>=7.11.0->pipreqs) (2.6)\n",
            "Requirement already satisfied: charset-normalizer<4,>=2 in /usr/local/lib/python3.10/dist-packages (from requests->yarg==0.1.9->pipreqs) (3.4.0)\n",
            "Requirement already satisfied: idna<4,>=2.5 in /usr/local/lib/python3.10/dist-packages (from requests->yarg==0.1.9->pipreqs) (3.10)\n",
            "Requirement already satisfied: urllib3<3,>=1.21.1 in /usr/local/lib/python3.10/dist-packages (from requests->yarg==0.1.9->pipreqs) (2.2.3)\n",
            "Requirement already satisfied: certifi>=2017.4.17 in /usr/local/lib/python3.10/dist-packages (from requests->yarg==0.1.9->pipreqs) (2024.12.14)\n",
            "Requirement already satisfied: executing>=1.2.0 in /usr/local/lib/python3.10/dist-packages (from stack-data->ipython==8.12.3->pipreqs) (2.1.0)\n",
            "Requirement already satisfied: asttokens>=2.1.0 in /usr/local/lib/python3.10/dist-packages (from stack-data->ipython==8.12.3->pipreqs) (3.0.0)\n",
            "Requirement already satisfied: pure-eval in /usr/local/lib/python3.10/dist-packages (from stack-data->ipython==8.12.3->pipreqs) (0.2.3)\n",
            "Requirement already satisfied: attrs>=22.2.0 in /usr/local/lib/python3.10/dist-packages (from jsonschema>=2.6->nbformat>=5.7->nbconvert<8.0.0,>=7.11.0->pipreqs) (24.3.0)\n",
            "Requirement already satisfied: jsonschema-specifications>=2023.03.6 in /usr/local/lib/python3.10/dist-packages (from jsonschema>=2.6->nbformat>=5.7->nbconvert<8.0.0,>=7.11.0->pipreqs) (2024.10.1)\n",
            "Requirement already satisfied: referencing>=0.28.4 in /usr/local/lib/python3.10/dist-packages (from jsonschema>=2.6->nbformat>=5.7->nbconvert<8.0.0,>=7.11.0->pipreqs) (0.35.1)\n",
            "Requirement already satisfied: rpds-py>=0.7.1 in /usr/local/lib/python3.10/dist-packages (from jsonschema>=2.6->nbformat>=5.7->nbconvert<8.0.0,>=7.11.0->pipreqs) (0.22.3)\n",
            "Requirement already satisfied: pyzmq>=13 in /usr/local/lib/python3.10/dist-packages (from jupyter-client>=6.1.12->nbclient>=0.5.0->nbconvert<8.0.0,>=7.11.0->pipreqs) (24.0.1)\n",
            "Requirement already satisfied: python-dateutil>=2.1 in /usr/local/lib/python3.10/dist-packages (from jupyter-client>=6.1.12->nbclient>=0.5.0->nbconvert<8.0.0,>=7.11.0->pipreqs) (2.8.2)\n",
            "Requirement already satisfied: tornado>=4.1 in /usr/local/lib/python3.10/dist-packages (from jupyter-client>=6.1.12->nbclient>=0.5.0->nbconvert<8.0.0,>=7.11.0->pipreqs) (6.3.3)\n",
            "Requirement already satisfied: six>=1.5 in /usr/local/lib/python3.10/dist-packages (from python-dateutil>=2.1->jupyter-client>=6.1.12->nbclient>=0.5.0->nbconvert<8.0.0,>=7.11.0->pipreqs) (1.17.0)\n"
          ]
        }
      ],
      "source": [
        "# Instalasi library yang diperlukan\n",
        "!pip install pandas\n",
        "!pip install plotly\n",
        "!pip install streamlit -q\n",
        "!pip install pipreqs\n",
        "# Import library yang diperlukan\n",
        "import streamlit as st\n",
        "import pandas as pd\n",
        "import plotly.express as px\n",
        "import plotly.graph_objects as go\n",
        "from google.colab import drive\n",
        "\n",
        "\n",
        "\n"
      ]
    },
    {
      "cell_type": "code",
      "execution_count": 2,
      "metadata": {
        "colab": {
          "base_uri": "https://localhost:8080/"
        },
        "id": "hzbMiHUUvyOv",
        "outputId": "702148f0-29bf-462e-ae51-f6d855277595"
      },
      "outputs": [
        {
          "output_type": "stream",
          "name": "stdout",
          "text": [
            "Drive already mounted at /content/gdrive; to attempt to forcibly remount, call drive.mount(\"/content/gdrive\", force_remount=True).\n"
          ]
        }
      ],
      "source": [
        "# Memberikan akses ke google drive\n",
        "drive.mount('/content/gdrive')\n",
        "\n"
      ]
    },
    {
      "cell_type": "markdown",
      "metadata": {
        "id": "hnbkyLVf3Uth"
      },
      "source": [
        "## Data Wrangling"
      ]
    },
    {
      "cell_type": "markdown",
      "metadata": {
        "id": "DDfgnO4L32NZ"
      },
      "source": [
        "### Gathering Data"
      ]
    },
    {
      "cell_type": "code",
      "execution_count": 3,
      "metadata": {
        "id": "1XZ2GSFbKdk4"
      },
      "outputs": [],
      "source": [
        "@st.cache_resource\n",
        "def load_customers_data():\n",
        "    return pd.read_csv(\"/content/gdrive/MyDrive/E-Commerce Public Dataset/customers_dataset.csv\", sep=',')\n",
        "\n",
        "@st.cache_resource\n",
        "def load_products_data():\n",
        "    return pd.read_csv(\"/content/gdrive/MyDrive/E-Commerce Public Dataset/products_dataset.csv\", sep=',')\n",
        "\n",
        "@st.cache_resource\n",
        "def load_orders_data():\n",
        "    return pd.read_csv(\"/content/gdrive/MyDrive/E-Commerce Public Dataset/order_items_dataset.csv\", sep=',')"
      ]
    },
    {
      "cell_type": "code",
      "execution_count": 4,
      "metadata": {
        "colab": {
          "base_uri": "https://localhost:8080/"
        },
        "id": "2v_fdlTeLGA6",
        "outputId": "6c811608-3bf6-4d49-973c-ee5d3e3580fb"
      },
      "outputs": [
        {
          "output_type": "stream",
          "name": "stderr",
          "text": [
            "2024-12-21 13:18:32.808 WARNING streamlit.runtime.scriptrunner_utils.script_run_context: Thread 'MainThread': missing ScriptRunContext! This warning can be ignored when running in bare mode.\n",
            "2024-12-21 13:18:33.222 \n",
            "  \u001b[33m\u001b[1mWarning:\u001b[0m to view this Streamlit app on a browser, run it with the following\n",
            "  command:\n",
            "\n",
            "    streamlit run /usr/local/lib/python3.10/dist-packages/colab_kernel_launcher.py [ARGUMENTS]\n",
            "2024-12-21 13:18:33.228 Thread 'MainThread': missing ScriptRunContext! This warning can be ignored when running in bare mode.\n",
            "2024-12-21 13:18:33.231 Thread 'MainThread': missing ScriptRunContext! This warning can be ignored when running in bare mode.\n",
            "2024-12-21 13:18:33.853 Thread 'Thread-10': missing ScriptRunContext! This warning can be ignored when running in bare mode.\n",
            "2024-12-21 13:18:33.856 Thread 'Thread-10': missing ScriptRunContext! This warning can be ignored when running in bare mode.\n",
            "2024-12-21 13:18:33.958 Thread 'MainThread': missing ScriptRunContext! This warning can be ignored when running in bare mode.\n",
            "2024-12-21 13:18:33.960 Thread 'MainThread': missing ScriptRunContext! This warning can be ignored when running in bare mode.\n",
            "2024-12-21 13:18:33.966 Thread 'MainThread': missing ScriptRunContext! This warning can be ignored when running in bare mode.\n",
            "2024-12-21 13:18:33.969 Thread 'MainThread': missing ScriptRunContext! This warning can be ignored when running in bare mode.\n",
            "2024-12-21 13:18:33.970 Thread 'MainThread': missing ScriptRunContext! This warning can be ignored when running in bare mode.\n",
            "2024-12-21 13:18:34.103 Thread 'MainThread': missing ScriptRunContext! This warning can be ignored when running in bare mode.\n",
            "2024-12-21 13:18:34.106 Thread 'MainThread': missing ScriptRunContext! This warning can be ignored when running in bare mode.\n",
            "2024-12-21 13:18:34.108 Thread 'MainThread': missing ScriptRunContext! This warning can be ignored when running in bare mode.\n",
            "2024-12-21 13:18:34.110 Thread 'MainThread': missing ScriptRunContext! This warning can be ignored when running in bare mode.\n",
            "2024-12-21 13:18:34.115 Thread 'MainThread': missing ScriptRunContext! This warning can be ignored when running in bare mode.\n",
            "2024-12-21 13:18:34.627 Thread 'Thread-12': missing ScriptRunContext! This warning can be ignored when running in bare mode.\n",
            "2024-12-21 13:18:34.632 Thread 'Thread-12': missing ScriptRunContext! This warning can be ignored when running in bare mode.\n",
            "2024-12-21 13:18:34.726 Thread 'MainThread': missing ScriptRunContext! This warning can be ignored when running in bare mode.\n",
            "2024-12-21 13:18:34.729 Thread 'MainThread': missing ScriptRunContext! This warning can be ignored when running in bare mode.\n"
          ]
        }
      ],
      "source": [
        "customers_data = load_customers_data()\n",
        "products_data = load_products_data()\n",
        "orders_data = load_orders_data()"
      ]
    },
    {
      "cell_type": "markdown",
      "source": [
        "Insight:\n",
        "\n",
        "\n",
        "*   Memuat 3 file data dari google drive mwnggunakan caching untuk menyimpan hasil pemanggilan dataset sehingga hanya akan dieksekusi satu kali selama aplikasi Streamlit berjalan.         \n",
        "*   memisahkan data berdasarkan comma    \n"
      ],
      "metadata": {
        "id": "o41J6O1_vPdL"
      }
    },
    {
      "cell_type": "markdown",
      "metadata": {
        "id": "R--2ujgV4Dgl"
      },
      "source": [
        "###Assesing Data"
      ]
    },
    {
      "cell_type": "code",
      "execution_count": 5,
      "metadata": {
        "colab": {
          "base_uri": "https://localhost:8080/"
        },
        "id": "wn9Y7TXUWGW3",
        "outputId": "07b7fd1a-6b54-4b15-99b3-4ea22f2ee191"
      },
      "outputs": [
        {
          "output_type": "stream",
          "name": "stdout",
          "text": [
            "Missing Values pada Customers Dataset\n",
            "customer_id                 0\n",
            "customer_unique_id          0\n",
            "customer_zip_code_prefix    0\n",
            "customer_city               0\n",
            "customer_state              0\n",
            "dtype: int64\n",
            "Missing Values pada Product Dataset\n",
            "product_id                      0\n",
            "product_category_name         610\n",
            "product_name_lenght           610\n",
            "product_description_lenght    610\n",
            "product_photos_qty            610\n",
            "product_weight_g                2\n",
            "product_length_cm               2\n",
            "product_height_cm               2\n",
            "product_width_cm                2\n",
            "dtype: int64\n",
            "Missing Values pada Order Dataset\n",
            "order_id               0\n",
            "order_item_id          0\n",
            "product_id             0\n",
            "seller_id              0\n",
            "shipping_limit_date    0\n",
            "price                  0\n",
            "freight_value          0\n",
            "dtype: int64\n"
          ]
        }
      ],
      "source": [
        "#CUSTOMER\n",
        "print(\"Missing Values pada Customers Dataset\")\n",
        "missing_values_customer = customers_data.isnull().sum()\n",
        "\n",
        "print(missing_values_customer)\n",
        "\n",
        "#PRODUCTS\n",
        "print(\"Missing Values pada Product Dataset\")\n",
        "missing_values_product = products_data.isnull().sum()\n",
        "\n",
        "print(missing_values_product)\n",
        "\n",
        "#Order\n",
        "print(\"Missing Values pada Order Dataset\")\n",
        "missing_values_order = orders_data.isnull().sum()\n",
        "\n",
        "print(missing_values_order)"
      ]
    },
    {
      "cell_type": "code",
      "execution_count": 6,
      "metadata": {
        "colab": {
          "base_uri": "https://localhost:8080/"
        },
        "id": "q3B6Bn46fIws",
        "outputId": "e06663b4-2c13-4b5f-bfe4-7a6ba50c4665"
      },
      "outputs": [
        {
          "output_type": "stream",
          "name": "stdout",
          "text": [
            "Data Duplikat pada Customer Dataset\n",
            "0\n",
            "Data Duplikat pada Product Dataset\n",
            "0\n",
            "Data Duplikat pada Order Dataset\n",
            "0\n"
          ]
        }
      ],
      "source": [
        "#Customewr\n",
        "print(\"Data Duplikat pada Customer Dataset\")\n",
        "duplikat_customer = customers_data.duplicated().sum()\n",
        "\n",
        "print(duplikat_customer)\n",
        "\n",
        "#Product\n",
        "print(\"Data Duplikat pada Product Dataset\")\n",
        "duplikat_product = products_data.duplicated().sum()\n",
        "\n",
        "print(duplikat_product)\n",
        "\n",
        "#Order\n",
        "print(\"Data Duplikat pada Order Dataset\")\n",
        "duplikat_order = orders_data.duplicated().sum()\n",
        "\n",
        "print(duplikat_order)"
      ]
    },
    {
      "cell_type": "markdown",
      "source": [
        "Insight:\n",
        "\n",
        "\n",
        "*   Memiliki Missing Values pada product Dataset. kita dapat mengisinya dengan value lainnya, memprediksi atau menghapusnya. Disini saya akan menghapus baris yang memiliki values yang kosong\n",
        "*   Memeriksa apakah ada value yang duplikat pada data          \n"
      ],
      "metadata": {
        "id": "J0Rcjk0BwU0n"
      }
    },
    {
      "cell_type": "markdown",
      "metadata": {
        "id": "QiZklXFf4GyF"
      },
      "source": [
        "###Cleaning Data"
      ]
    },
    {
      "cell_type": "code",
      "execution_count": 7,
      "metadata": {
        "id": "xk87hdHjeRpT"
      },
      "outputs": [],
      "source": [
        "#Disini saya hanya cleaning dataset products karena hanya dataset ini yang memiliki missing values\n",
        "products_data = products_data.dropna()"
      ]
    },
    {
      "cell_type": "code",
      "source": [
        "products_data_sorted = products_data.sort_values(by='product_id', ascending=True)\n",
        "print(products_data_sorted.head())\n",
        "\n",
        "orders_data_sorted = orders_data.sort_values(by='order_id', ascending=True)\n",
        "print(orders_data_sorted.head())\n",
        "\n",
        "customers_data_sorted = customers_data.sort_values(by='customer_id', ascending=True)\n",
        "print(customers_data_sorted.head())\n"
      ],
      "metadata": {
        "colab": {
          "base_uri": "https://localhost:8080/"
        },
        "id": "FCE8dclDxoHV",
        "outputId": "f7a19377-5b66-4f10-97a8-73c50b5cfbdd"
      },
      "execution_count": 8,
      "outputs": [
        {
          "output_type": "stream",
          "name": "stdout",
          "text": [
            "                             product_id  product_category_name  \\\n",
            "31688  00066f42aeeb9f3007548bb9d3f33c38             perfumaria   \n",
            "3490   00088930e925c41fd95ebfe695fd2655             automotivo   \n",
            "11499  0009406fd7479715e4bef61dd91f2462        cama_mesa_banho   \n",
            "6732   000b8f95fcb9e0096488278317764d19  utilidades_domesticas   \n",
            "27720  000d9be29b5207b54e86aa1b1ac54872     relogios_presentes   \n",
            "\n",
            "       product_name_lenght  product_description_lenght  product_photos_qty  \\\n",
            "31688                 53.0                       596.0                 6.0   \n",
            "3490                  56.0                       752.0                 4.0   \n",
            "11499                 50.0                       266.0                 2.0   \n",
            "6732                  25.0                       364.0                 3.0   \n",
            "27720                 48.0                       613.0                 4.0   \n",
            "\n",
            "       product_weight_g  product_length_cm  product_height_cm  \\\n",
            "31688             300.0               20.0               16.0   \n",
            "3490             1225.0               55.0               10.0   \n",
            "11499             300.0               45.0               15.0   \n",
            "6732              550.0               19.0               24.0   \n",
            "27720             250.0               22.0               11.0   \n",
            "\n",
            "       product_width_cm  \n",
            "31688              16.0  \n",
            "3490               26.0  \n",
            "11499              35.0  \n",
            "6732               12.0  \n",
            "27720              15.0  \n",
            "                           order_id  order_item_id  \\\n",
            "0  00010242fe8c5a6d1ba2dd792cb16214              1   \n",
            "1  00018f77f2f0320c557190d7a144bdd3              1   \n",
            "2  000229ec398224ef6ca0657da4fc703e              1   \n",
            "3  00024acbcdf0a6daa1e931b038114c75              1   \n",
            "4  00042b26cf59d7ce69dfabb4e55b4fd9              1   \n",
            "\n",
            "                         product_id                         seller_id  \\\n",
            "0  4244733e06e7ecb4970a6e2683c13e61  48436dade18ac8b2bce089ec2a041202   \n",
            "1  e5f2d52b802189ee658865ca93d83a8f  dd7ddc04e1b6c2c614352b383efe2d36   \n",
            "2  c777355d18b72b67abbeef9df44fd0fd  5b51032eddd242adc84c38acab88f23d   \n",
            "3  7634da152a4610f1595efa32f14722fc  9d7a1d34a5052409006425275ba1c2b4   \n",
            "4  ac6c3623068f30de03045865e4e10089  df560393f3a51e74553ab94004ba5c87   \n",
            "\n",
            "   shipping_limit_date   price  freight_value  \n",
            "0  2017-09-19 09:45:35   58.90          13.29  \n",
            "1  2017-05-03 11:05:13  239.90          19.93  \n",
            "2  2018-01-18 14:48:30  199.00          17.87  \n",
            "3  2018-08-15 10:10:18   12.99          12.79  \n",
            "4  2017-02-13 13:57:51  199.90          18.14  \n",
            "                            customer_id                customer_unique_id  \\\n",
            "84790  00012a2ce6f8dcda20d059ce98491703  248ffe10d632bebe4f7267f1f44844c9   \n",
            "27335  000161a058600d5901f007fab4c27140  b0015e09bb4b6e47c52844fab5fb6638   \n",
            "63792  0001fd6190edaaf884bcaf3d49edf079  94b11d37cd61cb2994a194d11f89682b   \n",
            "97756  0002414f95344307404f0ace7a26f1d5  4893ad4ea28b2c5b3ddf4e82e79db9e6   \n",
            "59921  000379cdec625522490c315e70c7a9fb  0b83f73b19c2019e182fd552c048a22c   \n",
            "\n",
            "       customer_zip_code_prefix customer_city customer_state  \n",
            "84790                      6273        osasco             SP  \n",
            "27335                     35550   itapecerica             MG  \n",
            "63792                     29830  nova venecia             ES  \n",
            "97756                     39664      mendonca             MG  \n",
            "59921                      4841     sao paulo             SP  \n"
          ]
        }
      ]
    },
    {
      "cell_type": "markdown",
      "source": [
        "Insight:\n",
        "\n",
        "\n",
        "*   Dengan menghapus values yang duplikat data akan dapat dicisualisasikan secara baik.   \n",
        "*   Ordeing data pada 3 dataset agar visualisasi data lebih baik       \n"
      ],
      "metadata": {
        "id": "wWSmHV-Ux-lX"
      }
    },
    {
      "cell_type": "markdown",
      "metadata": {
        "id": "m950uJut3Upo"
      },
      "source": [
        "## Exploratory Data Analysis"
      ]
    },
    {
      "cell_type": "markdown",
      "source": [
        "### Explore ..."
      ],
      "metadata": {
        "id": "5-XYRJukywZV"
      }
    },
    {
      "cell_type": "code",
      "execution_count": 9,
      "metadata": {
        "colab": {
          "base_uri": "https://localhost:8080/"
        },
        "id": "V1eyV5z9gmWF",
        "outputId": "ba96db1a-0e89-4d7f-d591-4bf193d65293"
      },
      "outputs": [
        {
          "output_type": "stream",
          "name": "stderr",
          "text": [
            "2024-12-21 13:18:35.750 Thread 'MainThread': missing ScriptRunContext! This warning can be ignored when running in bare mode.\n",
            "2024-12-21 13:18:35.755 Thread 'MainThread': missing ScriptRunContext! This warning can be ignored when running in bare mode.\n"
          ]
        },
        {
          "output_type": "execute_result",
          "data": {
            "text/plain": [
              "DeltaGenerator()"
            ]
          },
          "metadata": {},
          "execution_count": 9
        }
      ],
      "source": [
        "#Judul Dashboard\n",
        "st.title(\"Business Orders Dashboard\")"
      ]
    },
    {
      "cell_type": "code",
      "execution_count": 10,
      "metadata": {
        "id": "iwzmvZOwshMl"
      },
      "outputs": [],
      "source": [
        "# 1. Menmpilkan state\n",
        "# Mengelompokkan kota (state) dan menghitung jumlah pesanan\n",
        "state_order_counts = customers_data.groupby(\"customer_state\")[\"customer_id\"].count().reset_index()\n",
        "state_order_counts.columns = [\"State\", \"Number of Orders\"]\n",
        "state_order_counts = state_order_counts.sort_values(by=\"Number of Orders\", ascending=False)\n",
        "\n",
        "# Menghitung jumlah total pesanan untuk setiap kota\n",
        "total_orders = state_order_counts['Number of Orders'].sum()\n",
        "\n",
        "# Mengelompokkan dan menjumlahkan untuk kategori \"Other\"\n",
        "state_order_counts_grouped = state_order_counts.groupby('State')['Number of Orders'].sum().reset_index()\n"
      ]
    },
    {
      "cell_type": "code",
      "execution_count": 11,
      "metadata": {
        "id": "nzA3j9cGjdFd"
      },
      "outputs": [],
      "source": [
        "# 2. Berapa total harga pesanan per kategori produk?\n",
        "# Menggabungkan orders_data dan products_data\n",
        "merged_data = pd.merge(orders_data, products_data, on=\"product_id\", how=\"left\")\n",
        "\n",
        "# Mengelompokkan berdasarkan kategori produk dan menghitung total harga pesanan\n",
        "category_price_totals = merged_data.groupby(\"product_category_name\")[\"price\"].sum().reset_index()\n",
        "category_price_totals.columns = [\"Product Category\", \"Total Order Price\"]\n",
        "category_price_totals = category_price_totals.sort_values(by=\"Total Order Price\", ascending=False)\n",
        "\n",
        "# Menghitung jumlah total harga pesanan untuk setiap kategori produk\n",
        "total_price = category_price_totals['Total Order Price'].sum()\n",
        "\n",
        "# Menghitung persentase dan menggabungkan yang kurang dari 2% menjadi \"Other\"\n",
        "category_price_totals['Percentage'] = (category_price_totals['Total Order Price'] / total_price) * 100\n",
        "category_price_totals['Product Category'] = category_price_totals['Product Category'].where(category_price_totals['Percentage'] >= 2, 'Other')\n",
        "\n",
        "# Mengelompokkan dan menjumlahkan untuk kategori \"Other\"\n",
        "category_price_totals_grouped = category_price_totals.groupby('Product Category')['Total Order Price'].sum().reset_index()\n",
        "\n",
        "# Membuat pie chart untuk semua kategori produk dengan kategori \"Other\"\n",
        "fig_pie_chart_category = px.pie(category_price_totals_grouped, values=\"Total Order Price\", names=\"Product Category\",\n",
        "                                title=\"Product Categories Contribution by Total Order Price (Including 'Other'[sum that below 2%])\",\n",
        "                                hole=0.4, labels={'Product Category':'Product Category', 'Total Order Price':'Total Order Price'},\n",
        "                                hover_data=[\"Total Order Price\"])\n"
      ]
    },
    {
      "cell_type": "markdown",
      "source": [
        "Insight:\n",
        "\n",
        "\n",
        "*   Pada pertanyaan bisnis  2 saya menggabungkan harga pesanan (2) jika dibawah atau sama dengan 2% agar visualisasi lebih baik      \n",
        "*   Kota dengan jumlah order tertinggi adalah State code SP dengan total 41,746 pesanan. Ini menunjukkan bahwa wilayah tersebut adalah pasar utama untuk bisnis.\n"
      ],
      "metadata": {
        "id": "6HhEPwcvyz0D"
      }
    },
    {
      "cell_type": "markdown",
      "metadata": {
        "id": "LZucLPUW3Ul3"
      },
      "source": [
        "##Visualization & Explanatory Analysis"
      ]
    },
    {
      "cell_type": "markdown",
      "metadata": {
        "id": "cSuVyQeI4S1u"
      },
      "source": [
        "###Pertanyaan 1"
      ]
    },
    {
      "cell_type": "code",
      "execution_count": 12,
      "metadata": {
        "colab": {
          "base_uri": "https://localhost:8080/"
        },
        "id": "l0InWzwW4VYH",
        "outputId": "3bd3c117-e965-4dd2-c690-8fad286e43de"
      },
      "outputs": [
        {
          "output_type": "stream",
          "name": "stderr",
          "text": [
            "2024-12-21 13:18:36.170 Thread 'MainThread': missing ScriptRunContext! This warning can be ignored when running in bare mode.\n",
            "2024-12-21 13:18:36.176 Thread 'MainThread': missing ScriptRunContext! This warning can be ignored when running in bare mode.\n",
            "2024-12-21 13:18:36.179 Thread 'MainThread': missing ScriptRunContext! This warning can be ignored when running in bare mode.\n",
            "2024-12-21 13:18:36.181 Thread 'MainThread': missing ScriptRunContext! This warning can be ignored when running in bare mode.\n",
            "2024-12-21 13:18:36.188 Thread 'MainThread': missing ScriptRunContext! This warning can be ignored when running in bare mode.\n",
            "2024-12-21 13:18:36.194 Thread 'MainThread': missing ScriptRunContext! This warning can be ignored when running in bare mode.\n",
            "2024-12-21 13:18:36.197 Thread 'MainThread': missing ScriptRunContext! This warning can be ignored when running in bare mode.\n",
            "2024-12-21 13:18:36.200 Thread 'MainThread': missing ScriptRunContext! This warning can be ignored when running in bare mode.\n",
            "2024-12-21 13:18:36.201 Thread 'MainThread': missing ScriptRunContext! This warning can be ignored when running in bare mode.\n",
            "2024-12-21 13:18:36.204 Thread 'MainThread': missing ScriptRunContext! This warning can be ignored when running in bare mode.\n",
            "2024-12-21 13:18:36.207 Thread 'MainThread': missing ScriptRunContext! This warning can be ignored when running in bare mode.\n",
            "2024-12-21 13:18:36.211 Thread 'MainThread': missing ScriptRunContext! This warning can be ignored when running in bare mode.\n",
            "2024-12-21 13:18:36.215 Thread 'MainThread': missing ScriptRunContext! This warning can be ignored when running in bare mode.\n",
            "2024-12-21 13:18:36.217 Thread 'MainThread': missing ScriptRunContext! This warning can be ignored when running in bare mode.\n",
            "2024-12-21 13:18:36.229 Thread 'MainThread': missing ScriptRunContext! This warning can be ignored when running in bare mode.\n",
            "2024-12-21 13:18:36.239 Thread 'MainThread': missing ScriptRunContext! This warning can be ignored when running in bare mode.\n",
            "2024-12-21 13:18:36.314 Thread 'MainThread': missing ScriptRunContext! This warning can be ignored when running in bare mode.\n",
            "2024-12-21 13:18:36.316 Thread 'MainThread': missing ScriptRunContext! This warning can be ignored when running in bare mode.\n",
            "2024-12-21 13:18:36.325 Thread 'MainThread': missing ScriptRunContext! This warning can be ignored when running in bare mode.\n",
            "2024-12-21 13:18:36.327 Thread 'MainThread': missing ScriptRunContext! This warning can be ignored when running in bare mode.\n",
            "2024-12-21 13:18:36.330 Thread 'MainThread': missing ScriptRunContext! This warning can be ignored when running in bare mode.\n",
            "2024-12-21 13:18:36.332 Thread 'MainThread': missing ScriptRunContext! This warning can be ignored when running in bare mode.\n"
          ]
        },
        {
          "output_type": "execute_result",
          "data": {
            "text/plain": [
              "DeltaGenerator()"
            ]
          },
          "metadata": {},
          "execution_count": 12
        }
      ],
      "source": [
        " # Membuat Header\n",
        "st.header(\"1.  kota (state) yang memiliki pesanan (orders) terbanyak\")\n",
        "\n",
        "# membuat checkbox untuk semua state untuk filtering\n",
        "selected_states = st.multiselect(\n",
        "    \"Select States to Filter\",\n",
        "    options=state_order_counts_grouped['State'].unique(),\n",
        "    default=state_order_counts_grouped['State'].unique()[:2]  # Default to first two states\n",
        ")\n",
        "\n",
        "# Membuat slider untuk filtering range order\n",
        "min_orders, max_orders = st.slider(\n",
        "    \"Select the range of Number of Orders\",\n",
        "    min_value=int(state_order_counts_grouped['Number of Orders'].min()),\n",
        "    max_value=int(state_order_counts_grouped['Number of Orders'].max()),\n",
        "    value=(0, int(state_order_counts_grouped['Number of Orders'].max()))  # Default to full range\n",
        ")\n",
        "\n",
        "# Filter data berdasarkan filter di atas\n",
        "filtered_data = state_order_counts_grouped[\n",
        "    (state_order_counts_grouped['State'].isin(selected_states)) &\n",
        "    (state_order_counts_grouped['Number of Orders'].between(min_orders, max_orders))\n",
        "]\n",
        "\n",
        "# menampilkan data yang terlah ter-filter\n",
        "st.subheader(\"Filtered States by Number of Orders\")\n",
        "st.write(filtered_data)\n",
        "\n",
        "# Membuat piechart\n",
        "fig_pie_chart = px.pie(filtered_data, values=\"Number of Orders\", names=\"State\",\n",
        "                       title=\"States Contribution by Number of Orders (Filtered)\",\n",
        "                       hole=0.4, labels={'State':'State', 'Number of Orders':'Number of Orders'},\n",
        "                       hover_data=[\"Number of Orders\"])\n",
        "\n",
        "# Menampilkan pie chart\n",
        "st.subheader(\"Pie Chart: Filtered States by Number of Orders\")\n",
        "st.plotly_chart(fig_pie_chart)"
      ]
    },
    {
      "cell_type": "markdown",
      "metadata": {
        "id": "6RgV0YS44Ss-"
      },
      "source": [
        "### Pertanyaan 2"
      ]
    },
    {
      "cell_type": "code",
      "execution_count": 13,
      "metadata": {
        "colab": {
          "base_uri": "https://localhost:8080/"
        },
        "id": "ObgjI4xChnvJ",
        "outputId": "2dac3d07-0b8a-4f7a-da35-7ec8bfe39eca"
      },
      "outputs": [
        {
          "output_type": "stream",
          "name": "stderr",
          "text": [
            "2024-12-21 13:18:36.372 Thread 'MainThread': missing ScriptRunContext! This warning can be ignored when running in bare mode.\n",
            "2024-12-21 13:18:36.380 Thread 'MainThread': missing ScriptRunContext! This warning can be ignored when running in bare mode.\n",
            "2024-12-21 13:18:36.383 Thread 'MainThread': missing ScriptRunContext! This warning can be ignored when running in bare mode.\n",
            "2024-12-21 13:18:36.391 Thread 'MainThread': missing ScriptRunContext! This warning can be ignored when running in bare mode.\n",
            "2024-12-21 13:18:36.395 Thread 'MainThread': missing ScriptRunContext! This warning can be ignored when running in bare mode.\n",
            "2024-12-21 13:18:36.403 Thread 'MainThread': missing ScriptRunContext! This warning can be ignored when running in bare mode.\n",
            "2024-12-21 13:18:36.658 Thread 'MainThread': missing ScriptRunContext! This warning can be ignored when running in bare mode.\n",
            "2024-12-21 13:18:36.665 Thread 'MainThread': missing ScriptRunContext! This warning can be ignored when running in bare mode.\n",
            "2024-12-21 13:18:36.683 Thread 'MainThread': missing ScriptRunContext! This warning can be ignored when running in bare mode.\n",
            "2024-12-21 13:18:36.692 Thread 'MainThread': missing ScriptRunContext! This warning can be ignored when running in bare mode.\n",
            "2024-12-21 13:18:36.696 Thread 'MainThread': missing ScriptRunContext! This warning can be ignored when running in bare mode.\n",
            "2024-12-21 13:18:36.698 Thread 'MainThread': missing ScriptRunContext! This warning can be ignored when running in bare mode.\n",
            "2024-12-21 13:18:36.702 Thread 'MainThread': missing ScriptRunContext! This warning can be ignored when running in bare mode.\n",
            "2024-12-21 13:18:36.710 Thread 'MainThread': missing ScriptRunContext! This warning can be ignored when running in bare mode.\n",
            "2024-12-21 13:18:36.723 Thread 'MainThread': missing ScriptRunContext! This warning can be ignored when running in bare mode.\n",
            "2024-12-21 13:18:36.733 Thread 'MainThread': missing ScriptRunContext! This warning can be ignored when running in bare mode.\n"
          ]
        },
        {
          "output_type": "execute_result",
          "data": {
            "text/plain": [
              "DeltaGenerator()"
            ]
          },
          "metadata": {},
          "execution_count": 13
        }
      ],
      "source": [
        "\n",
        "# Menampilkan subheader\n",
        "st.header(\"2. Berapa total harga pesanan per kategori produk?\")\n",
        "\n",
        "# Menampilkan 10 kategori teratas berdasarkan total harga pesanan\n",
        "st.subheader(\"Top 10 Product Categories by Total Order Price\")\n",
        "st.write(category_price_totals.head(10))\n",
        "\n",
        "\n",
        "# Membuat bar chart untuk total harga berdasarkan kategori produk\n",
        "fig_category_price = px.bar(category_price_totals.head(10), x=\"Product Category\", y=\"Total Order Price\",\n",
        "                            title=\"Top 10 Product Categories by Total Order Price\",\n",
        "                            color=\"Total Order Price\")\n",
        "\n",
        "st.plotly_chart(fig_category_price)\n",
        "\n",
        "# Menampilkan diagram pie dengan persentase kontribusi\n",
        "st.subheader(\"Pie Chart: Top 10 Product Categories by Total Order Price\")\n",
        "\n",
        "\n",
        "# Menampilkan pie chart di Streamlit\n",
        "st.plotly_chart(fig_pie_chart_category)\n",
        "\n"
      ]
    },
    {
      "cell_type": "markdown",
      "source": [
        "Insight:\n",
        "\n",
        "\n",
        "*   Pengguna dapat memilih provinsi tertentu untuk memfilter data pesanan, membantu menganalisis pesanan dari wilayah tertentu.\n",
        "*   Slider memungkinkan pengguna untuk menetapkan rentang jumlah pesanan, fokus pada kelompok volume tertentu.\n",
        "*   Gabungan tabel dan grafik memberikan representasi numerik dan visual dari data pesanan yang telah difilter.\n"
      ],
      "metadata": {
        "id": "cMJ9xcazU0G6"
      }
    },
    {
      "cell_type": "markdown",
      "metadata": {
        "id": "MtwqDb2e3UgV"
      },
      "source": [
        "##Conclusion"
      ]
    },
    {
      "cell_type": "markdown",
      "metadata": {
        "id": "ydnU4T5KiFrn"
      },
      "source": [
        "1. 5 kota (state) yang memiliki pesanan (orders) terbanyak secara berturut-urut adalah  \n",
        "\n",
        "<table>\n",
        "    <tr>\n",
        "        <th>Kode State</th>\n",
        "        <th>Total</th>\n",
        "        <th>Persen</th>\n",
        "    </tr>\n",
        "    <tr>\n",
        "        <td>SP</td>\n",
        "        <td>41,746</td>\n",
        "        <td>42% </td>\n",
        "    </tr>\n",
        "    <tr>\n",
        "        <td>RJ</td>\n",
        "        <td>12,852</td>\n",
        "        <td>12.9% </td>\n",
        "    </tr>\n",
        "    <tr>\n",
        "        <td>MG</td>\n",
        "        <td>11,635</td>\n",
        "        <td>11.7% </td>\n",
        "    </tr>\n",
        "    <tr>\n",
        "        <td>RS</td>\n",
        "        <td>5,466</td>\n",
        "        <td> 5.5%</td>\n",
        "    </tr>\n",
        "    <tr>\n",
        "        <td>PR</td>\n",
        "        <td>5,045</td>\n",
        "        <td>5.07% </td>\n",
        "    </tr>\n",
        "</table>\n"
      ]
    },
    {
      "cell_type": "markdown",
      "metadata": {
        "id": "TExOgg8fiSgB"
      },
      "source": [
        "2. Berapa total harga pesanan per kategori produk?  \n",
        "\n",
        "\n",
        "<table>\n",
        "    <tr>\n",
        "        <th>Kategori</th>\n",
        "        <th>Total Harga</th>\n",
        "        <td>Persen </td>\n",
        "    </tr>\n",
        "    <tr>\n",
        "        <td>beleza_saude</td>\n",
        "        <td>1,258,681.34</td>\n",
        "        <td>9.38% </td>\n",
        "    </tr>\n",
        "    <tr>\n",
        "        <td>relogios_presentes</td>\n",
        "        <td>1,205,005.68</td>\n",
        "        <td>8.98% </td>\n",
        "    </tr>\n",
        "    <tr>\n",
        "        <td>cama_mesa_banho</td>\n",
        "        <td>1,036,988.68</td>\n",
        "        <td>7.73% </td>\n",
        "    </tr>\n",
        "    <tr>\n",
        "        <td>esporte_lazer</td>\n",
        "        <td>988,048.97</td>\n",
        "        <td>7.37% </td>\n",
        "    </tr>\n",
        "    <tr>\n",
        "        <td>informatica_acessorios</td>\n",
        "        <td>911,954.32</td>\n",
        "        <td>6.8% </td>\n",
        "    </tr>\n",
        "    <tr>\n",
        "        <td>moveis_decoracao</td>\n",
        "        <td>729,762.49</td>\n",
        "        <td>5.44% </td>\n",
        "    </tr>\n",
        "    <tr>\n",
        "        <td>cool_stuff</td>\n",
        "        <td>635,290.85</td>\n",
        "        <td>4.74% </td>\n",
        "    </tr>\n",
        "    <tr>\n",
        "        <td>utilidades_domesticas</td>\n",
        "        <td>632,248.66</td>\n",
        "        <td>4.71% </td>\n",
        "    </tr>\n",
        "    <tr>\n",
        "        <td>automotivo</td>\n",
        "        <td>592,720.11</td>\n",
        "        <td>4.42% </td>\n",
        "    </tr>\n",
        "    <tr>\n",
        "        <td>ferramentas_jardim</td>\n",
        "        <td>485,256.46</td>\n",
        "        <td>3.62% </td>\n",
        "    </tr>\n",
        "</table>"
      ]
    }
  ],
  "metadata": {
    "colab": {
      "provenance": [],
      "collapsed_sections": [
        "sDpTOqh-J9za",
        "DDfgnO4L32NZ"
      ]
    },
    "kernelspec": {
      "display_name": "Python 3",
      "name": "python3"
    },
    "language_info": {
      "name": "python"
    }
  },
  "nbformat": 4,
  "nbformat_minor": 0
}