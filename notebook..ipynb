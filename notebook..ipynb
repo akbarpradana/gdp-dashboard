{
  "cells": [
    {
      "cell_type": "markdown",
      "metadata": {
        "id": "yhB-pmPtJxuF"
      },
      "source": [
        "\n",
        "#Proyek Analisis Data : E-Commerce Public Dataset\n",
        "\n",
        "\n",
        "*   Nama        : Akbar Wahyu Pradana\n",
        "*   Email       : m200b4ky0281@bangkit.academy\n",
        "*   ID Dicoding : Akbar Wahyu Pradana M200B4KY0281\n",
        "\n",
        "\n",
        "\n",
        "\n",
        "\n",
        "\n",
        "\n"
      ]
    },
    {
      "cell_type": "markdown",
      "metadata": {
        "id": "sDpTOqh-J9za"
      },
      "source": [
        "## Menetukaan Pertanyaan Bisnis"
      ]
    },
    {
      "cell_type": "markdown",
      "metadata": {
        "id": "9931xsspLYzH"
      },
      "source": [
        "\n",
        "\n",
        "1. Berapa jumlah order (pesanan) setiap State (kota) dan presentasenya?\n",
        "2. 10 terbanyak order (pesanan) berdasarkan kategori pesananan\n",
        "\n",
        "\n"
      ]
    },
    {
      "cell_type": "markdown",
      "metadata": {
        "id": "owGrzk65LdLC"
      },
      "source": [
        "## Import Semua Packages/Library yang Digunakan"
      ]
    },
    {
      "cell_type": "code",
      "execution_count": 1,
      "metadata": {
        "colab": {
          "base_uri": "https://localhost:8080/"
        },
        "id": "HASVrWO0_yCg",
        "outputId": "3f5b18d3-6513-496e-828e-c2821b240e5d"
      },
      "outputs": [
        {
          "output_type": "stream",
          "name": "stdout",
          "text": [
            "Requirement already satisfied: pandas in /usr/local/lib/python3.10/dist-packages (2.2.2)\n",
            "Requirement already satisfied: numpy>=1.22.4 in /usr/local/lib/python3.10/dist-packages (from pandas) (1.26.4)\n",
            "Requirement already satisfied: python-dateutil>=2.8.2 in /usr/local/lib/python3.10/dist-packages (from pandas) (2.8.2)\n",
            "Requirement already satisfied: pytz>=2020.1 in /usr/local/lib/python3.10/dist-packages (from pandas) (2024.2)\n",
            "Requirement already satisfied: tzdata>=2022.7 in /usr/local/lib/python3.10/dist-packages (from pandas) (2024.2)\n",
            "Requirement already satisfied: six>=1.5 in /usr/local/lib/python3.10/dist-packages (from python-dateutil>=2.8.2->pandas) (1.17.0)\n",
            "Requirement already satisfied: plotly in /usr/local/lib/python3.10/dist-packages (5.24.1)\n",
            "Requirement already satisfied: tenacity>=6.2.0 in /usr/local/lib/python3.10/dist-packages (from plotly) (9.0.0)\n",
            "Requirement already satisfied: packaging in /usr/local/lib/python3.10/dist-packages (from plotly) (24.2)\n",
            "Requirement already satisfied: pipreqs in /usr/local/lib/python3.10/dist-packages (0.5.0)\n",
            "Requirement already satisfied: docopt==0.6.2 in /usr/local/lib/python3.10/dist-packages (from pipreqs) (0.6.2)\n",
            "Requirement already satisfied: ipython==8.12.3 in /usr/local/lib/python3.10/dist-packages (from pipreqs) (8.12.3)\n",
            "Requirement already satisfied: nbconvert<8.0.0,>=7.11.0 in /usr/local/lib/python3.10/dist-packages (from pipreqs) (7.16.4)\n",
            "Requirement already satisfied: yarg==0.1.9 in /usr/local/lib/python3.10/dist-packages (from pipreqs) (0.1.9)\n",
            "Requirement already satisfied: backcall in /usr/local/lib/python3.10/dist-packages (from ipython==8.12.3->pipreqs) (0.2.0)\n",
            "Requirement already satisfied: decorator in /usr/local/lib/python3.10/dist-packages (from ipython==8.12.3->pipreqs) (4.4.2)\n",
            "Requirement already satisfied: jedi>=0.16 in /usr/local/lib/python3.10/dist-packages (from ipython==8.12.3->pipreqs) (0.19.2)\n",
            "Requirement already satisfied: matplotlib-inline in /usr/local/lib/python3.10/dist-packages (from ipython==8.12.3->pipreqs) (0.1.7)\n",
            "Requirement already satisfied: pickleshare in /usr/local/lib/python3.10/dist-packages (from ipython==8.12.3->pipreqs) (0.7.5)\n",
            "Requirement already satisfied: prompt-toolkit!=3.0.37,<3.1.0,>=3.0.30 in /usr/local/lib/python3.10/dist-packages (from ipython==8.12.3->pipreqs) (3.0.48)\n",
            "Requirement already satisfied: pygments>=2.4.0 in /usr/local/lib/python3.10/dist-packages (from ipython==8.12.3->pipreqs) (2.18.0)\n",
            "Requirement already satisfied: stack-data in /usr/local/lib/python3.10/dist-packages (from ipython==8.12.3->pipreqs) (0.6.3)\n",
            "Requirement already satisfied: traitlets>=5 in /usr/local/lib/python3.10/dist-packages (from ipython==8.12.3->pipreqs) (5.7.1)\n",
            "Requirement already satisfied: pexpect>4.3 in /usr/local/lib/python3.10/dist-packages (from ipython==8.12.3->pipreqs) (4.9.0)\n",
            "Requirement already satisfied: requests in /usr/local/lib/python3.10/dist-packages (from yarg==0.1.9->pipreqs) (2.32.3)\n",
            "Requirement already satisfied: beautifulsoup4 in /usr/local/lib/python3.10/dist-packages (from nbconvert<8.0.0,>=7.11.0->pipreqs) (4.12.3)\n",
            "Requirement already satisfied: bleach!=5.0.0 in /usr/local/lib/python3.10/dist-packages (from nbconvert<8.0.0,>=7.11.0->pipreqs) (6.2.0)\n",
            "Requirement already satisfied: defusedxml in /usr/local/lib/python3.10/dist-packages (from nbconvert<8.0.0,>=7.11.0->pipreqs) (0.7.1)\n",
            "Requirement already satisfied: jinja2>=3.0 in /usr/local/lib/python3.10/dist-packages (from nbconvert<8.0.0,>=7.11.0->pipreqs) (3.1.4)\n",
            "Requirement already satisfied: jupyter-core>=4.7 in /usr/local/lib/python3.10/dist-packages (from nbconvert<8.0.0,>=7.11.0->pipreqs) (5.7.2)\n",
            "Requirement already satisfied: jupyterlab-pygments in /usr/local/lib/python3.10/dist-packages (from nbconvert<8.0.0,>=7.11.0->pipreqs) (0.3.0)\n",
            "Requirement already satisfied: markupsafe>=2.0 in /usr/local/lib/python3.10/dist-packages (from nbconvert<8.0.0,>=7.11.0->pipreqs) (3.0.2)\n",
            "Requirement already satisfied: mistune<4,>=2.0.3 in /usr/local/lib/python3.10/dist-packages (from nbconvert<8.0.0,>=7.11.0->pipreqs) (3.0.2)\n",
            "Requirement already satisfied: nbclient>=0.5.0 in /usr/local/lib/python3.10/dist-packages (from nbconvert<8.0.0,>=7.11.0->pipreqs) (0.10.1)\n",
            "Requirement already satisfied: nbformat>=5.7 in /usr/local/lib/python3.10/dist-packages (from nbconvert<8.0.0,>=7.11.0->pipreqs) (5.10.4)\n",
            "Requirement already satisfied: packaging in /usr/local/lib/python3.10/dist-packages (from nbconvert<8.0.0,>=7.11.0->pipreqs) (24.2)\n",
            "Requirement already satisfied: pandocfilters>=1.4.1 in /usr/local/lib/python3.10/dist-packages (from nbconvert<8.0.0,>=7.11.0->pipreqs) (1.5.1)\n",
            "Requirement already satisfied: tinycss2 in /usr/local/lib/python3.10/dist-packages (from nbconvert<8.0.0,>=7.11.0->pipreqs) (1.4.0)\n",
            "Requirement already satisfied: webencodings in /usr/local/lib/python3.10/dist-packages (from bleach!=5.0.0->nbconvert<8.0.0,>=7.11.0->pipreqs) (0.5.1)\n",
            "Requirement already satisfied: parso<0.9.0,>=0.8.4 in /usr/local/lib/python3.10/dist-packages (from jedi>=0.16->ipython==8.12.3->pipreqs) (0.8.4)\n",
            "Requirement already satisfied: platformdirs>=2.5 in /usr/local/lib/python3.10/dist-packages (from jupyter-core>=4.7->nbconvert<8.0.0,>=7.11.0->pipreqs) (4.3.6)\n",
            "Requirement already satisfied: jupyter-client>=6.1.12 in /usr/local/lib/python3.10/dist-packages (from nbclient>=0.5.0->nbconvert<8.0.0,>=7.11.0->pipreqs) (6.1.12)\n",
            "Requirement already satisfied: fastjsonschema>=2.15 in /usr/local/lib/python3.10/dist-packages (from nbformat>=5.7->nbconvert<8.0.0,>=7.11.0->pipreqs) (2.21.1)\n",
            "Requirement already satisfied: jsonschema>=2.6 in /usr/local/lib/python3.10/dist-packages (from nbformat>=5.7->nbconvert<8.0.0,>=7.11.0->pipreqs) (4.23.0)\n",
            "Requirement already satisfied: ptyprocess>=0.5 in /usr/local/lib/python3.10/dist-packages (from pexpect>4.3->ipython==8.12.3->pipreqs) (0.7.0)\n",
            "Requirement already satisfied: wcwidth in /usr/local/lib/python3.10/dist-packages (from prompt-toolkit!=3.0.37,<3.1.0,>=3.0.30->ipython==8.12.3->pipreqs) (0.2.13)\n",
            "Requirement already satisfied: soupsieve>1.2 in /usr/local/lib/python3.10/dist-packages (from beautifulsoup4->nbconvert<8.0.0,>=7.11.0->pipreqs) (2.6)\n",
            "Requirement already satisfied: charset-normalizer<4,>=2 in /usr/local/lib/python3.10/dist-packages (from requests->yarg==0.1.9->pipreqs) (3.4.0)\n",
            "Requirement already satisfied: idna<4,>=2.5 in /usr/local/lib/python3.10/dist-packages (from requests->yarg==0.1.9->pipreqs) (3.10)\n",
            "Requirement already satisfied: urllib3<3,>=1.21.1 in /usr/local/lib/python3.10/dist-packages (from requests->yarg==0.1.9->pipreqs) (2.2.3)\n",
            "Requirement already satisfied: certifi>=2017.4.17 in /usr/local/lib/python3.10/dist-packages (from requests->yarg==0.1.9->pipreqs) (2024.12.14)\n",
            "Requirement already satisfied: executing>=1.2.0 in /usr/local/lib/python3.10/dist-packages (from stack-data->ipython==8.12.3->pipreqs) (2.1.0)\n",
            "Requirement already satisfied: asttokens>=2.1.0 in /usr/local/lib/python3.10/dist-packages (from stack-data->ipython==8.12.3->pipreqs) (3.0.0)\n",
            "Requirement already satisfied: pure-eval in /usr/local/lib/python3.10/dist-packages (from stack-data->ipython==8.12.3->pipreqs) (0.2.3)\n",
            "Requirement already satisfied: attrs>=22.2.0 in /usr/local/lib/python3.10/dist-packages (from jsonschema>=2.6->nbformat>=5.7->nbconvert<8.0.0,>=7.11.0->pipreqs) (24.3.0)\n",
            "Requirement already satisfied: jsonschema-specifications>=2023.03.6 in /usr/local/lib/python3.10/dist-packages (from jsonschema>=2.6->nbformat>=5.7->nbconvert<8.0.0,>=7.11.0->pipreqs) (2024.10.1)\n",
            "Requirement already satisfied: referencing>=0.28.4 in /usr/local/lib/python3.10/dist-packages (from jsonschema>=2.6->nbformat>=5.7->nbconvert<8.0.0,>=7.11.0->pipreqs) (0.35.1)\n",
            "Requirement already satisfied: rpds-py>=0.7.1 in /usr/local/lib/python3.10/dist-packages (from jsonschema>=2.6->nbformat>=5.7->nbconvert<8.0.0,>=7.11.0->pipreqs) (0.22.3)\n",
            "Requirement already satisfied: pyzmq>=13 in /usr/local/lib/python3.10/dist-packages (from jupyter-client>=6.1.12->nbclient>=0.5.0->nbconvert<8.0.0,>=7.11.0->pipreqs) (24.0.1)\n",
            "Requirement already satisfied: python-dateutil>=2.1 in /usr/local/lib/python3.10/dist-packages (from jupyter-client>=6.1.12->nbclient>=0.5.0->nbconvert<8.0.0,>=7.11.0->pipreqs) (2.8.2)\n",
            "Requirement already satisfied: tornado>=4.1 in /usr/local/lib/python3.10/dist-packages (from jupyter-client>=6.1.12->nbclient>=0.5.0->nbconvert<8.0.0,>=7.11.0->pipreqs) (6.3.3)\n",
            "Requirement already satisfied: six>=1.5 in /usr/local/lib/python3.10/dist-packages (from python-dateutil>=2.1->jupyter-client>=6.1.12->nbclient>=0.5.0->nbconvert<8.0.0,>=7.11.0->pipreqs) (1.17.0)\n",
            "Drive already mounted at /content/gdrive; to attempt to forcibly remount, call drive.mount(\"/content/gdrive\", force_remount=True).\n"
          ]
        }
      ],
      "source": [
        "# Instalasi library yang diperlukan\n",
        "!pip install pandas\n",
        "!pip install plotly\n",
        "!pip install streamlit -q\n",
        "!pip install pipreqs\n",
        "# Import library yang diperlukan\n",
        "import streamlit as st\n",
        "import pandas as pd\n",
        "import plotly.express as px\n",
        "import plotly.graph_objects as go\n",
        "from google.colab import drive\n",
        "\n",
        "# Memberikan akses ke google drive\n",
        "drive.mount('/content/gdrive')\n",
        "\n",
        "\n",
        "\n"
      ]
    },
    {
      "cell_type": "markdown",
      "metadata": {
        "id": "hnbkyLVf3Uth"
      },
      "source": [
        "## Data Wrangling"
      ]
    },
    {
      "cell_type": "markdown",
      "metadata": {
        "id": "DDfgnO4L32NZ"
      },
      "source": [
        "### Gathering Data"
      ]
    },
    {
      "cell_type": "code",
      "execution_count": 2,
      "metadata": {
        "id": "1XZ2GSFbKdk4"
      },
      "outputs": [],
      "source": [
        "@st.cache_resource\n",
        "def load_customers_data():\n",
        "    return pd.read_csv(\"/content/gdrive/MyDrive/E-Commerce Public Dataset/customers_dataset.csv\", sep=',')\n",
        "\n",
        "@st.cache_resource\n",
        "def load_products_data():\n",
        "    return pd.read_csv(\"/content/gdrive/MyDrive/E-Commerce Public Dataset/products_dataset.csv\", sep=',')\n",
        "\n",
        "@st.cache_resource\n",
        "def load_orders_data():\n",
        "    return pd.read_csv(\"/content/gdrive/MyDrive/E-Commerce Public Dataset/order_items_dataset.csv\", sep=',')"
      ]
    },
    {
      "cell_type": "code",
      "execution_count": 3,
      "metadata": {
        "colab": {
          "base_uri": "https://localhost:8080/"
        },
        "id": "2v_fdlTeLGA6",
        "outputId": "f9c0da82-90a0-440c-fe94-7eb96861e313"
      },
      "outputs": [
        {
          "output_type": "stream",
          "name": "stderr",
          "text": [
            "2024-12-22 02:45:38.404 WARNING streamlit.runtime.scriptrunner_utils.script_run_context: Thread 'MainThread': missing ScriptRunContext! This warning can be ignored when running in bare mode.\n",
            "2024-12-22 02:45:38.555 \n",
            "  \u001b[33m\u001b[1mWarning:\u001b[0m to view this Streamlit app on a browser, run it with the following\n",
            "  command:\n",
            "\n",
            "    streamlit run /usr/local/lib/python3.10/dist-packages/colab_kernel_launcher.py [ARGUMENTS]\n",
            "2024-12-22 02:45:38.557 Thread 'MainThread': missing ScriptRunContext! This warning can be ignored when running in bare mode.\n",
            "2024-12-22 02:45:38.559 Thread 'MainThread': missing ScriptRunContext! This warning can be ignored when running in bare mode.\n",
            "2024-12-22 02:45:38.811 Thread 'MainThread': missing ScriptRunContext! This warning can be ignored when running in bare mode.\n",
            "2024-12-22 02:45:38.813 Thread 'MainThread': missing ScriptRunContext! This warning can be ignored when running in bare mode.\n",
            "2024-12-22 02:45:38.816 Thread 'MainThread': missing ScriptRunContext! This warning can be ignored when running in bare mode.\n",
            "2024-12-22 02:45:38.818 Thread 'MainThread': missing ScriptRunContext! This warning can be ignored when running in bare mode.\n",
            "2024-12-22 02:45:38.821 Thread 'MainThread': missing ScriptRunContext! This warning can be ignored when running in bare mode.\n",
            "2024-12-22 02:45:38.883 Thread 'MainThread': missing ScriptRunContext! This warning can be ignored when running in bare mode.\n",
            "2024-12-22 02:45:38.885 Thread 'MainThread': missing ScriptRunContext! This warning can be ignored when running in bare mode.\n",
            "2024-12-22 02:45:38.888 Thread 'MainThread': missing ScriptRunContext! This warning can be ignored when running in bare mode.\n",
            "2024-12-22 02:45:38.890 Thread 'MainThread': missing ScriptRunContext! This warning can be ignored when running in bare mode.\n",
            "2024-12-22 02:45:38.892 Thread 'MainThread': missing ScriptRunContext! This warning can be ignored when running in bare mode.\n",
            "2024-12-22 02:45:39.356 Thread 'MainThread': missing ScriptRunContext! This warning can be ignored when running in bare mode.\n",
            "2024-12-22 02:45:39.359 Thread 'MainThread': missing ScriptRunContext! This warning can be ignored when running in bare mode.\n"
          ]
        }
      ],
      "source": [
        "customers_data = load_customers_data()\n",
        "products_data = load_products_data()\n",
        "orders_data = load_orders_data()"
      ]
    },
    {
      "cell_type": "code",
      "source": [
        "# Memasukkan semua tabel ke dalam list\n",
        "tables = [customers_data, products_data, orders_data]\n",
        "\n",
        "# Menggabungkan tabel menggunakan outer join\n",
        "main_data = pd.concat(tables, axis=1)"
      ],
      "metadata": {
        "id": "-iRfwiKLHpSX"
      },
      "execution_count": 4,
      "outputs": []
    },
    {
      "cell_type": "markdown",
      "source": [
        "Insight:\n",
        "\n",
        "\n",
        "*   Memuat 3 file data dari google drive mwnggunakan caching untuk menyimpan hasil pemanggilan dataset dan menggabungkannya menjadi satu dataset (main_data) sehingga hanya akan dieksekusi satu kali selama aplikasi Streamlit berjalan.         \n",
        "*   dengan demilitter\",\" dataset yang menjadi satu akan kita pisahkan data berdasarkan comma dan kita dapat mengolahnya\n"
      ],
      "metadata": {
        "id": "o41J6O1_vPdL"
      }
    },
    {
      "cell_type": "markdown",
      "metadata": {
        "id": "R--2ujgV4Dgl"
      },
      "source": [
        "###Assesing Data"
      ]
    },
    {
      "cell_type": "code",
      "execution_count": 5,
      "metadata": {
        "colab": {
          "base_uri": "https://localhost:8080/"
        },
        "id": "wn9Y7TXUWGW3",
        "outputId": "c90b369e-87cc-4929-8a87-c36d2d9b1203"
      },
      "outputs": [
        {
          "output_type": "stream",
          "name": "stdout",
          "text": [
            "Missing Values pada main data Dataset\n",
            "customer_id                   13209\n",
            "customer_unique_id            13209\n",
            "customer_zip_code_prefix      13209\n",
            "customer_city                 13209\n",
            "customer_state                13209\n",
            "product_id                    79699\n",
            "product_category_name         80309\n",
            "product_name_lenght           80309\n",
            "product_description_lenght    80309\n",
            "product_photos_qty            80309\n",
            "product_weight_g              79701\n",
            "product_length_cm             79701\n",
            "product_height_cm             79701\n",
            "product_width_cm              79701\n",
            "order_id                          0\n",
            "order_item_id                     0\n",
            "product_id                        0\n",
            "seller_id                         0\n",
            "shipping_limit_date               0\n",
            "price                             0\n",
            "freight_value                     0\n",
            "dtype: int64\n"
          ]
        }
      ],
      "source": [
        "#Mendeteksi apakah ada missing value pada maindata\n",
        "print(\"Missing Values pada main data Dataset\")\n",
        "missing_values_main_data = main_data.isnull().sum()\n",
        "\n",
        "print(missing_values_main_data)\n"
      ]
    },
    {
      "cell_type": "code",
      "execution_count": 6,
      "metadata": {
        "colab": {
          "base_uri": "https://localhost:8080/"
        },
        "id": "q3B6Bn46fIws",
        "outputId": "8282691d-be7b-4128-fcd9-b23818c9f592"
      },
      "outputs": [
        {
          "output_type": "stream",
          "name": "stdout",
          "text": [
            "Data Duplikat pada maindata Dataset\n",
            "0\n"
          ]
        }
      ],
      "source": [
        "#Mendeteksi apakah ada duplikat data pada maindata\n",
        "print(\"Data Duplikat pada maindata Dataset\")\n",
        "duplikat_main_data = main_data.duplicated().sum()\n",
        "\n",
        "print(duplikat_main_data)\n",
        "\n"
      ]
    },
    {
      "cell_type": "markdown",
      "source": [
        "Insight:\n",
        "\n",
        "\n",
        "*   Memiliki Missing Values pada product Dataset. kita dapat mengisinya dengan value lainnya, memprediksi atau menghapusnya. Disini saya akan menghapus baris yang memiliki values yang kosong\n",
        "*   Memeriksa apakah ada value yang duplikat pada data. Data yang duplikat dapat mempengaruhi visualisasi data dan hasilnya akan kurang tepat     \n"
      ],
      "metadata": {
        "id": "J0Rcjk0BwU0n"
      }
    },
    {
      "cell_type": "markdown",
      "metadata": {
        "id": "QiZklXFf4GyF"
      },
      "source": [
        "###Cleaning Data"
      ]
    },
    {
      "cell_type": "code",
      "execution_count": 7,
      "metadata": {
        "id": "xk87hdHjeRpT"
      },
      "outputs": [],
      "source": [
        "#Disini saya hanya cleaning dataset products karena hanya dataset ini yang memiliki missing values\n",
        "main_data = main_data.dropna()"
      ]
    },
    {
      "cell_type": "code",
      "source": [
        "# mengurutkan main data berdasarkan order_id\n",
        "orders_data_sorted = main_data.sort_values(by='order_id', ascending=True)\n",
        "print(orders_data_sorted.head())\n",
        "\n"
      ],
      "metadata": {
        "colab": {
          "base_uri": "https://localhost:8080/"
        },
        "id": "FCE8dclDxoHV",
        "outputId": "d6e0a183-2e6e-4cef-b71b-1588290c1a58"
      },
      "execution_count": 8,
      "outputs": [
        {
          "output_type": "stream",
          "name": "stdout",
          "text": [
            "                        customer_id                customer_unique_id  \\\n",
            "0  06b8999e2fba1a1fbc88172c00ba8bc7  861eff4711a542e4b93843c6dd7febb0   \n",
            "1  18955e83d337fd6b2def6b18a428ac77  290c77bc529b7ac935b93aa66c333dc3   \n",
            "2  4e7b3e00288586ebd08712fdd0374a03  060e732b5b29e8181a18229c7b0b2b5e   \n",
            "3  b2b6027bc5c5109e529d4dc6358b12c3  259dac757896d24d7702b9acbbff3f3c   \n",
            "4  4f2d8ab171c80ec8364f7c12e35b23ad  345ecd01c38d18a9036ed96c73b8d066   \n",
            "\n",
            "   customer_zip_code_prefix          customer_city customer_state  \\\n",
            "0                   14409.0                 franca             SP   \n",
            "1                    9790.0  sao bernardo do campo             SP   \n",
            "2                    1151.0              sao paulo             SP   \n",
            "3                    8775.0        mogi das cruzes             SP   \n",
            "4                   13056.0               campinas             SP   \n",
            "\n",
            "                         product_id  product_category_name  \\\n",
            "0  1e9e8ef04dbcff4541ed26657ea517e5             perfumaria   \n",
            "1  3aa071139cb16b67ca9e5dea641aaa2f                  artes   \n",
            "2  96bd76ec8810374ed1b65e291975717f          esporte_lazer   \n",
            "3  cef67bcfe19066a932b7673e239eb23d                  bebes   \n",
            "4  9dc1a7de274444849c219cff195d0b71  utilidades_domesticas   \n",
            "\n",
            "   product_name_lenght  product_description_lenght  product_photos_qty  ...  \\\n",
            "0                 40.0                       287.0                 1.0  ...   \n",
            "1                 44.0                       276.0                 1.0  ...   \n",
            "2                 46.0                       250.0                 1.0  ...   \n",
            "3                 27.0                       261.0                 1.0  ...   \n",
            "4                 37.0                       402.0                 4.0  ...   \n",
            "\n",
            "   product_length_cm  product_height_cm  product_width_cm  \\\n",
            "0               16.0               10.0              14.0   \n",
            "1               30.0               18.0              20.0   \n",
            "2               18.0                9.0              15.0   \n",
            "3               26.0                4.0              26.0   \n",
            "4               20.0               17.0              13.0   \n",
            "\n",
            "                           order_id order_item_id  \\\n",
            "0  00010242fe8c5a6d1ba2dd792cb16214             1   \n",
            "1  00018f77f2f0320c557190d7a144bdd3             1   \n",
            "2  000229ec398224ef6ca0657da4fc703e             1   \n",
            "3  00024acbcdf0a6daa1e931b038114c75             1   \n",
            "4  00042b26cf59d7ce69dfabb4e55b4fd9             1   \n",
            "\n",
            "                         product_id                         seller_id  \\\n",
            "0  4244733e06e7ecb4970a6e2683c13e61  48436dade18ac8b2bce089ec2a041202   \n",
            "1  e5f2d52b802189ee658865ca93d83a8f  dd7ddc04e1b6c2c614352b383efe2d36   \n",
            "2  c777355d18b72b67abbeef9df44fd0fd  5b51032eddd242adc84c38acab88f23d   \n",
            "3  7634da152a4610f1595efa32f14722fc  9d7a1d34a5052409006425275ba1c2b4   \n",
            "4  ac6c3623068f30de03045865e4e10089  df560393f3a51e74553ab94004ba5c87   \n",
            "\n",
            "   shipping_limit_date   price  freight_value  \n",
            "0  2017-09-19 09:45:35   58.90          13.29  \n",
            "1  2017-05-03 11:05:13  239.90          19.93  \n",
            "2  2018-01-18 14:48:30  199.00          17.87  \n",
            "3  2018-08-15 10:10:18   12.99          12.79  \n",
            "4  2017-02-13 13:57:51  199.90          18.14  \n",
            "\n",
            "[5 rows x 21 columns]\n"
          ]
        }
      ]
    },
    {
      "cell_type": "markdown",
      "source": [
        "Insight:\n",
        "\n",
        "\n",
        "*   Dengan menghapus values yang duplikat data akan dapat dicisualisasikan secara baik.   \n",
        "*   Ordeing data pada 3 dataset agar visualisasi data lebih baik       \n"
      ],
      "metadata": {
        "id": "wWSmHV-Ux-lX"
      }
    },
    {
      "cell_type": "markdown",
      "metadata": {
        "id": "m950uJut3Upo"
      },
      "source": [
        "## Exploratory Data Analysis"
      ]
    },
    {
      "cell_type": "markdown",
      "source": [
        "### Explore ..."
      ],
      "metadata": {
        "id": "5-XYRJukywZV"
      }
    },
    {
      "cell_type": "code",
      "source": [
        "# menampilkan rangkuman parameter statistik\n",
        "main_data.describe(include=\"all\")"
      ],
      "metadata": {
        "colab": {
          "base_uri": "https://localhost:8080/",
          "height": 444
        },
        "id": "FyUdXtYJNhu3",
        "outputId": "955522ab-482e-403c-d9d8-e4cc29286e1d"
      },
      "execution_count": 9,
      "outputs": [
        {
          "output_type": "execute_result",
          "data": {
            "text/plain": [
              "                             customer_id                customer_unique_id  \\\n",
              "count                              32340                             32340   \n",
              "unique                             32340                             31962   \n",
              "top     06b8999e2fba1a1fbc88172c00ba8bc7  3e43e6105506432c953e165fb2acf44c   \n",
              "freq                                   1                                 5   \n",
              "mean                                 NaN                               NaN   \n",
              "std                                  NaN                               NaN   \n",
              "min                                  NaN                               NaN   \n",
              "25%                                  NaN                               NaN   \n",
              "50%                                  NaN                               NaN   \n",
              "75%                                  NaN                               NaN   \n",
              "max                                  NaN                               NaN   \n",
              "\n",
              "        customer_zip_code_prefix customer_city customer_state  \\\n",
              "count               32340.000000         32340          32340   \n",
              "unique                       NaN          2807             27   \n",
              "top                          NaN     sao paulo             SP   \n",
              "freq                         NaN          5114          13550   \n",
              "mean                35021.914533           NaN            NaN   \n",
              "std                 29737.976952           NaN            NaN   \n",
              "min                  1003.000000           NaN            NaN   \n",
              "25%                 11347.000000           NaN            NaN   \n",
              "50%                 24358.000000           NaN            NaN   \n",
              "75%                 58302.000000           NaN            NaN   \n",
              "max                 99990.000000           NaN            NaN   \n",
              "\n",
              "                              product_id product_category_name  \\\n",
              "count                              32340                 32340   \n",
              "unique                             32340                    73   \n",
              "top     1e9e8ef04dbcff4541ed26657ea517e5       cama_mesa_banho   \n",
              "freq                                   1                  3029   \n",
              "mean                                 NaN                   NaN   \n",
              "std                                  NaN                   NaN   \n",
              "min                                  NaN                   NaN   \n",
              "25%                                  NaN                   NaN   \n",
              "50%                                  NaN                   NaN   \n",
              "75%                                  NaN                   NaN   \n",
              "max                                  NaN                   NaN   \n",
              "\n",
              "        product_name_lenght  product_description_lenght  product_photos_qty  \\\n",
              "count          32340.000000                32340.000000        32340.000000   \n",
              "unique                  NaN                         NaN                 NaN   \n",
              "top                     NaN                         NaN                 NaN   \n",
              "freq                    NaN                         NaN                 NaN   \n",
              "mean              48.476592                  771.492393            2.188961   \n",
              "std               10.245699                  635.124831            1.736787   \n",
              "min                5.000000                    4.000000            1.000000   \n",
              "25%               42.000000                  339.000000            1.000000   \n",
              "50%               51.000000                  595.000000            1.000000   \n",
              "75%               57.000000                  972.000000            3.000000   \n",
              "max               76.000000                 3992.000000           20.000000   \n",
              "\n",
              "        ...  product_length_cm  product_height_cm  product_width_cm  \\\n",
              "count   ...       32340.000000       32340.000000      32340.000000   \n",
              "unique  ...                NaN                NaN               NaN   \n",
              "top     ...                NaN                NaN               NaN   \n",
              "freq    ...                NaN                NaN               NaN   \n",
              "mean    ...          30.854545          16.958813         23.208596   \n",
              "std     ...          16.955965          13.636115         12.078762   \n",
              "min     ...           7.000000           2.000000          6.000000   \n",
              "25%     ...          18.000000           8.000000         15.000000   \n",
              "50%     ...          25.000000          13.000000         20.000000   \n",
              "75%     ...          38.000000          21.000000         30.000000   \n",
              "max     ...         105.000000         105.000000        118.000000   \n",
              "\n",
              "                                order_id order_item_id  \\\n",
              "count                              32340  32340.000000   \n",
              "unique                             28317           NaN   \n",
              "top     1b15974a0141d54e36626dca3fdc731a           NaN   \n",
              "freq                                  20           NaN   \n",
              "mean                                 NaN      1.200093   \n",
              "std                                  NaN      0.710220   \n",
              "min                                  NaN      1.000000   \n",
              "25%                                  NaN      1.000000   \n",
              "50%                                  NaN      1.000000   \n",
              "75%                                  NaN      1.000000   \n",
              "max                                  NaN     20.000000   \n",
              "\n",
              "                              product_id                         seller_id  \\\n",
              "count                              32340                             32340   \n",
              "unique                             14634                              2312   \n",
              "top     422879e10f46682990de24d770e7f83d  6560211a19b47992c3666cc44a7e94c0   \n",
              "freq                                 151                               595   \n",
              "mean                                 NaN                               NaN   \n",
              "std                                  NaN                               NaN   \n",
              "min                                  NaN                               NaN   \n",
              "25%                                  NaN                               NaN   \n",
              "50%                                  NaN                               NaN   \n",
              "75%                                  NaN                               NaN   \n",
              "max                                  NaN                               NaN   \n",
              "\n",
              "        shipping_limit_date         price  freight_value  \n",
              "count                 32340  32340.000000   32340.000000  \n",
              "unique                27910           NaN            NaN  \n",
              "top     2018-03-01 02:50:48           NaN            NaN  \n",
              "freq                     20           NaN            NaN  \n",
              "mean                    NaN    120.460297      20.030920  \n",
              "std                     NaN    185.832871      15.928793  \n",
              "min                     NaN      0.850000       0.000000  \n",
              "25%                     NaN     39.900000      13.027500  \n",
              "50%                     NaN     74.900000      16.280000  \n",
              "75%                     NaN    134.917500      21.220000  \n",
              "max                     NaN   6735.000000     375.280000  \n",
              "\n",
              "[11 rows x 21 columns]"
            ],
            "text/html": [
              "\n",
              "  <div id=\"df-1c341083-07e2-43b4-887b-b66e0bafa112\" class=\"colab-df-container\">\n",
              "    <div>\n",
              "<style scoped>\n",
              "    .dataframe tbody tr th:only-of-type {\n",
              "        vertical-align: middle;\n",
              "    }\n",
              "\n",
              "    .dataframe tbody tr th {\n",
              "        vertical-align: top;\n",
              "    }\n",
              "\n",
              "    .dataframe thead th {\n",
              "        text-align: right;\n",
              "    }\n",
              "</style>\n",
              "<table border=\"1\" class=\"dataframe\">\n",
              "  <thead>\n",
              "    <tr style=\"text-align: right;\">\n",
              "      <th></th>\n",
              "      <th>customer_id</th>\n",
              "      <th>customer_unique_id</th>\n",
              "      <th>customer_zip_code_prefix</th>\n",
              "      <th>customer_city</th>\n",
              "      <th>customer_state</th>\n",
              "      <th>product_id</th>\n",
              "      <th>product_category_name</th>\n",
              "      <th>product_name_lenght</th>\n",
              "      <th>product_description_lenght</th>\n",
              "      <th>product_photos_qty</th>\n",
              "      <th>...</th>\n",
              "      <th>product_length_cm</th>\n",
              "      <th>product_height_cm</th>\n",
              "      <th>product_width_cm</th>\n",
              "      <th>order_id</th>\n",
              "      <th>order_item_id</th>\n",
              "      <th>product_id</th>\n",
              "      <th>seller_id</th>\n",
              "      <th>shipping_limit_date</th>\n",
              "      <th>price</th>\n",
              "      <th>freight_value</th>\n",
              "    </tr>\n",
              "  </thead>\n",
              "  <tbody>\n",
              "    <tr>\n",
              "      <th>count</th>\n",
              "      <td>32340</td>\n",
              "      <td>32340</td>\n",
              "      <td>32340.000000</td>\n",
              "      <td>32340</td>\n",
              "      <td>32340</td>\n",
              "      <td>32340</td>\n",
              "      <td>32340</td>\n",
              "      <td>32340.000000</td>\n",
              "      <td>32340.000000</td>\n",
              "      <td>32340.000000</td>\n",
              "      <td>...</td>\n",
              "      <td>32340.000000</td>\n",
              "      <td>32340.000000</td>\n",
              "      <td>32340.000000</td>\n",
              "      <td>32340</td>\n",
              "      <td>32340.000000</td>\n",
              "      <td>32340</td>\n",
              "      <td>32340</td>\n",
              "      <td>32340</td>\n",
              "      <td>32340.000000</td>\n",
              "      <td>32340.000000</td>\n",
              "    </tr>\n",
              "    <tr>\n",
              "      <th>unique</th>\n",
              "      <td>32340</td>\n",
              "      <td>31962</td>\n",
              "      <td>NaN</td>\n",
              "      <td>2807</td>\n",
              "      <td>27</td>\n",
              "      <td>32340</td>\n",
              "      <td>73</td>\n",
              "      <td>NaN</td>\n",
              "      <td>NaN</td>\n",
              "      <td>NaN</td>\n",
              "      <td>...</td>\n",
              "      <td>NaN</td>\n",
              "      <td>NaN</td>\n",
              "      <td>NaN</td>\n",
              "      <td>28317</td>\n",
              "      <td>NaN</td>\n",
              "      <td>14634</td>\n",
              "      <td>2312</td>\n",
              "      <td>27910</td>\n",
              "      <td>NaN</td>\n",
              "      <td>NaN</td>\n",
              "    </tr>\n",
              "    <tr>\n",
              "      <th>top</th>\n",
              "      <td>06b8999e2fba1a1fbc88172c00ba8bc7</td>\n",
              "      <td>3e43e6105506432c953e165fb2acf44c</td>\n",
              "      <td>NaN</td>\n",
              "      <td>sao paulo</td>\n",
              "      <td>SP</td>\n",
              "      <td>1e9e8ef04dbcff4541ed26657ea517e5</td>\n",
              "      <td>cama_mesa_banho</td>\n",
              "      <td>NaN</td>\n",
              "      <td>NaN</td>\n",
              "      <td>NaN</td>\n",
              "      <td>...</td>\n",
              "      <td>NaN</td>\n",
              "      <td>NaN</td>\n",
              "      <td>NaN</td>\n",
              "      <td>1b15974a0141d54e36626dca3fdc731a</td>\n",
              "      <td>NaN</td>\n",
              "      <td>422879e10f46682990de24d770e7f83d</td>\n",
              "      <td>6560211a19b47992c3666cc44a7e94c0</td>\n",
              "      <td>2018-03-01 02:50:48</td>\n",
              "      <td>NaN</td>\n",
              "      <td>NaN</td>\n",
              "    </tr>\n",
              "    <tr>\n",
              "      <th>freq</th>\n",
              "      <td>1</td>\n",
              "      <td>5</td>\n",
              "      <td>NaN</td>\n",
              "      <td>5114</td>\n",
              "      <td>13550</td>\n",
              "      <td>1</td>\n",
              "      <td>3029</td>\n",
              "      <td>NaN</td>\n",
              "      <td>NaN</td>\n",
              "      <td>NaN</td>\n",
              "      <td>...</td>\n",
              "      <td>NaN</td>\n",
              "      <td>NaN</td>\n",
              "      <td>NaN</td>\n",
              "      <td>20</td>\n",
              "      <td>NaN</td>\n",
              "      <td>151</td>\n",
              "      <td>595</td>\n",
              "      <td>20</td>\n",
              "      <td>NaN</td>\n",
              "      <td>NaN</td>\n",
              "    </tr>\n",
              "    <tr>\n",
              "      <th>mean</th>\n",
              "      <td>NaN</td>\n",
              "      <td>NaN</td>\n",
              "      <td>35021.914533</td>\n",
              "      <td>NaN</td>\n",
              "      <td>NaN</td>\n",
              "      <td>NaN</td>\n",
              "      <td>NaN</td>\n",
              "      <td>48.476592</td>\n",
              "      <td>771.492393</td>\n",
              "      <td>2.188961</td>\n",
              "      <td>...</td>\n",
              "      <td>30.854545</td>\n",
              "      <td>16.958813</td>\n",
              "      <td>23.208596</td>\n",
              "      <td>NaN</td>\n",
              "      <td>1.200093</td>\n",
              "      <td>NaN</td>\n",
              "      <td>NaN</td>\n",
              "      <td>NaN</td>\n",
              "      <td>120.460297</td>\n",
              "      <td>20.030920</td>\n",
              "    </tr>\n",
              "    <tr>\n",
              "      <th>std</th>\n",
              "      <td>NaN</td>\n",
              "      <td>NaN</td>\n",
              "      <td>29737.976952</td>\n",
              "      <td>NaN</td>\n",
              "      <td>NaN</td>\n",
              "      <td>NaN</td>\n",
              "      <td>NaN</td>\n",
              "      <td>10.245699</td>\n",
              "      <td>635.124831</td>\n",
              "      <td>1.736787</td>\n",
              "      <td>...</td>\n",
              "      <td>16.955965</td>\n",
              "      <td>13.636115</td>\n",
              "      <td>12.078762</td>\n",
              "      <td>NaN</td>\n",
              "      <td>0.710220</td>\n",
              "      <td>NaN</td>\n",
              "      <td>NaN</td>\n",
              "      <td>NaN</td>\n",
              "      <td>185.832871</td>\n",
              "      <td>15.928793</td>\n",
              "    </tr>\n",
              "    <tr>\n",
              "      <th>min</th>\n",
              "      <td>NaN</td>\n",
              "      <td>NaN</td>\n",
              "      <td>1003.000000</td>\n",
              "      <td>NaN</td>\n",
              "      <td>NaN</td>\n",
              "      <td>NaN</td>\n",
              "      <td>NaN</td>\n",
              "      <td>5.000000</td>\n",
              "      <td>4.000000</td>\n",
              "      <td>1.000000</td>\n",
              "      <td>...</td>\n",
              "      <td>7.000000</td>\n",
              "      <td>2.000000</td>\n",
              "      <td>6.000000</td>\n",
              "      <td>NaN</td>\n",
              "      <td>1.000000</td>\n",
              "      <td>NaN</td>\n",
              "      <td>NaN</td>\n",
              "      <td>NaN</td>\n",
              "      <td>0.850000</td>\n",
              "      <td>0.000000</td>\n",
              "    </tr>\n",
              "    <tr>\n",
              "      <th>25%</th>\n",
              "      <td>NaN</td>\n",
              "      <td>NaN</td>\n",
              "      <td>11347.000000</td>\n",
              "      <td>NaN</td>\n",
              "      <td>NaN</td>\n",
              "      <td>NaN</td>\n",
              "      <td>NaN</td>\n",
              "      <td>42.000000</td>\n",
              "      <td>339.000000</td>\n",
              "      <td>1.000000</td>\n",
              "      <td>...</td>\n",
              "      <td>18.000000</td>\n",
              "      <td>8.000000</td>\n",
              "      <td>15.000000</td>\n",
              "      <td>NaN</td>\n",
              "      <td>1.000000</td>\n",
              "      <td>NaN</td>\n",
              "      <td>NaN</td>\n",
              "      <td>NaN</td>\n",
              "      <td>39.900000</td>\n",
              "      <td>13.027500</td>\n",
              "    </tr>\n",
              "    <tr>\n",
              "      <th>50%</th>\n",
              "      <td>NaN</td>\n",
              "      <td>NaN</td>\n",
              "      <td>24358.000000</td>\n",
              "      <td>NaN</td>\n",
              "      <td>NaN</td>\n",
              "      <td>NaN</td>\n",
              "      <td>NaN</td>\n",
              "      <td>51.000000</td>\n",
              "      <td>595.000000</td>\n",
              "      <td>1.000000</td>\n",
              "      <td>...</td>\n",
              "      <td>25.000000</td>\n",
              "      <td>13.000000</td>\n",
              "      <td>20.000000</td>\n",
              "      <td>NaN</td>\n",
              "      <td>1.000000</td>\n",
              "      <td>NaN</td>\n",
              "      <td>NaN</td>\n",
              "      <td>NaN</td>\n",
              "      <td>74.900000</td>\n",
              "      <td>16.280000</td>\n",
              "    </tr>\n",
              "    <tr>\n",
              "      <th>75%</th>\n",
              "      <td>NaN</td>\n",
              "      <td>NaN</td>\n",
              "      <td>58302.000000</td>\n",
              "      <td>NaN</td>\n",
              "      <td>NaN</td>\n",
              "      <td>NaN</td>\n",
              "      <td>NaN</td>\n",
              "      <td>57.000000</td>\n",
              "      <td>972.000000</td>\n",
              "      <td>3.000000</td>\n",
              "      <td>...</td>\n",
              "      <td>38.000000</td>\n",
              "      <td>21.000000</td>\n",
              "      <td>30.000000</td>\n",
              "      <td>NaN</td>\n",
              "      <td>1.000000</td>\n",
              "      <td>NaN</td>\n",
              "      <td>NaN</td>\n",
              "      <td>NaN</td>\n",
              "      <td>134.917500</td>\n",
              "      <td>21.220000</td>\n",
              "    </tr>\n",
              "    <tr>\n",
              "      <th>max</th>\n",
              "      <td>NaN</td>\n",
              "      <td>NaN</td>\n",
              "      <td>99990.000000</td>\n",
              "      <td>NaN</td>\n",
              "      <td>NaN</td>\n",
              "      <td>NaN</td>\n",
              "      <td>NaN</td>\n",
              "      <td>76.000000</td>\n",
              "      <td>3992.000000</td>\n",
              "      <td>20.000000</td>\n",
              "      <td>...</td>\n",
              "      <td>105.000000</td>\n",
              "      <td>105.000000</td>\n",
              "      <td>118.000000</td>\n",
              "      <td>NaN</td>\n",
              "      <td>20.000000</td>\n",
              "      <td>NaN</td>\n",
              "      <td>NaN</td>\n",
              "      <td>NaN</td>\n",
              "      <td>6735.000000</td>\n",
              "      <td>375.280000</td>\n",
              "    </tr>\n",
              "  </tbody>\n",
              "</table>\n",
              "<p>11 rows × 21 columns</p>\n",
              "</div>\n",
              "    <div class=\"colab-df-buttons\">\n",
              "\n",
              "  <div class=\"colab-df-container\">\n",
              "    <button class=\"colab-df-convert\" onclick=\"convertToInteractive('df-1c341083-07e2-43b4-887b-b66e0bafa112')\"\n",
              "            title=\"Convert this dataframe to an interactive table.\"\n",
              "            style=\"display:none;\">\n",
              "\n",
              "  <svg xmlns=\"http://www.w3.org/2000/svg\" height=\"24px\" viewBox=\"0 -960 960 960\">\n",
              "    <path d=\"M120-120v-720h720v720H120Zm60-500h600v-160H180v160Zm220 220h160v-160H400v160Zm0 220h160v-160H400v160ZM180-400h160v-160H180v160Zm440 0h160v-160H620v160ZM180-180h160v-160H180v160Zm440 0h160v-160H620v160Z\"/>\n",
              "  </svg>\n",
              "    </button>\n",
              "\n",
              "  <style>\n",
              "    .colab-df-container {\n",
              "      display:flex;\n",
              "      gap: 12px;\n",
              "    }\n",
              "\n",
              "    .colab-df-convert {\n",
              "      background-color: #E8F0FE;\n",
              "      border: none;\n",
              "      border-radius: 50%;\n",
              "      cursor: pointer;\n",
              "      display: none;\n",
              "      fill: #1967D2;\n",
              "      height: 32px;\n",
              "      padding: 0 0 0 0;\n",
              "      width: 32px;\n",
              "    }\n",
              "\n",
              "    .colab-df-convert:hover {\n",
              "      background-color: #E2EBFA;\n",
              "      box-shadow: 0px 1px 2px rgba(60, 64, 67, 0.3), 0px 1px 3px 1px rgba(60, 64, 67, 0.15);\n",
              "      fill: #174EA6;\n",
              "    }\n",
              "\n",
              "    .colab-df-buttons div {\n",
              "      margin-bottom: 4px;\n",
              "    }\n",
              "\n",
              "    [theme=dark] .colab-df-convert {\n",
              "      background-color: #3B4455;\n",
              "      fill: #D2E3FC;\n",
              "    }\n",
              "\n",
              "    [theme=dark] .colab-df-convert:hover {\n",
              "      background-color: #434B5C;\n",
              "      box-shadow: 0px 1px 3px 1px rgba(0, 0, 0, 0.15);\n",
              "      filter: drop-shadow(0px 1px 2px rgba(0, 0, 0, 0.3));\n",
              "      fill: #FFFFFF;\n",
              "    }\n",
              "  </style>\n",
              "\n",
              "    <script>\n",
              "      const buttonEl =\n",
              "        document.querySelector('#df-1c341083-07e2-43b4-887b-b66e0bafa112 button.colab-df-convert');\n",
              "      buttonEl.style.display =\n",
              "        google.colab.kernel.accessAllowed ? 'block' : 'none';\n",
              "\n",
              "      async function convertToInteractive(key) {\n",
              "        const element = document.querySelector('#df-1c341083-07e2-43b4-887b-b66e0bafa112');\n",
              "        const dataTable =\n",
              "          await google.colab.kernel.invokeFunction('convertToInteractive',\n",
              "                                                    [key], {});\n",
              "        if (!dataTable) return;\n",
              "\n",
              "        const docLinkHtml = 'Like what you see? Visit the ' +\n",
              "          '<a target=\"_blank\" href=https://colab.research.google.com/notebooks/data_table.ipynb>data table notebook</a>'\n",
              "          + ' to learn more about interactive tables.';\n",
              "        element.innerHTML = '';\n",
              "        dataTable['output_type'] = 'display_data';\n",
              "        await google.colab.output.renderOutput(dataTable, element);\n",
              "        const docLink = document.createElement('div');\n",
              "        docLink.innerHTML = docLinkHtml;\n",
              "        element.appendChild(docLink);\n",
              "      }\n",
              "    </script>\n",
              "  </div>\n",
              "\n",
              "\n",
              "<div id=\"df-637b8412-a600-4c2d-a17e-aa762f507b2d\">\n",
              "  <button class=\"colab-df-quickchart\" onclick=\"quickchart('df-637b8412-a600-4c2d-a17e-aa762f507b2d')\"\n",
              "            title=\"Suggest charts\"\n",
              "            style=\"display:none;\">\n",
              "\n",
              "<svg xmlns=\"http://www.w3.org/2000/svg\" height=\"24px\"viewBox=\"0 0 24 24\"\n",
              "     width=\"24px\">\n",
              "    <g>\n",
              "        <path d=\"M19 3H5c-1.1 0-2 .9-2 2v14c0 1.1.9 2 2 2h14c1.1 0 2-.9 2-2V5c0-1.1-.9-2-2-2zM9 17H7v-7h2v7zm4 0h-2V7h2v10zm4 0h-2v-4h2v4z\"/>\n",
              "    </g>\n",
              "</svg>\n",
              "  </button>\n",
              "\n",
              "<style>\n",
              "  .colab-df-quickchart {\n",
              "      --bg-color: #E8F0FE;\n",
              "      --fill-color: #1967D2;\n",
              "      --hover-bg-color: #E2EBFA;\n",
              "      --hover-fill-color: #174EA6;\n",
              "      --disabled-fill-color: #AAA;\n",
              "      --disabled-bg-color: #DDD;\n",
              "  }\n",
              "\n",
              "  [theme=dark] .colab-df-quickchart {\n",
              "      --bg-color: #3B4455;\n",
              "      --fill-color: #D2E3FC;\n",
              "      --hover-bg-color: #434B5C;\n",
              "      --hover-fill-color: #FFFFFF;\n",
              "      --disabled-bg-color: #3B4455;\n",
              "      --disabled-fill-color: #666;\n",
              "  }\n",
              "\n",
              "  .colab-df-quickchart {\n",
              "    background-color: var(--bg-color);\n",
              "    border: none;\n",
              "    border-radius: 50%;\n",
              "    cursor: pointer;\n",
              "    display: none;\n",
              "    fill: var(--fill-color);\n",
              "    height: 32px;\n",
              "    padding: 0;\n",
              "    width: 32px;\n",
              "  }\n",
              "\n",
              "  .colab-df-quickchart:hover {\n",
              "    background-color: var(--hover-bg-color);\n",
              "    box-shadow: 0 1px 2px rgba(60, 64, 67, 0.3), 0 1px 3px 1px rgba(60, 64, 67, 0.15);\n",
              "    fill: var(--button-hover-fill-color);\n",
              "  }\n",
              "\n",
              "  .colab-df-quickchart-complete:disabled,\n",
              "  .colab-df-quickchart-complete:disabled:hover {\n",
              "    background-color: var(--disabled-bg-color);\n",
              "    fill: var(--disabled-fill-color);\n",
              "    box-shadow: none;\n",
              "  }\n",
              "\n",
              "  .colab-df-spinner {\n",
              "    border: 2px solid var(--fill-color);\n",
              "    border-color: transparent;\n",
              "    border-bottom-color: var(--fill-color);\n",
              "    animation:\n",
              "      spin 1s steps(1) infinite;\n",
              "  }\n",
              "\n",
              "  @keyframes spin {\n",
              "    0% {\n",
              "      border-color: transparent;\n",
              "      border-bottom-color: var(--fill-color);\n",
              "      border-left-color: var(--fill-color);\n",
              "    }\n",
              "    20% {\n",
              "      border-color: transparent;\n",
              "      border-left-color: var(--fill-color);\n",
              "      border-top-color: var(--fill-color);\n",
              "    }\n",
              "    30% {\n",
              "      border-color: transparent;\n",
              "      border-left-color: var(--fill-color);\n",
              "      border-top-color: var(--fill-color);\n",
              "      border-right-color: var(--fill-color);\n",
              "    }\n",
              "    40% {\n",
              "      border-color: transparent;\n",
              "      border-right-color: var(--fill-color);\n",
              "      border-top-color: var(--fill-color);\n",
              "    }\n",
              "    60% {\n",
              "      border-color: transparent;\n",
              "      border-right-color: var(--fill-color);\n",
              "    }\n",
              "    80% {\n",
              "      border-color: transparent;\n",
              "      border-right-color: var(--fill-color);\n",
              "      border-bottom-color: var(--fill-color);\n",
              "    }\n",
              "    90% {\n",
              "      border-color: transparent;\n",
              "      border-bottom-color: var(--fill-color);\n",
              "    }\n",
              "  }\n",
              "</style>\n",
              "\n",
              "  <script>\n",
              "    async function quickchart(key) {\n",
              "      const quickchartButtonEl =\n",
              "        document.querySelector('#' + key + ' button');\n",
              "      quickchartButtonEl.disabled = true;  // To prevent multiple clicks.\n",
              "      quickchartButtonEl.classList.add('colab-df-spinner');\n",
              "      try {\n",
              "        const charts = await google.colab.kernel.invokeFunction(\n",
              "            'suggestCharts', [key], {});\n",
              "      } catch (error) {\n",
              "        console.error('Error during call to suggestCharts:', error);\n",
              "      }\n",
              "      quickchartButtonEl.classList.remove('colab-df-spinner');\n",
              "      quickchartButtonEl.classList.add('colab-df-quickchart-complete');\n",
              "    }\n",
              "    (() => {\n",
              "      let quickchartButtonEl =\n",
              "        document.querySelector('#df-637b8412-a600-4c2d-a17e-aa762f507b2d button');\n",
              "      quickchartButtonEl.style.display =\n",
              "        google.colab.kernel.accessAllowed ? 'block' : 'none';\n",
              "    })();\n",
              "  </script>\n",
              "</div>\n",
              "\n",
              "    </div>\n",
              "  </div>\n"
            ],
            "application/vnd.google.colaboratory.intrinsic+json": {
              "type": "dataframe"
            }
          },
          "metadata": {},
          "execution_count": 9
        }
      ]
    },
    {
      "cell_type": "code",
      "source": [
        "# menampilkan data histogram\n",
        "main_data.hist()"
      ],
      "metadata": {
        "colab": {
          "base_uri": "https://localhost:8080/",
          "height": 660
        },
        "id": "dmE_l-59OHDV",
        "outputId": "55376477-4b51-465a-a0f4-c205a72615f1"
      },
      "execution_count": 10,
      "outputs": [
        {
          "output_type": "execute_result",
          "data": {
            "text/plain": [
              "array([[<Axes: title={'center': 'customer_zip_code_prefix'}>,\n",
              "        <Axes: title={'center': 'product_name_lenght'}>,\n",
              "        <Axes: title={'center': 'product_description_lenght'}>],\n",
              "       [<Axes: title={'center': 'product_photos_qty'}>,\n",
              "        <Axes: title={'center': 'product_weight_g'}>,\n",
              "        <Axes: title={'center': 'product_length_cm'}>],\n",
              "       [<Axes: title={'center': 'product_height_cm'}>,\n",
              "        <Axes: title={'center': 'product_width_cm'}>,\n",
              "        <Axes: title={'center': 'order_item_id'}>],\n",
              "       [<Axes: title={'center': 'price'}>,\n",
              "        <Axes: title={'center': 'freight_value'}>, <Axes: >]],\n",
              "      dtype=object)"
            ]
          },
          "metadata": {},
          "execution_count": 10
        },
        {
          "output_type": "display_data",
          "data": {
            "text/plain": [
              "<Figure size 640x480 with 12 Axes>"
            ],
            "image/png": "[encoded data removed]"
          },
          "metadata": {}
        }
      ]
    },
    {
      "cell_type": "code",
      "source": [
        "# Membuat pivot table berdasarkan kolom yang diberikan\n",
        "pivot_table = main_data.pivot_table(\n",
        "    values=[\n",
        "        \"product_name_lenght\",\n",
        "        \"product_description_lenght\",\n",
        "        \"product_photos_qty\",\n",
        "        \"product_weight_g\",\n",
        "        \"product_length_cm\",\n",
        "        \"product_height_cm\",\n",
        "        \"product_width_cm\"\n",
        "    ],\n",
        "    index=\"product_category_name\",\n",
        "    aggfunc=\"mean\"\n",
        ")\n",
        "\n",
        "# Mengatur ulang indeks dan menampilkan pivot table\n",
        "pivot_table = pivot_table.reset_index()\n",
        "st.subheader(\"Pivot Table: Average Product Attributes by Category\")\n",
        "st.write(pivot_table)\n",
        "print(pivot_table)"
      ],
      "metadata": {
        "colab": {
          "base_uri": "https://localhost:8080/"
        },
        "id": "GAs1Yk43Phly",
        "outputId": "b3d91815-2cc2-4eee-fb63-fd0d3ca2a6f9"
      },
      "execution_count": 11,
      "outputs": [
        {
          "output_type": "stream",
          "name": "stderr",
          "text": [
            "2024-12-22 02:45:44.204 Thread 'MainThread': missing ScriptRunContext! This warning can be ignored when running in bare mode.\n",
            "2024-12-22 02:45:44.215 Thread 'MainThread': missing ScriptRunContext! This warning can be ignored when running in bare mode.\n",
            "2024-12-22 02:45:44.228 Thread 'MainThread': missing ScriptRunContext! This warning can be ignored when running in bare mode.\n",
            "2024-12-22 02:45:44.230 Thread 'MainThread': missing ScriptRunContext! This warning can be ignored when running in bare mode.\n"
          ]
        },
        {
          "output_type": "stream",
          "name": "stdout",
          "text": [
            "        product_category_name  product_description_lenght  product_height_cm  \\\n",
            "0   agro_industria_e_comercio                  807.756757          28.945946   \n",
            "1                   alimentos                 1136.512195          14.682927   \n",
            "2           alimentos_bebidas                  983.134615          15.951923   \n",
            "3                       artes                  678.345455          11.800000   \n",
            "4          artes_e_artesanato                  620.421053           9.789474   \n",
            "..                        ...                         ...                ...   \n",
            "68    sinalizacao_e_seguranca                  816.849462          23.892473   \n",
            "69   tablets_impressao_imagem                  676.444444           9.444444   \n",
            "70                  telefonia                  755.327160           6.853616   \n",
            "71             telefonia_fixa                 1017.387931          10.741379   \n",
            "72      utilidades_domesticas                  674.179872          22.337901   \n",
            "\n",
            "    product_length_cm  product_name_lenght  product_photos_qty  \\\n",
            "0           36.527027            49.108108            2.310811   \n",
            "1           21.292683            46.304878            1.939024   \n",
            "2           23.403846            44.509615            1.894231   \n",
            "3           35.927273            47.090909            2.163636   \n",
            "4           28.368421            44.263158            3.000000   \n",
            "..                ...                  ...                 ...   \n",
            "68          30.505376            47.838710            2.483871   \n",
            "69          28.111111            54.000000            3.000000   \n",
            "70          18.432981            50.450617            2.759259   \n",
            "71          20.646552            48.422414            2.991379   \n",
            "72          31.859957            48.017559            2.212848   \n",
            "\n",
            "    product_weight_g  product_width_cm  \n",
            "0        5263.405405         25.810811  \n",
            "1         923.414634         17.719512  \n",
            "2        1307.932692         18.394231  \n",
            "3        1691.763636         23.363636  \n",
            "4        1164.578947         21.052632  \n",
            "..               ...               ...  \n",
            "68       2969.817204         20.817204  \n",
            "69        381.444444         21.555556  \n",
            "70        236.506173         13.248677  \n",
            "71        660.827586         16.500000  \n",
            "72       3020.793576         24.821413  \n",
            "\n",
            "[73 rows x 8 columns]\n"
          ]
        }
      ]
    },
    {
      "cell_type": "markdown",
      "source": [
        "Insight:\n",
        "\n",
        "\n",
        "*   Pada pertanyaan bisnis  2 saya menggabungkan harga pesanan (2) jika dibawah atau sama dengan 2% agar visualisasi lebih baik      \n",
        "*   Kota dengan jumlah order tertinggi adalah State code SP dengan total 41,746 pesanan. Ini menunjukkan bahwa wilayah tersebut adalah pasar utama untuk bisnis.\n"
      ],
      "metadata": {
        "id": "6HhEPwcvyz0D"
      }
    },
    {
      "cell_type": "markdown",
      "metadata": {
        "id": "LZucLPUW3Ul3"
      },
      "source": [
        "##Visualization & Explanatory Analysis"
      ]
    },
    {
      "cell_type": "markdown",
      "metadata": {
        "id": "cSuVyQeI4S1u"
      },
      "source": [
        "###Pertanyaan 1"
      ]
    },
    {
      "cell_type": "code",
      "execution_count": 12,
      "metadata": {
        "colab": {
          "base_uri": "https://localhost:8080/"
        },
        "id": "V1eyV5z9gmWF",
        "outputId": "6eda6ce9-41fc-4a41-c02a-8c7ad2c66a9f"
      },
      "outputs": [
        {
          "output_type": "stream",
          "name": "stderr",
          "text": [
            "2024-12-22 02:45:44.261 Thread 'MainThread': missing ScriptRunContext! This warning can be ignored when running in bare mode.\n",
            "2024-12-22 02:45:44.266 Thread 'MainThread': missing ScriptRunContext! This warning can be ignored when running in bare mode.\n"
          ]
        },
        {
          "output_type": "execute_result",
          "data": {
            "text/plain": [
              "DeltaGenerator()"
            ]
          },
          "metadata": {},
          "execution_count": 12
        }
      ],
      "source": [
        "#Judul Dashboard\n",
        "st.title(\"Business Orders Dashboard\")"
      ]
    },
    {
      "cell_type": "code",
      "execution_count": 13,
      "metadata": {
        "id": "iwzmvZOwshMl"
      },
      "outputs": [],
      "source": [
        "# Mengelompokkan data berdasarkan state dan menghitung jumlah pesanan\n",
        "state_order_counts = main_data.groupby(\"customer_state\")[\"customer_id\"].count().reset_index()\n",
        "state_order_counts.columns = [\"State\", \"Number of Orders\"]\n",
        "state_order_counts = state_order_counts.sort_values(by=\"Number of Orders\", ascending=False)\n",
        "\n",
        "# Menghitung jumlah total pesanan untuk setiap state\n",
        "total_orders = state_order_counts['Number of Orders'].sum()\n",
        "\n",
        "# Mengelompokkan dan menjumlahkan untuk kategori \"Other\"\n",
        "state_order_counts_grouped = state_order_counts.groupby('State')['Number of Orders'].sum().reset_index()\n"
      ]
    },
    {
      "cell_type": "code",
      "execution_count": 14,
      "metadata": {
        "colab": {
          "base_uri": "https://localhost:8080/"
        },
        "id": "l0InWzwW4VYH",
        "outputId": "d4b723ea-6e4a-4568-a73d-90828481e191"
      },
      "outputs": [
        {
          "output_type": "stream",
          "name": "stderr",
          "text": [
            "2024-12-22 02:45:44.358 Thread 'MainThread': missing ScriptRunContext! This warning can be ignored when running in bare mode.\n",
            "2024-12-22 02:45:44.369 Thread 'MainThread': missing ScriptRunContext! This warning can be ignored when running in bare mode.\n",
            "2024-12-22 02:45:44.372 Thread 'MainThread': missing ScriptRunContext! This warning can be ignored when running in bare mode.\n",
            "2024-12-22 02:45:44.375 Thread 'MainThread': missing ScriptRunContext! This warning can be ignored when running in bare mode.\n",
            "2024-12-22 02:45:44.383 Thread 'MainThread': missing ScriptRunContext! This warning can be ignored when running in bare mode.\n",
            "2024-12-22 02:45:44.385 Thread 'MainThread': missing ScriptRunContext! This warning can be ignored when running in bare mode.\n",
            "2024-12-22 02:45:44.388 Thread 'MainThread': missing ScriptRunContext! This warning can be ignored when running in bare mode.\n",
            "2024-12-22 02:45:44.390 Thread 'MainThread': missing ScriptRunContext! This warning can be ignored when running in bare mode.\n",
            "2024-12-22 02:45:44.394 Thread 'MainThread': missing ScriptRunContext! This warning can be ignored when running in bare mode.\n",
            "2024-12-22 02:45:44.395 Thread 'MainThread': missing ScriptRunContext! This warning can be ignored when running in bare mode.\n",
            "2024-12-22 02:45:44.400 Thread 'MainThread': missing ScriptRunContext! This warning can be ignored when running in bare mode.\n",
            "2024-12-22 02:45:44.401 Thread 'MainThread': missing ScriptRunContext! This warning can be ignored when running in bare mode.\n",
            "2024-12-22 02:45:44.404 Thread 'MainThread': missing ScriptRunContext! This warning can be ignored when running in bare mode.\n",
            "2024-12-22 02:45:44.406 Thread 'MainThread': missing ScriptRunContext! This warning can be ignored when running in bare mode.\n",
            "2024-12-22 02:45:44.411 Thread 'MainThread': missing ScriptRunContext! This warning can be ignored when running in bare mode.\n",
            "2024-12-22 02:45:44.413 Thread 'MainThread': missing ScriptRunContext! This warning can be ignored when running in bare mode.\n",
            "2024-12-22 02:45:44.972 Thread 'MainThread': missing ScriptRunContext! This warning can be ignored when running in bare mode.\n",
            "2024-12-22 02:45:44.978 Thread 'MainThread': missing ScriptRunContext! This warning can be ignored when running in bare mode.\n",
            "2024-12-22 02:45:44.989 Thread 'MainThread': missing ScriptRunContext! This warning can be ignored when running in bare mode.\n",
            "2024-12-22 02:45:44.995 Thread 'MainThread': missing ScriptRunContext! This warning can be ignored when running in bare mode.\n",
            "2024-12-22 02:45:45.002 Thread 'MainThread': missing ScriptRunContext! This warning can be ignored when running in bare mode.\n",
            "2024-12-22 02:45:45.006 Thread 'MainThread': missing ScriptRunContext! This warning can be ignored when running in bare mode.\n"
          ]
        },
        {
          "output_type": "execute_result",
          "data": {
            "text/plain": [
              "DeltaGenerator()"
            ]
          },
          "metadata": {},
          "execution_count": 14
        }
      ],
      "source": [
        "\n",
        "# Membuat Header\n",
        "st.header(\"1. Kota (State) yang Memiliki Pesanan (Orders) Terbanyak\")\n",
        "\n",
        "# Membuat checkbox untuk semua state untuk filtering\n",
        "selected_states = st.multiselect(\n",
        "    \"Select States to Filter\",\n",
        "    options=state_order_counts_grouped['State'].unique(),\n",
        "    default=state_order_counts_grouped['State'].unique()[:2]  # Default to first two states\n",
        ")\n",
        "\n",
        "# Membuat slider untuk filtering range order\n",
        "min_orders, max_orders = st.slider(\n",
        "    \"Select the range of Number of Orders\",\n",
        "    min_value=int(state_order_counts_grouped['Number of Orders'].min()),\n",
        "    max_value=int(state_order_counts_grouped['Number of Orders'].max()),\n",
        "    value=(0, int(state_order_counts_grouped['Number of Orders'].max()))  # Default to full range\n",
        ")\n",
        "\n",
        "# Filter data berdasarkan filter di atas\n",
        "filtered_data = state_order_counts_grouped[\n",
        "    (state_order_counts_grouped['State'].isin(selected_states)) &\n",
        "    (state_order_counts_grouped['Number of Orders'].between(min_orders, max_orders))\n",
        "]\n",
        "\n",
        "# Menampilkan data yang telah ter-filter\n",
        "st.subheader(\"Filtered States by Number of Orders\")\n",
        "st.write(filtered_data)\n",
        "\n",
        "# Membuat pie chart untuk states yang telah ter-filter\n",
        "fig_pie_chart = px.pie(\n",
        "    filtered_data,\n",
        "    values=\"Number of Orders\",\n",
        "    names=\"State\",\n",
        "    title=\"States Contribution by Number of Orders (Filtered)\",\n",
        "    hole=0.4,\n",
        "    labels={'State':'State', 'Number of Orders':'Number of Orders'},\n",
        "    hover_data=[\"Number of Orders\"]\n",
        ")\n",
        "\n",
        "# Menampilkan pie chart\n",
        "st.subheader(\"Pie Chart: Filtered States by Number of Orders\")\n",
        "st.plotly_chart(fig_pie_chart)\n"
      ]
    },
    {
      "cell_type": "markdown",
      "metadata": {
        "id": "6RgV0YS44Ss-"
      },
      "source": [
        "### Pertanyaan 2"
      ]
    },
    {
      "cell_type": "code",
      "execution_count": 15,
      "metadata": {
        "id": "nzA3j9cGjdFd"
      },
      "outputs": [],
      "source": [
        "\n",
        "# Mengelompokkan berdasarkan kategori produk dan menghitung total harga pesanan\n",
        "category_price_totals = main_data.groupby(\"product_category_name\")[\"price\"].sum().reset_index()\n",
        "category_price_totals.columns = [\"Product Category\", \"Total Order Price\"]\n",
        "category_price_totals = category_price_totals.sort_values(by=\"Total Order Price\", ascending=False)\n",
        "\n",
        "# Menghitung jumlah total harga pesanan untuk setiap kategori produk\n",
        "total_price = category_price_totals['Total Order Price'].sum()\n",
        "\n",
        "# Menghitung persentase dan menggabungkan yang kurang dari 2% menjadi \"Other\"\n",
        "category_price_totals['Percentage'] = (category_price_totals['Total Order Price'] / total_price) * 100\n",
        "category_price_totals['Product Category'] = category_price_totals['Product Category'].where(category_price_totals['Percentage'] >= 2, 'Other')\n",
        "\n",
        "# Mengelompokkan dan menjumlahkan untuk kategori \"Other\"\n",
        "category_price_totals_grouped = category_price_totals.groupby('Product Category')['Total Order Price'].sum().reset_index()\n",
        "\n",
        "# Membuat pie chart untuk semua kategori produk dengan kategori \"Other\"\n",
        "fig_pie_chart_category = px.pie(\n",
        "    category_price_totals_grouped,\n",
        "    values=\"Total Order Price\",\n",
        "    names=\"Product Category\",\n",
        "    title=\"Product Categories Contribution by Total Order Price (Including 'Other'[sum that below 2%])\",\n",
        "    hole=0.4,\n",
        "    labels={'Product Category':'Product Category', 'Total Order Price':'Total Order Price'},\n",
        "    hover_data=[\"Total Order Price\"]\n",
        ")\n"
      ]
    },
    {
      "cell_type": "code",
      "execution_count": 16,
      "metadata": {
        "colab": {
          "base_uri": "https://localhost:8080/"
        },
        "id": "ObgjI4xChnvJ",
        "outputId": "dbcd4069-bf6a-4fc4-ef25-9c80d1f2c595"
      },
      "outputs": [
        {
          "output_type": "stream",
          "name": "stderr",
          "text": [
            "2024-12-22 02:45:45.228 Thread 'MainThread': missing ScriptRunContext! This warning can be ignored when running in bare mode.\n",
            "2024-12-22 02:45:45.235 Thread 'MainThread': missing ScriptRunContext! This warning can be ignored when running in bare mode.\n",
            "2024-12-22 02:45:45.238 Thread 'MainThread': missing ScriptRunContext! This warning can be ignored when running in bare mode.\n",
            "2024-12-22 02:45:45.240 Thread 'MainThread': missing ScriptRunContext! This warning can be ignored when running in bare mode.\n",
            "2024-12-22 02:45:45.249 Thread 'MainThread': missing ScriptRunContext! This warning can be ignored when running in bare mode.\n",
            "2024-12-22 02:45:45.251 Thread 'MainThread': missing ScriptRunContext! This warning can be ignored when running in bare mode.\n",
            "2024-12-22 02:45:45.479 Thread 'MainThread': missing ScriptRunContext! This warning can be ignored when running in bare mode.\n",
            "2024-12-22 02:45:45.481 Thread 'MainThread': missing ScriptRunContext! This warning can be ignored when running in bare mode.\n",
            "2024-12-22 02:45:45.487 Thread 'MainThread': missing ScriptRunContext! This warning can be ignored when running in bare mode.\n",
            "2024-12-22 02:45:45.493 Thread 'MainThread': missing ScriptRunContext! This warning can be ignored when running in bare mode.\n",
            "2024-12-22 02:45:45.496 Thread 'MainThread': missing ScriptRunContext! This warning can be ignored when running in bare mode.\n",
            "2024-12-22 02:45:45.499 Thread 'MainThread': missing ScriptRunContext! This warning can be ignored when running in bare mode.\n",
            "2024-12-22 02:45:45.514 Thread 'MainThread': missing ScriptRunContext! This warning can be ignored when running in bare mode.\n",
            "2024-12-22 02:45:45.516 Thread 'MainThread': missing ScriptRunContext! This warning can be ignored when running in bare mode.\n",
            "2024-12-22 02:45:45.520 Thread 'MainThread': missing ScriptRunContext! This warning can be ignored when running in bare mode.\n",
            "2024-12-22 02:45:45.526 Thread 'MainThread': missing ScriptRunContext! This warning can be ignored when running in bare mode.\n"
          ]
        },
        {
          "output_type": "execute_result",
          "data": {
            "text/plain": [
              "DeltaGenerator()"
            ]
          },
          "metadata": {},
          "execution_count": 16
        }
      ],
      "source": [
        "\n",
        "# Menampilkan subheader\n",
        "st.header(\"2. Berapa Total Harga Pesanan per Kategori Produk?\")\n",
        "\n",
        "# Menampilkan 10 kategori teratas berdasarkan total harga pesanan\n",
        "st.subheader(\"Top 10 Product Categories by Total Order Price\")\n",
        "st.write(category_price_totals.head(10))\n",
        "\n",
        "# Membuat bar chart untuk total harga berdasarkan kategori produk\n",
        "fig_category_price = px.bar(\n",
        "    category_price_totals.head(10),\n",
        "    x=\"Product Category\",\n",
        "    y=\"Total Order Price\",\n",
        "    title=\"Top 10 Product Categories by Total Order Price\",\n",
        "    color=\"Total Order Price\"\n",
        ")\n",
        "\n",
        "st.plotly_chart(fig_category_price)\n",
        "\n",
        "# Menampilkan diagram pie dengan persentase kontribusi\n",
        "st.subheader(\"Pie Chart: Top 10 Product Categories by Total Order Price\")\n",
        "\n",
        "# Menampilkan pie chart di Streamlit\n",
        "st.plotly_chart(fig_pie_chart_category)\n"
      ]
    },
    {
      "cell_type": "markdown",
      "source": [
        "Insight:\n",
        "\n",
        "\n",
        "*   Pengguna dapat memilih provinsi tertentu untuk memfilter data pesanan, membantu menganalisis pesanan dari wilayah tertentu.\n",
        "*   Slider memungkinkan pengguna untuk menetapkan rentang jumlah pesanan, fokus pada kelompok volume tertentu.\n",
        "*   Gabungan tabel dan grafik memberikan representasi numerik dan visual dari data pesanan yang telah difilter.\n"
      ],
      "metadata": {
        "id": "cMJ9xcazU0G6"
      }
    },
    {
      "cell_type": "markdown",
      "metadata": {
        "id": "MtwqDb2e3UgV"
      },
      "source": [
        "##Conclusion"
      ]
    },
    {
      "cell_type": "markdown",
      "metadata": {
        "id": "ydnU4T5KiFrn"
      },
      "source": [
        "1. 5 kota (state) yang memiliki pesanan (orders) terbanyak secara berturut-urut adalah  \n",
        "\n",
        "<table>\n",
        "    <tr>\n",
        "        <th>Kode State</th>\n",
        "        <th>Total</th>\n",
        "        <th>Persen</th>\n",
        "    </tr>\n",
        "    <tr>\n",
        "        <td>SP</td>\n",
        "        <td>41,746</td>\n",
        "        <td>42% </td>\n",
        "    </tr>\n",
        "    <tr>\n",
        "        <td>RJ</td>\n",
        "        <td>12,852</td>\n",
        "        <td>12.9% </td>\n",
        "    </tr>\n",
        "    <tr>\n",
        "        <td>MG</td>\n",
        "        <td>11,635</td>\n",
        "        <td>11.7% </td>\n",
        "    </tr>\n",
        "    <tr>\n",
        "        <td>RS</td>\n",
        "        <td>5,466</td>\n",
        "        <td> 5.5%</td>\n",
        "    </tr>\n",
        "    <tr>\n",
        "        <td>PR</td>\n",
        "        <td>5,045</td>\n",
        "        <td>5.07% </td>\n",
        "    </tr>\n",
        "</table>\n"
      ]
    },
    {
      "cell_type": "markdown",
      "metadata": {
        "id": "TExOgg8fiSgB"
      },
      "source": [
        "2. Berapa total harga pesanan per kategori produk?  \n",
        "\n",
        "\n",
        "<table>\n",
        "    <tr>\n",
        "        <th>Kategori</th>\n",
        "        <th>Total Harga</th>\n",
        "        <td>Persen </td>\n",
        "    </tr>\n",
        "    <tr>\n",
        "        <td>beleza_saude</td>\n",
        "        <td>1,258,681.34</td>\n",
        "        <td>9.38% </td>\n",
        "    </tr>\n",
        "    <tr>\n",
        "        <td>relogios_presentes</td>\n",
        "        <td>1,205,005.68</td>\n",
        "        <td>8.98% </td>\n",
        "    </tr>\n",
        "    <tr>\n",
        "        <td>cama_mesa_banho</td>\n",
        "        <td>1,036,988.68</td>\n",
        "        <td>7.73% </td>\n",
        "    </tr>\n",
        "    <tr>\n",
        "        <td>esporte_lazer</td>\n",
        "        <td>988,048.97</td>\n",
        "        <td>7.37% </td>\n",
        "    </tr>\n",
        "    <tr>\n",
        "        <td>informatica_acessorios</td>\n",
        "        <td>911,954.32</td>\n",
        "        <td>6.8% </td>\n",
        "    </tr>\n",
        "    <tr>\n",
        "        <td>moveis_decoracao</td>\n",
        "        <td>729,762.49</td>\n",
        "        <td>5.44% </td>\n",
        "    </tr>\n",
        "    <tr>\n",
        "        <td>cool_stuff</td>\n",
        "        <td>635,290.85</td>\n",
        "        <td>4.74% </td>\n",
        "    </tr>\n",
        "    <tr>\n",
        "        <td>utilidades_domesticas</td>\n",
        "        <td>632,248.66</td>\n",
        "        <td>4.71% </td>\n",
        "    </tr>\n",
        "    <tr>\n",
        "        <td>automotivo</td>\n",
        "        <td>592,720.11</td>\n",
        "        <td>4.42% </td>\n",
        "    </tr>\n",
        "    <tr>\n",
        "        <td>ferramentas_jardim</td>\n",
        "        <td>485,256.46</td>\n",
        "        <td>3.62% </td>\n",
        "    </tr>\n",
        "</table>"
      ]
    }
  ],
  "metadata": {
    "colab": {
      "provenance": [],
      "collapsed_sections": [
        "sDpTOqh-J9za",
        "DDfgnO4L32NZ"
      ]
    },
    "kernelspec": {
      "display_name": "Python 3",
      "name": "python3"
    },
    "language_info": {
      "name": "python"
    }
  },
  "nbformat": 4,
  "nbformat_minor": 0
}