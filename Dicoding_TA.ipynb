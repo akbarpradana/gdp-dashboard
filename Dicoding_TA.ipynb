{
  "cells": [
    {
      "cell_type": "markdown",
      "metadata": {
        "id": "view-in-github",
        "colab_type": "text"
      },
      "source": [
        "<a href=\"https://colab.research.google.com/github/akbarpradana/gdp-dashboard/blob/main/Dicoding_TA.ipynb\" target=\"_parent\"><img src=\"https://colab.research.google.com/assets/colab-badge.svg\" alt=\"Open In Colab\"/></a>"
      ]
    },
    {
      "cell_type": "markdown",
      "metadata": {
        "id": "yhB-pmPtJxuF"
      },
      "source": [
        "\n",
        "#Proyek Analisis Data : E-Commerce Public Dataset\n",
        "\n",
        "\n",
        "*   Nama        : Akbar Wahyu Pradana\n",
        "*   Email       : m200b4ky0281@bangkit.academy\n",
        "*   ID Dicoding : Akbar Wahyu Pradana M200B4KY0281\n",
        "\n",
        "\n",
        "\n",
        "\n",
        "\n",
        "\n",
        "\n"
      ]
    },
    {
      "cell_type": "markdown",
      "metadata": {
        "id": "sDpTOqh-J9za"
      },
      "source": [
        "## Menetukaan Pertanyaan Bisnis"
      ]
    },
    {
      "cell_type": "markdown",
      "metadata": {
        "id": "9931xsspLYzH"
      },
      "source": [
        "\n",
        "\n",
        "1. 5 State (kota) mana yang memiliki order (pesanan) terbanyak\n",
        "2. 10 terbanyak order (pesanan) berdasarkan kategori pesananan\n",
        "\n",
        "\n"
      ]
    },
    {
      "cell_type": "markdown",
      "metadata": {
        "id": "owGrzk65LdLC"
      },
      "source": [
        "## Import Semua Packages/Library yang Digunakan"
      ]
    },
    {
      "cell_type": "code",
      "execution_count": null,
      "metadata": {
        "colab": {
          "base_uri": "https://localhost:8080/"
        },
        "id": "HASVrWO0_yCg",
        "outputId": "59a80c23-e6b3-4e0a-8bf0-2df5b3b24746"
      },
      "outputs": [
        {
          "output_type": "stream",
          "name": "stdout",
          "text": [
            "Requirement already satisfied: pandas in /usr/local/lib/python3.10/dist-packages (2.2.2)\n",
            "Requirement already satisfied: numpy>=1.22.4 in /usr/local/lib/python3.10/dist-packages (from pandas) (1.26.4)\n",
            "Requirement already satisfied: python-dateutil>=2.8.2 in /usr/local/lib/python3.10/dist-packages (from pandas) (2.8.2)\n",
            "Requirement already satisfied: pytz>=2020.1 in /usr/local/lib/python3.10/dist-packages (from pandas) (2024.2)\n",
            "Requirement already satisfied: tzdata>=2022.7 in /usr/local/lib/python3.10/dist-packages (from pandas) (2024.2)\n",
            "Requirement already satisfied: six>=1.5 in /usr/local/lib/python3.10/dist-packages (from python-dateutil>=2.8.2->pandas) (1.16.0)\n",
            "Requirement already satisfied: plotly in /usr/local/lib/python3.10/dist-packages (5.24.1)\n",
            "Requirement already satisfied: tenacity>=6.2.0 in /usr/local/lib/python3.10/dist-packages (from plotly) (9.0.0)\n",
            "Requirement already satisfied: packaging in /usr/local/lib/python3.10/dist-packages (from plotly) (24.1)\n"
          ]
        }
      ],
      "source": [
        "!pip install pandas\n",
        "!pip install plotly\n",
        "!pip install streamlit -q\n",
        "\n",
        "\n",
        "import streamlit as st\n",
        "import pandas as pd\n",
        "import plotly.express as px\n",
        "import plotly.graph_objects as go\n",
        "\n",
        "from google.colab import drive\n",
        "\n",
        "\n",
        "\n"
      ]
    },
    {
      "cell_type": "code",
      "execution_count": null,
      "metadata": {
        "id": "5QRdEiOHaoV_",
        "colab": {
          "base_uri": "https://localhost:8080/"
        },
        "outputId": "3d118ae6-0cee-4c2c-b42a-5a0489324ca8"
      },
      "outputs": [
        {
          "output_type": "stream",
          "name": "stdout",
          "text": [
            "Requirement already satisfied: pipreqs in /usr/local/lib/python3.10/dist-packages (0.5.0)\n",
            "Requirement already satisfied: docopt==0.6.2 in /usr/local/lib/python3.10/dist-packages (from pipreqs) (0.6.2)\n",
            "Requirement already satisfied: ipython==8.12.3 in /usr/local/lib/python3.10/dist-packages (from pipreqs) (8.12.3)\n",
            "Requirement already satisfied: nbconvert<8.0.0,>=7.11.0 in /usr/local/lib/python3.10/dist-packages (from pipreqs) (7.16.4)\n",
            "Requirement already satisfied: yarg==0.1.9 in /usr/local/lib/python3.10/dist-packages (from pipreqs) (0.1.9)\n",
            "Requirement already satisfied: backcall in /usr/local/lib/python3.10/dist-packages (from ipython==8.12.3->pipreqs) (0.2.0)\n",
            "Requirement already satisfied: decorator in /usr/local/lib/python3.10/dist-packages (from ipython==8.12.3->pipreqs) (4.4.2)\n",
            "Requirement already satisfied: jedi>=0.16 in /usr/local/lib/python3.10/dist-packages (from ipython==8.12.3->pipreqs) (0.19.1)\n",
            "Requirement already satisfied: matplotlib-inline in /usr/local/lib/python3.10/dist-packages (from ipython==8.12.3->pipreqs) (0.1.7)\n",
            "Requirement already satisfied: pickleshare in /usr/local/lib/python3.10/dist-packages (from ipython==8.12.3->pipreqs) (0.7.5)\n",
            "Requirement already satisfied: prompt-toolkit!=3.0.37,<3.1.0,>=3.0.30 in /usr/local/lib/python3.10/dist-packages (from ipython==8.12.3->pipreqs) (3.0.48)\n",
            "Requirement already satisfied: pygments>=2.4.0 in /usr/local/lib/python3.10/dist-packages (from ipython==8.12.3->pipreqs) (2.18.0)\n",
            "Requirement already satisfied: stack-data in /usr/local/lib/python3.10/dist-packages (from ipython==8.12.3->pipreqs) (0.6.3)\n",
            "Requirement already satisfied: traitlets>=5 in /usr/local/lib/python3.10/dist-packages (from ipython==8.12.3->pipreqs) (5.7.1)\n",
            "Requirement already satisfied: pexpect>4.3 in /usr/local/lib/python3.10/dist-packages (from ipython==8.12.3->pipreqs) (4.9.0)\n",
            "Requirement already satisfied: requests in /usr/local/lib/python3.10/dist-packages (from yarg==0.1.9->pipreqs) (2.32.3)\n",
            "Requirement already satisfied: beautifulsoup4 in /usr/local/lib/python3.10/dist-packages (from nbconvert<8.0.0,>=7.11.0->pipreqs) (4.12.3)\n",
            "Requirement already satisfied: bleach!=5.0.0 in /usr/local/lib/python3.10/dist-packages (from nbconvert<8.0.0,>=7.11.0->pipreqs) (6.1.0)\n",
            "Requirement already satisfied: defusedxml in /usr/local/lib/python3.10/dist-packages (from nbconvert<8.0.0,>=7.11.0->pipreqs) (0.7.1)\n",
            "Requirement already satisfied: jinja2>=3.0 in /usr/local/lib/python3.10/dist-packages (from nbconvert<8.0.0,>=7.11.0->pipreqs) (3.1.4)\n",
            "Requirement already satisfied: jupyter-core>=4.7 in /usr/local/lib/python3.10/dist-packages (from nbconvert<8.0.0,>=7.11.0->pipreqs) (5.7.2)\n",
            "Requirement already satisfied: jupyterlab-pygments in /usr/local/lib/python3.10/dist-packages (from nbconvert<8.0.0,>=7.11.0->pipreqs) (0.3.0)\n",
            "Requirement already satisfied: markupsafe>=2.0 in /usr/local/lib/python3.10/dist-packages (from nbconvert<8.0.0,>=7.11.0->pipreqs) (3.0.1)\n",
            "Requirement already satisfied: mistune<4,>=2.0.3 in /usr/local/lib/python3.10/dist-packages (from nbconvert<8.0.0,>=7.11.0->pipreqs) (3.0.2)\n",
            "Requirement already satisfied: nbclient>=0.5.0 in /usr/local/lib/python3.10/dist-packages (from nbconvert<8.0.0,>=7.11.0->pipreqs) (0.10.0)\n",
            "Requirement already satisfied: nbformat>=5.7 in /usr/local/lib/python3.10/dist-packages (from nbconvert<8.0.0,>=7.11.0->pipreqs) (5.10.4)\n",
            "Requirement already satisfied: packaging in /usr/local/lib/python3.10/dist-packages (from nbconvert<8.0.0,>=7.11.0->pipreqs) (24.1)\n",
            "Requirement already satisfied: pandocfilters>=1.4.1 in /usr/local/lib/python3.10/dist-packages (from nbconvert<8.0.0,>=7.11.0->pipreqs) (1.5.1)\n",
            "Requirement already satisfied: tinycss2 in /usr/local/lib/python3.10/dist-packages (from nbconvert<8.0.0,>=7.11.0->pipreqs) (1.3.0)\n",
            "Requirement already satisfied: six>=1.9.0 in /usr/local/lib/python3.10/dist-packages (from bleach!=5.0.0->nbconvert<8.0.0,>=7.11.0->pipreqs) (1.16.0)\n",
            "Requirement already satisfied: webencodings in /usr/local/lib/python3.10/dist-packages (from bleach!=5.0.0->nbconvert<8.0.0,>=7.11.0->pipreqs) (0.5.1)\n",
            "Requirement already satisfied: parso<0.9.0,>=0.8.3 in /usr/local/lib/python3.10/dist-packages (from jedi>=0.16->ipython==8.12.3->pipreqs) (0.8.4)\n",
            "Requirement already satisfied: platformdirs>=2.5 in /usr/local/lib/python3.10/dist-packages (from jupyter-core>=4.7->nbconvert<8.0.0,>=7.11.0->pipreqs) (4.3.6)\n",
            "Requirement already satisfied: jupyter-client>=6.1.12 in /usr/local/lib/python3.10/dist-packages (from nbclient>=0.5.0->nbconvert<8.0.0,>=7.11.0->pipreqs) (6.1.12)\n",
            "Requirement already satisfied: fastjsonschema>=2.15 in /usr/local/lib/python3.10/dist-packages (from nbformat>=5.7->nbconvert<8.0.0,>=7.11.0->pipreqs) (2.20.0)\n",
            "Requirement already satisfied: jsonschema>=2.6 in /usr/local/lib/python3.10/dist-packages (from nbformat>=5.7->nbconvert<8.0.0,>=7.11.0->pipreqs) (4.23.0)\n",
            "Requirement already satisfied: ptyprocess>=0.5 in /usr/local/lib/python3.10/dist-packages (from pexpect>4.3->ipython==8.12.3->pipreqs) (0.7.0)\n",
            "Requirement already satisfied: wcwidth in /usr/local/lib/python3.10/dist-packages (from prompt-toolkit!=3.0.37,<3.1.0,>=3.0.30->ipython==8.12.3->pipreqs) (0.2.13)\n",
            "Requirement already satisfied: soupsieve>1.2 in /usr/local/lib/python3.10/dist-packages (from beautifulsoup4->nbconvert<8.0.0,>=7.11.0->pipreqs) (2.6)\n",
            "Requirement already satisfied: charset-normalizer<4,>=2 in /usr/local/lib/python3.10/dist-packages (from requests->yarg==0.1.9->pipreqs) (3.4.0)\n",
            "Requirement already satisfied: idna<4,>=2.5 in /usr/local/lib/python3.10/dist-packages (from requests->yarg==0.1.9->pipreqs) (3.10)\n",
            "Requirement already satisfied: urllib3<3,>=1.21.1 in /usr/local/lib/python3.10/dist-packages (from requests->yarg==0.1.9->pipreqs) (2.2.3)\n",
            "Requirement already satisfied: certifi>=2017.4.17 in /usr/local/lib/python3.10/dist-packages (from requests->yarg==0.1.9->pipreqs) (2024.8.30)\n",
            "Requirement already satisfied: executing>=1.2.0 in /usr/local/lib/python3.10/dist-packages (from stack-data->ipython==8.12.3->pipreqs) (2.1.0)\n",
            "Requirement already satisfied: asttokens>=2.1.0 in /usr/local/lib/python3.10/dist-packages (from stack-data->ipython==8.12.3->pipreqs) (2.4.1)\n",
            "Requirement already satisfied: pure-eval in /usr/local/lib/python3.10/dist-packages (from stack-data->ipython==8.12.3->pipreqs) (0.2.3)\n",
            "Requirement already satisfied: attrs>=22.2.0 in /usr/local/lib/python3.10/dist-packages (from jsonschema>=2.6->nbformat>=5.7->nbconvert<8.0.0,>=7.11.0->pipreqs) (24.2.0)\n",
            "Requirement already satisfied: jsonschema-specifications>=2023.03.6 in /usr/local/lib/python3.10/dist-packages (from jsonschema>=2.6->nbformat>=5.7->nbconvert<8.0.0,>=7.11.0->pipreqs) (2024.10.1)\n",
            "Requirement already satisfied: referencing>=0.28.4 in /usr/local/lib/python3.10/dist-packages (from jsonschema>=2.6->nbformat>=5.7->nbconvert<8.0.0,>=7.11.0->pipreqs) (0.35.1)\n",
            "Requirement already satisfied: rpds-py>=0.7.1 in /usr/local/lib/python3.10/dist-packages (from jsonschema>=2.6->nbformat>=5.7->nbconvert<8.0.0,>=7.11.0->pipreqs) (0.20.0)\n",
            "Requirement already satisfied: pyzmq>=13 in /usr/local/lib/python3.10/dist-packages (from jupyter-client>=6.1.12->nbclient>=0.5.0->nbconvert<8.0.0,>=7.11.0->pipreqs) (24.0.1)\n",
            "Requirement already satisfied: python-dateutil>=2.1 in /usr/local/lib/python3.10/dist-packages (from jupyter-client>=6.1.12->nbclient>=0.5.0->nbconvert<8.0.0,>=7.11.0->pipreqs) (2.8.2)\n",
            "Requirement already satisfied: tornado>=4.1 in /usr/local/lib/python3.10/dist-packages (from jupyter-client>=6.1.12->nbclient>=0.5.0->nbconvert<8.0.0,>=7.11.0->pipreqs) (6.3.3)\n"
          ]
        }
      ],
      "source": [
        "!pip install pipreqs"
      ]
    },
    {
      "cell_type": "code",
      "execution_count": null,
      "metadata": {
        "id": "_l09et2FbLOI"
      },
      "outputs": [],
      "source": [
        "!wget -q -o - ipv4.icanhazip.com"
      ]
    },
    {
      "cell_type": "code",
      "execution_count": null,
      "metadata": {
        "colab": {
          "base_uri": "https://localhost:8080/",
          "height": 314
        },
        "id": "XIHGRPlXylGC",
        "outputId": "26ddcf3c-4248-4b88-81df-aeb41efceccd"
      },
      "outputs": [
        {
          "output_type": "stream",
          "name": "stdout",
          "text": [
            "Usage: streamlit run [OPTIONS] TARGET [ARGS]...\n",
            "Try 'streamlit run --help' for help.\n",
            "\n",
            "Error: Invalid value: File does not exist: app.py\n",
            "\u001b[1G\u001b[0JNeed to install the following packages:\n",
            "  localtunnel@2.0.2\n",
            "Ok to proceed? (y) \u001b[20Gy\n",
            "\u001b[K\u001b[?25hyour url is: https://plain-spies-tan.loca.lt\n",
            "^C\n"
          ]
        },
        {
          "output_type": "error",
          "ename": "NameError",
          "evalue": "name 'y' is not defined",
          "traceback": [
            "\u001b[0;31m---------------------------------------------------------------------------\u001b[0m",
            "\u001b[0;31mNameError\u001b[0m                                 Traceback (most recent call last)",
            "Cell \u001b[0;32mIn[23], line 2\u001b[0m\n\u001b[1;32m      1\u001b[0m get_ipython()\u001b[38;5;241m.\u001b[39msystem(\u001b[38;5;124m'\u001b[39m\u001b[38;5;124m streamlit run app.py &npx localtunnel --port 8501\u001b[39m\u001b[38;5;124m'\u001b[39m)\n\u001b[0;32m----> 2\u001b[0m \u001b[43my\u001b[49m\n",
            "\u001b[0;31mNameError\u001b[0m: name 'y' is not defined"
          ]
        }
      ],
      "source": [
        "! streamlit run app.py &npx localtunnel --port 8501\n",
        "\n",
        "\n"
      ]
    },
    {
      "cell_type": "code",
      "execution_count": null,
      "metadata": {
        "colab": {
          "base_uri": "https://localhost:8080/"
        },
        "id": "hzbMiHUUvyOv",
        "outputId": "44279d72-2a80-4ea2-8735-9b99fbffbd9d"
      },
      "outputs": [
        {
          "output_type": "stream",
          "name": "stdout",
          "text": [
            "Mounted at /content/gdrive\n"
          ]
        }
      ],
      "source": [
        "drive.mount('/content/gdrive')\n"
      ]
    },
    {
      "cell_type": "markdown",
      "metadata": {
        "id": "hnbkyLVf3Uth"
      },
      "source": [
        "## Data Wrangling"
      ]
    },
    {
      "cell_type": "markdown",
      "metadata": {
        "id": "DDfgnO4L32NZ"
      },
      "source": [
        "### Gathering Data"
      ]
    },
    {
      "cell_type": "code",
      "execution_count": null,
      "metadata": {
        "id": "1XZ2GSFbKdk4"
      },
      "outputs": [],
      "source": [
        "@st.cache_resource\n",
        "def load_customers_data():\n",
        "    return pd.read_csv(\"/content/gdrive/MyDrive/E-Commerce Public Dataset/customers_dataset.csv\", sep=',')\n",
        "\n",
        "@st.cache_resource\n",
        "def load_products_data():\n",
        "    return pd.read_csv(\"/content/gdrive/MyDrive/E-Commerce Public Dataset/products_dataset.csv\", sep=',')\n",
        "\n",
        "@st.cache_resource\n",
        "def load_orders_data():\n",
        "    return pd.read_csv(\"/content/gdrive/MyDrive/E-Commerce Public Dataset/order_items_dataset.csv\", sep=',')"
      ]
    },
    {
      "cell_type": "code",
      "execution_count": null,
      "metadata": {
        "colab": {
          "base_uri": "https://localhost:8080/"
        },
        "id": "2v_fdlTeLGA6",
        "outputId": "01562569-e8d5-4370-f41e-a73fdadde349"
      },
      "outputs": [
        {
          "output_type": "stream",
          "name": "stderr",
          "text": [
            "2024-10-16 06:44:55.825 WARNING streamlit.runtime.scriptrunner_utils.script_run_context: Thread 'MainThread': missing ScriptRunContext! This warning can be ignored when running in bare mode.\n",
            "2024-10-16 06:44:55.959 \n",
            "  \u001b[33m\u001b[1mWarning:\u001b[0m to view this Streamlit app on a browser, run it with the following\n",
            "  command:\n",
            "\n",
            "    streamlit run /usr/local/lib/python3.10/dist-packages/colab_kernel_launcher.py [ARGUMENTS]\n",
            "2024-10-16 06:44:55.962 Thread 'MainThread': missing ScriptRunContext! This warning can be ignored when running in bare mode.\n",
            "2024-10-16 06:44:55.964 Thread 'MainThread': missing ScriptRunContext! This warning can be ignored when running in bare mode.\n",
            "2024-10-16 06:44:56.468 Thread 'Thread-11': missing ScriptRunContext! This warning can be ignored when running in bare mode.\n",
            "2024-10-16 06:44:56.470 Thread 'Thread-11': missing ScriptRunContext! This warning can be ignored when running in bare mode.\n",
            "2024-10-16 06:44:57.138 Thread 'MainThread': missing ScriptRunContext! This warning can be ignored when running in bare mode.\n",
            "2024-10-16 06:44:57.139 Thread 'MainThread': missing ScriptRunContext! This warning can be ignored when running in bare mode.\n",
            "2024-10-16 06:44:57.144 Thread 'MainThread': missing ScriptRunContext! This warning can be ignored when running in bare mode.\n",
            "2024-10-16 06:44:57.146 Thread 'MainThread': missing ScriptRunContext! This warning can be ignored when running in bare mode.\n",
            "2024-10-16 06:44:57.149 Thread 'MainThread': missing ScriptRunContext! This warning can be ignored when running in bare mode.\n",
            "2024-10-16 06:44:57.654 Thread 'Thread-12': missing ScriptRunContext! This warning can be ignored when running in bare mode.\n",
            "2024-10-16 06:44:57.657 Thread 'Thread-12': missing ScriptRunContext! This warning can be ignored when running in bare mode.\n",
            "2024-10-16 06:44:57.979 Thread 'MainThread': missing ScriptRunContext! This warning can be ignored when running in bare mode.\n",
            "2024-10-16 06:44:57.981 Thread 'MainThread': missing ScriptRunContext! This warning can be ignored when running in bare mode.\n",
            "2024-10-16 06:44:57.983 Thread 'MainThread': missing ScriptRunContext! This warning can be ignored when running in bare mode.\n",
            "2024-10-16 06:44:57.985 Thread 'MainThread': missing ScriptRunContext! This warning can be ignored when running in bare mode.\n",
            "2024-10-16 06:44:57.987 Thread 'MainThread': missing ScriptRunContext! This warning can be ignored when running in bare mode.\n",
            "2024-10-16 06:44:58.491 Thread 'Thread-13': missing ScriptRunContext! This warning can be ignored when running in bare mode.\n",
            "2024-10-16 06:44:58.493 Thread 'Thread-13': missing ScriptRunContext! This warning can be ignored when running in bare mode.\n",
            "2024-10-16 06:44:59.572 Thread 'MainThread': missing ScriptRunContext! This warning can be ignored when running in bare mode.\n",
            "2024-10-16 06:44:59.573 Thread 'MainThread': missing ScriptRunContext! This warning can be ignored when running in bare mode.\n"
          ]
        }
      ],
      "source": [
        "customers_data = load_customers_data()\n",
        "products_data = load_products_data()\n",
        "orders_data = load_orders_data()"
      ]
    },
    {
      "cell_type": "markdown",
      "metadata": {
        "id": "R--2ujgV4Dgl"
      },
      "source": [
        "###Assesing Data"
      ]
    },
    {
      "cell_type": "markdown",
      "metadata": {
        "id": "IYKTRI2vWA-d"
      },
      "source": [
        "#### Memeriksa Missing Values"
      ]
    },
    {
      "cell_type": "code",
      "execution_count": null,
      "metadata": {
        "colab": {
          "base_uri": "https://localhost:8080/"
        },
        "id": "wn9Y7TXUWGW3",
        "outputId": "0a519072-4d77-4873-d394-4f6eb6b87e7e"
      },
      "outputs": [
        {
          "output_type": "stream",
          "name": "stdout",
          "text": [
            "Missing Values pada Customers Dataset\n",
            "customer_id                 0\n",
            "customer_unique_id          0\n",
            "customer_zip_code_prefix    0\n",
            "customer_city               0\n",
            "customer_state              0\n",
            "dtype: int64\n"
          ]
        }
      ],
      "source": [
        "#CUSTOMER\n",
        "print(\"Missing Values pada Customers Dataset\")\n",
        "missing_values_customer = customers_data.isnull().sum()\n",
        "\n",
        "print(missing_values_customer)"
      ]
    },
    {
      "cell_type": "code",
      "execution_count": null,
      "metadata": {
        "colab": {
          "base_uri": "https://localhost:8080/"
        },
        "id": "uKGB87D7apdB",
        "outputId": "da3e52f1-5309-4eb1-d1aa-978c7969b0f3"
      },
      "outputs": [
        {
          "output_type": "stream",
          "name": "stdout",
          "text": [
            "Missing Values pada Product Dataset\n",
            "product_id                      0\n",
            "product_category_name         610\n",
            "product_name_lenght           610\n",
            "product_description_lenght    610\n",
            "product_photos_qty            610\n",
            "product_weight_g                2\n",
            "product_length_cm               2\n",
            "product_height_cm               2\n",
            "product_width_cm                2\n",
            "dtype: int64\n"
          ]
        }
      ],
      "source": [
        "#PRODUCTS\n",
        "print(\"Missing Values pada Product Dataset\")\n",
        "missing_values_product = products_data.isnull().sum()\n",
        "\n",
        "print(missing_values_product)"
      ]
    },
    {
      "cell_type": "code",
      "execution_count": null,
      "metadata": {
        "colab": {
          "base_uri": "https://localhost:8080/"
        },
        "id": "rQFN2-yrapSG",
        "outputId": "62652c6a-d80c-49b2-a64f-bf2058bcffd9"
      },
      "outputs": [
        {
          "output_type": "stream",
          "name": "stdout",
          "text": [
            "Missing Values pada Order Dataset\n",
            "order_id               0\n",
            "order_item_id          0\n",
            "product_id             0\n",
            "seller_id              0\n",
            "shipping_limit_date    0\n",
            "price                  0\n",
            "freight_value          0\n",
            "dtype: int64\n"
          ]
        }
      ],
      "source": [
        "#Order\n",
        "print(\"Missing Values pada Order Dataset\")\n",
        "missing_values_order = orders_data.isnull().sum()\n",
        "\n",
        "print(missing_values_order)"
      ]
    },
    {
      "cell_type": "markdown",
      "metadata": {
        "id": "Ef1gCIGXcQ19"
      },
      "source": [
        "Disini yang memiliki Missing Values pada product Dataset. kita dapat mengisinya dengan value lainnya, memprediksi atau menghapusnya. Disini saya akan menghapus baris yang memiliki values yang kosong"
      ]
    },
    {
      "cell_type": "markdown",
      "metadata": {
        "id": "pa7ynrLWdGCV"
      },
      "source": [
        "#### Memeriksa Duplicated Values"
      ]
    },
    {
      "cell_type": "code",
      "execution_count": null,
      "metadata": {
        "colab": {
          "base_uri": "https://localhost:8080/"
        },
        "id": "q3B6Bn46fIws",
        "outputId": "ecf50ca1-65f1-45a1-f7ce-6975dafdfd56"
      },
      "outputs": [
        {
          "output_type": "stream",
          "name": "stdout",
          "text": [
            "Data Duplikat pada Customer Dataset\n",
            "0\n"
          ]
        }
      ],
      "source": [
        "#Customewr\n",
        "print(\"Data Duplikat pada Customer Dataset\")\n",
        "duplikat_customer = customers_data.duplicated().sum()\n",
        "\n",
        "print(duplikat_customer)"
      ]
    },
    {
      "cell_type": "code",
      "execution_count": null,
      "metadata": {
        "colab": {
          "base_uri": "https://localhost:8080/"
        },
        "id": "8bPUfObEe7DI",
        "outputId": "af435393-29ca-4a6e-be6a-99c957e7b373"
      },
      "outputs": [
        {
          "output_type": "stream",
          "name": "stdout",
          "text": [
            "Data Duplikat pada Order Dataset\n",
            "0\n"
          ]
        }
      ],
      "source": [
        "#Order\n",
        "print(\"Data Duplikat pada Order Dataset\")\n",
        "duplikat_order = orders_data.duplicated().sum()\n",
        "\n",
        "print(duplikat_order)"
      ]
    },
    {
      "cell_type": "code",
      "execution_count": null,
      "metadata": {
        "colab": {
          "base_uri": "https://localhost:8080/"
        },
        "id": "anm8h2iJdFXD",
        "outputId": "11fb0f32-84ca-4eb5-92eb-610da12602b3"
      },
      "outputs": [
        {
          "output_type": "stream",
          "name": "stdout",
          "text": [
            "Data Duplikat pada Product Dataset\n",
            "0\n"
          ]
        }
      ],
      "source": [
        "#Product\n",
        "print(\"Data Duplikat pada Product Dataset\")\n",
        "duplikat_product = products_data.duplicated().sum()\n",
        "\n",
        "print(duplikat_product)"
      ]
    },
    {
      "cell_type": "markdown",
      "metadata": {
        "id": "QiZklXFf4GyF"
      },
      "source": [
        "###Cleaning Data"
      ]
    },
    {
      "cell_type": "code",
      "execution_count": null,
      "metadata": {
        "id": "xk87hdHjeRpT"
      },
      "outputs": [],
      "source": [
        "#Disini saya hanya cleaning dataset products karena hanya dataset ini yang memiliki missing values\n",
        "products_data = products_data.dropna()"
      ]
    },
    {
      "cell_type": "markdown",
      "metadata": {
        "id": "m950uJut3Upo"
      },
      "source": [
        "## Exploratory Data Analysis"
      ]
    },
    {
      "cell_type": "code",
      "execution_count": null,
      "metadata": {
        "colab": {
          "base_uri": "https://localhost:8080/"
        },
        "id": "V1eyV5z9gmWF",
        "outputId": "c21ec746-f2da-49c8-a205-6a3d55ea3ae9"
      },
      "outputs": [
        {
          "output_type": "stream",
          "name": "stderr",
          "text": [
            "2024-10-16 06:44:59.935 Thread 'MainThread': missing ScriptRunContext! This warning can be ignored when running in bare mode.\n",
            "2024-10-16 06:44:59.938 Thread 'MainThread': missing ScriptRunContext! This warning can be ignored when running in bare mode.\n"
          ]
        },
        {
          "output_type": "execute_result",
          "data": {
            "text/plain": [
              "DeltaGenerator()"
            ]
          },
          "metadata": {},
          "execution_count": 17
        }
      ],
      "source": [
        "#Judul Dashboard\n",
        "st.title(\"Business Orders Dashboard\")"
      ]
    },
    {
      "cell_type": "code",
      "execution_count": null,
      "metadata": {
        "colab": {
          "base_uri": "https://localhost:8080/"
        },
        "id": "iwzmvZOwshMl",
        "outputId": "fe1389c3-f6f5-49cc-e538-fbe9f489814d"
      },
      "outputs": [
        {
          "output_type": "stream",
          "name": "stderr",
          "text": [
            "2024-10-16 06:44:59.951 Thread 'MainThread': missing ScriptRunContext! This warning can be ignored when running in bare mode.\n",
            "2024-10-16 06:44:59.953 Thread 'MainThread': missing ScriptRunContext! This warning can be ignored when running in bare mode.\n"
          ]
        }
      ],
      "source": [
        "# 1. 5 kota (state) yang memiliki pesanan (orders) terbanyak\n",
        "st.header(\"1. 10 kota (state) yang memiliki pesanan (orders) terbanyak?\")\n",
        "\n",
        "# mengelompokkan kota dan menjumlahkan pesanannya\n",
        "state_order_counts = customers_data.groupby(\"customer_state\")[\"customer_id\"].count().reset_index()\n",
        "state_order_counts.columns = [\"State\", \"Number of Orders\"]\n",
        "state_order_counts = state_order_counts.sort_values(by=\"Number of Orders\", ascending=False)\n",
        "\n"
      ]
    },
    {
      "cell_type": "code",
      "execution_count": null,
      "metadata": {
        "colab": {
          "base_uri": "https://localhost:8080/"
        },
        "id": "nzA3j9cGjdFd",
        "outputId": "2d572c5c-dc07-4c4f-a90e-4baf9e4a4b88"
      },
      "outputs": [
        {
          "output_type": "stream",
          "name": "stderr",
          "text": [
            "2024-10-16 06:45:00.001 Thread 'MainThread': missing ScriptRunContext! This warning can be ignored when running in bare mode.\n",
            "2024-10-16 06:45:00.004 Thread 'MainThread': missing ScriptRunContext! This warning can be ignored when running in bare mode.\n"
          ]
        }
      ],
      "source": [
        "# 2. Berapa total harga pesanan per kategori produk?\n",
        "st.header(\"2. Berapa total harga pesanan per kategori produk?\")\n",
        "\n",
        "# mennggabungkan orders_data dan products_data\n",
        "merged_data = pd.merge(orders_data, products_data, on=\"product_id\", how=\"left\")\n",
        "\n",
        "# menggelompokkan product percategory product dan menjumlahkan harga pesanannya\n",
        "category_price_totals = merged_data.groupby(\"product_category_name\")[\"price\"].sum().reset_index()\n",
        "category_price_totals.columns = [\"Product Category\", \"Total Order Price\"]\n",
        "category_price_totals = category_price_totals.sort_values(by=\"Total Order Price\", ascending=False)\n",
        "\n"
      ]
    },
    {
      "cell_type": "markdown",
      "metadata": {
        "id": "LZucLPUW3Ul3"
      },
      "source": [
        "##Visualization & Explanatory Analysis"
      ]
    },
    {
      "cell_type": "markdown",
      "metadata": {
        "id": "cSuVyQeI4S1u"
      },
      "source": [
        "###Pertanyaan 1"
      ]
    },
    {
      "cell_type": "code",
      "execution_count": null,
      "metadata": {
        "colab": {
          "base_uri": "https://localhost:8080/"
        },
        "id": "l0InWzwW4VYH",
        "outputId": "3c24d158-e0fb-405e-9f40-cd5eb8cb4ed8"
      },
      "outputs": [
        {
          "output_type": "stream",
          "name": "stderr",
          "text": [
            "2024-10-16 06:45:00.099 Thread 'MainThread': missing ScriptRunContext! This warning can be ignored when running in bare mode.\n",
            "2024-10-16 06:45:00.102 Thread 'MainThread': missing ScriptRunContext! This warning can be ignored when running in bare mode.\n",
            "2024-10-16 06:45:00.156 Thread 'MainThread': missing ScriptRunContext! This warning can be ignored when running in bare mode.\n",
            "2024-10-16 06:45:00.160 Thread 'MainThread': missing ScriptRunContext! This warning can be ignored when running in bare mode.\n",
            "2024-10-16 06:45:00.777 Thread 'MainThread': missing ScriptRunContext! This warning can be ignored when running in bare mode.\n",
            "2024-10-16 06:45:00.779 Thread 'MainThread': missing ScriptRunContext! This warning can be ignored when running in bare mode.\n",
            "2024-10-16 06:45:00.784 Thread 'MainThread': missing ScriptRunContext! This warning can be ignored when running in bare mode.\n",
            "2024-10-16 06:45:00.786 Thread 'MainThread': missing ScriptRunContext! This warning can be ignored when running in bare mode.\n"
          ]
        },
        {
          "output_type": "execute_result",
          "data": {
            "text/plain": [
              "DeltaGenerator()"
            ]
          },
          "metadata": {},
          "execution_count": 20
        }
      ],
      "source": [
        "# menampilkan 5 kota yang memiliki pesanan terbanyak\n",
        "st.subheader(\"Top States by Number of Orders\")\n",
        "st.write(state_order_counts.head(5))\n",
        "\n",
        "# menampilkan bar chart\n",
        "fig_state_orders = px.bar(state_order_counts, x=\"State\", y=\"Number of Orders\",\n",
        "                          title=\"State-wise Number of Orders\", color=\"Number of Orders\")\n",
        "st.plotly_chart(fig_state_orders)\n"
      ]
    },
    {
      "cell_type": "markdown",
      "metadata": {
        "id": "6RgV0YS44Ss-"
      },
      "source": [
        "### Pertanyaan 2"
      ]
    },
    {
      "cell_type": "code",
      "execution_count": null,
      "metadata": {
        "colab": {
          "base_uri": "https://localhost:8080/"
        },
        "id": "ObgjI4xChnvJ",
        "outputId": "d454efe9-3632-4a18-f619-5deb2f7bd615"
      },
      "outputs": [
        {
          "output_type": "stream",
          "name": "stderr",
          "text": [
            "2024-10-16 06:45:00.802 Thread 'MainThread': missing ScriptRunContext! This warning can be ignored when running in bare mode.\n",
            "2024-10-16 06:45:00.804 Thread 'MainThread': missing ScriptRunContext! This warning can be ignored when running in bare mode.\n",
            "2024-10-16 06:45:00.808 Thread 'MainThread': missing ScriptRunContext! This warning can be ignored when running in bare mode.\n",
            "2024-10-16 06:45:00.811 Thread 'MainThread': missing ScriptRunContext! This warning can be ignored when running in bare mode.\n",
            "2024-10-16 06:45:00.857 Thread 'MainThread': missing ScriptRunContext! This warning can be ignored when running in bare mode.\n",
            "2024-10-16 06:45:00.863 Thread 'MainThread': missing ScriptRunContext! This warning can be ignored when running in bare mode.\n",
            "2024-10-16 06:45:00.867 Thread 'MainThread': missing ScriptRunContext! This warning can be ignored when running in bare mode.\n",
            "2024-10-16 06:45:00.870 Thread 'MainThread': missing ScriptRunContext! This warning can be ignored when running in bare mode.\n"
          ]
        },
        {
          "output_type": "execute_result",
          "data": {
            "text/plain": [
              "DeltaGenerator()"
            ]
          },
          "metadata": {},
          "execution_count": 21
        }
      ],
      "source": [
        "\n",
        "# Menampilkan 10 kategori teratas berdasarkan total harga pesanan\n",
        "st.subheader(\"Top 10 Product Categories by Total Order Price\")\n",
        "st.write(category_price_totals.head(10))\n",
        "\n",
        "# membuat bar chart untuk total harga berdasarkan kategori produk\n",
        "fig_category_price = px.bar(category_price_totals.head(10), x=\"Product Category\", y=\"Total Order Price\",\n",
        "                            title=\"Top 10 Product Categories by Total Order Price\", color=\"Total Order Price\")\n",
        "st.plotly_chart(fig_category_price)"
      ]
    },
    {
      "cell_type": "markdown",
      "metadata": {
        "id": "MtwqDb2e3UgV"
      },
      "source": [
        "##Conclusion"
      ]
    },
    {
      "cell_type": "markdown",
      "metadata": {
        "id": "ydnU4T5KiFrn"
      },
      "source": [
        "1. 5 kota (state) yang memiliki pesanan (orders) terbanyak secara berturut-urut adalah  \n",
        "\n",
        "<table>\n",
        "    <tr>\n",
        "        <th>Kode State</th>\n",
        "        <th>Total</th>\n",
        "    </tr>\n",
        "    <tr>\n",
        "        <td>SP</td>\n",
        "        <td>41,746</td>\n",
        "    </tr>\n",
        "    <tr>\n",
        "        <td>RJ</td>\n",
        "        <td>12,852</td>\n",
        "    </tr>\n",
        "    <tr>\n",
        "        <td>MG</td>\n",
        "        <td>11,635</td>\n",
        "    </tr>\n",
        "    <tr>\n",
        "        <td>RS</td>\n",
        "        <td>5,466</td>\n",
        "    </tr>\n",
        "    <tr>\n",
        "        <td>PR</td>\n",
        "        <td>5,045</td>\n",
        "    </tr>\n",
        "</table>\n"
      ]
    },
    {
      "cell_type": "markdown",
      "metadata": {
        "id": "TExOgg8fiSgB"
      },
      "source": [
        "2. Berapa total harga pesanan per kategori produk?  \n",
        "\n",
        "\n",
        "<table>\n",
        "    <tr>\n",
        "        <th>Kategori</th>\n",
        "        <th>Total Harga</th>\n",
        "    </tr>\n",
        "    <tr>\n",
        "        <td>beleza_saude</td>\n",
        "        <td>1,258,681.34</td>\n",
        "    </tr>\n",
        "    <tr>\n",
        "        <td>relogios_presentes</td>\n",
        "        <td>1,205,005.68</td>\n",
        "    </tr>\n",
        "    <tr>\n",
        "        <td>cama_mesa_banho</td>\n",
        "        <td>1,036,988.68</td>\n",
        "    </tr>\n",
        "    <tr>\n",
        "        <td>esporte_lazer</td>\n",
        "        <td>988,048.97</td>\n",
        "    </tr>\n",
        "    <tr>\n",
        "        <td>informatica_acessorios</td>\n",
        "        <td>911,954.32</td>\n",
        "    </tr>\n",
        "    <tr>\n",
        "        <td>moveis_decoracao</td>\n",
        "        <td>729,762.49</td>\n",
        "    </tr>\n",
        "    <tr>\n",
        "        <td>cool_stuff</td>\n",
        "        <td>635,290.85</td>\n",
        "    </tr>\n",
        "    <tr>\n",
        "        <td>utilidades_domesticas</td>\n",
        "        <td>632,248.66</td>\n",
        "    </tr>\n",
        "    <tr>\n",
        "        <td>automotivo</td>\n",
        "        <td>592,720.11</td>\n",
        "    </tr>\n",
        "    <tr>\n",
        "        <td>ferramentas_jardim</td>\n",
        "        <td>485,256.46</td>\n",
        "    </tr>\n",
        "</table>"
      ]
    },
    {
      "cell_type": "code",
      "source": [
        "# Navigate to your project folder in Google Drive\n",
        "%cd /content/drive/MyDrive/path_to_your_project\n",
        "\n",
        "# Generate the requirements.txt\n",
        "!pipreqs .\n"
      ],
      "metadata": {
        "colab": {
          "base_uri": "https://localhost:8080/"
        },
        "id": "dbri2YwgEoiR",
        "outputId": "e42cf69a-62c7-4ba2-bf61-d3e13b4f65ba"
      },
      "execution_count": null,
      "outputs": [
        {
          "output_type": "stream",
          "name": "stdout",
          "text": [
            "[Errno 2] No such file or directory: '/content/drive/MyDrive/path_to_your_project'\n",
            "/content\n",
            "INFO: Not scanning for jupyter notebooks.\n",
            "INFO: Successfully saved requirements file in ./requirements.txt\n"
          ]
        }
      ]
    },
    {
      "cell_type": "code",
      "source": [],
      "metadata": {
        "id": "9yolWkySEuJo"
      },
      "execution_count": null,
      "outputs": []
    }
  ],
  "metadata": {
    "colab": {
      "provenance": [],
      "include_colab_link": true
    },
    "kernelspec": {
      "display_name": "Python 3",
      "name": "python3"
    },
    "language_info": {
      "name": "python"
    }
  },
  "nbformat": 4,
  "nbformat_minor": 0
}