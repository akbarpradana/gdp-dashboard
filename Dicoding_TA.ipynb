{
  "cells": [
    {
      "cell_type": "markdown",
      "metadata": {
        "id": "yhB-pmPtJxuF"
      },
      "source": [
        "\n",
        "#Proyek Analisis Data : E-Commerce Public Dataset\n",
        "\n",
        "\n",
        "*   Nama        : Akbar Wahyu Pradana\n",
        "*   Email       : m200b4ky0281@bangkit.academy\n",
        "*   ID Dicoding : Akbar Wahyu Pradana M200B4KY0281\n",
        "\n",
        "\n",
        "\n",
        "\n",
        "\n",
        "\n",
        "\n"
      ]
    },
    {
      "cell_type": "markdown",
      "metadata": {
        "id": "sDpTOqh-J9za"
      },
      "source": [
        "## Menetukaan Pertanyaan Bisnis"
      ]
    },
    {
      "cell_type": "markdown",
      "metadata": {
        "id": "9931xsspLYzH"
      },
      "source": [
        "\n",
        "\n",
        "1. 5 State (kota) mana yang memiliki order (pesanan) terbanyak dan kontribusinya\n",
        "2. 10 terbanyak order (pesanan) berdasarkan kategori pesananan\n",
        "\n",
        "\n"
      ]
    },
    {
      "cell_type": "markdown",
      "metadata": {
        "id": "owGrzk65LdLC"
      },
      "source": [
        "## Import Semua Packages/Library yang Digunakan"
      ]
    },
    {
      "cell_type": "code",
      "execution_count": null,
      "metadata": {
        "colab": {
          "base_uri": "https://localhost:8080/"
        },
        "id": "HASVrWO0_yCg",
        "outputId": "7320cd92-05c8-44b9-ad9f-c61cb7756398"
      },
      "outputs": [
        {
          "name": "stdout",
          "output_type": "stream",
          "text": [
            "Requirement already satisfied: pandas in /usr/local/lib/python3.10/dist-packages (2.2.2)\n",
            "Requirement already satisfied: numpy>=1.22.4 in /usr/local/lib/python3.10/dist-packages (from pandas) (1.26.4)\n",
            "Requirement already satisfied: python-dateutil>=2.8.2 in /usr/local/lib/python3.10/dist-packages (from pandas) (2.8.2)\n",
            "Requirement already satisfied: pytz>=2020.1 in /usr/local/lib/python3.10/dist-packages (from pandas) (2024.2)\n",
            "Requirement already satisfied: tzdata>=2022.7 in /usr/local/lib/python3.10/dist-packages (from pandas) (2024.2)\n",
            "Requirement already satisfied: six>=1.5 in /usr/local/lib/python3.10/dist-packages (from python-dateutil>=2.8.2->pandas) (1.16.0)\n",
            "Requirement already satisfied: plotly in /usr/local/lib/python3.10/dist-packages (5.24.1)\n",
            "Requirement already satisfied: tenacity>=6.2.0 in /usr/local/lib/python3.10/dist-packages (from plotly) (9.0.0)\n",
            "Requirement already satisfied: packaging in /usr/local/lib/python3.10/dist-packages (from plotly) (24.1)\n",
            "Requirement already satisfied: pipreqs in /usr/local/lib/python3.10/dist-packages (0.5.0)\n",
            "Requirement already satisfied: docopt==0.6.2 in /usr/local/lib/python3.10/dist-packages (from pipreqs) (0.6.2)\n",
            "Requirement already satisfied: ipython==8.12.3 in /usr/local/lib/python3.10/dist-packages (from pipreqs) (8.12.3)\n",
            "Requirement already satisfied: nbconvert<8.0.0,>=7.11.0 in /usr/local/lib/python3.10/dist-packages (from pipreqs) (7.16.4)\n",
            "Requirement already satisfied: yarg==0.1.9 in /usr/local/lib/python3.10/dist-packages (from pipreqs) (0.1.9)\n",
            "Requirement already satisfied: backcall in /usr/local/lib/python3.10/dist-packages (from ipython==8.12.3->pipreqs) (0.2.0)\n",
            "Requirement already satisfied: decorator in /usr/local/lib/python3.10/dist-packages (from ipython==8.12.3->pipreqs) (4.4.2)\n",
            "Requirement already satisfied: jedi>=0.16 in /usr/local/lib/python3.10/dist-packages (from ipython==8.12.3->pipreqs) (0.19.1)\n",
            "Requirement already satisfied: matplotlib-inline in /usr/local/lib/python3.10/dist-packages (from ipython==8.12.3->pipreqs) (0.1.7)\n",
            "Requirement already satisfied: pickleshare in /usr/local/lib/python3.10/dist-packages (from ipython==8.12.3->pipreqs) (0.7.5)\n",
            "Requirement already satisfied: prompt-toolkit!=3.0.37,<3.1.0,>=3.0.30 in /usr/local/lib/python3.10/dist-packages (from ipython==8.12.3->pipreqs) (3.0.48)\n",
            "Requirement already satisfied: pygments>=2.4.0 in /usr/local/lib/python3.10/dist-packages (from ipython==8.12.3->pipreqs) (2.18.0)\n",
            "Requirement already satisfied: stack-data in /usr/local/lib/python3.10/dist-packages (from ipython==8.12.3->pipreqs) (0.6.3)\n",
            "Requirement already satisfied: traitlets>=5 in /usr/local/lib/python3.10/dist-packages (from ipython==8.12.3->pipreqs) (5.7.1)\n",
            "Requirement already satisfied: pexpect>4.3 in /usr/local/lib/python3.10/dist-packages (from ipython==8.12.3->pipreqs) (4.9.0)\n",
            "Requirement already satisfied: requests in /usr/local/lib/python3.10/dist-packages (from yarg==0.1.9->pipreqs) (2.32.3)\n",
            "Requirement already satisfied: beautifulsoup4 in /usr/local/lib/python3.10/dist-packages (from nbconvert<8.0.0,>=7.11.0->pipreqs) (4.12.3)\n",
            "Requirement already satisfied: bleach!=5.0.0 in /usr/local/lib/python3.10/dist-packages (from nbconvert<8.0.0,>=7.11.0->pipreqs) (6.1.0)\n",
            "Requirement already satisfied: defusedxml in /usr/local/lib/python3.10/dist-packages (from nbconvert<8.0.0,>=7.11.0->pipreqs) (0.7.1)\n",
            "Requirement already satisfied: jinja2>=3.0 in /usr/local/lib/python3.10/dist-packages (from nbconvert<8.0.0,>=7.11.0->pipreqs) (3.1.4)\n",
            "Requirement already satisfied: jupyter-core>=4.7 in /usr/local/lib/python3.10/dist-packages (from nbconvert<8.0.0,>=7.11.0->pipreqs) (5.7.2)\n",
            "Requirement already satisfied: jupyterlab-pygments in /usr/local/lib/python3.10/dist-packages (from nbconvert<8.0.0,>=7.11.0->pipreqs) (0.3.0)\n",
            "Requirement already satisfied: markupsafe>=2.0 in /usr/local/lib/python3.10/dist-packages (from nbconvert<8.0.0,>=7.11.0->pipreqs) (3.0.1)\n",
            "Requirement already satisfied: mistune<4,>=2.0.3 in /usr/local/lib/python3.10/dist-packages (from nbconvert<8.0.0,>=7.11.0->pipreqs) (3.0.2)\n",
            "Requirement already satisfied: nbclient>=0.5.0 in /usr/local/lib/python3.10/dist-packages (from nbconvert<8.0.0,>=7.11.0->pipreqs) (0.10.0)\n",
            "Requirement already satisfied: nbformat>=5.7 in /usr/local/lib/python3.10/dist-packages (from nbconvert<8.0.0,>=7.11.0->pipreqs) (5.10.4)\n",
            "Requirement already satisfied: packaging in /usr/local/lib/python3.10/dist-packages (from nbconvert<8.0.0,>=7.11.0->pipreqs) (24.1)\n",
            "Requirement already satisfied: pandocfilters>=1.4.1 in /usr/local/lib/python3.10/dist-packages (from nbconvert<8.0.0,>=7.11.0->pipreqs) (1.5.1)\n",
            "Requirement already satisfied: tinycss2 in /usr/local/lib/python3.10/dist-packages (from nbconvert<8.0.0,>=7.11.0->pipreqs) (1.3.0)\n",
            "Requirement already satisfied: six>=1.9.0 in /usr/local/lib/python3.10/dist-packages (from bleach!=5.0.0->nbconvert<8.0.0,>=7.11.0->pipreqs) (1.16.0)\n",
            "Requirement already satisfied: webencodings in /usr/local/lib/python3.10/dist-packages (from bleach!=5.0.0->nbconvert<8.0.0,>=7.11.0->pipreqs) (0.5.1)\n",
            "Requirement already satisfied: parso<0.9.0,>=0.8.3 in /usr/local/lib/python3.10/dist-packages (from jedi>=0.16->ipython==8.12.3->pipreqs) (0.8.4)\n",
            "Requirement already satisfied: platformdirs>=2.5 in /usr/local/lib/python3.10/dist-packages (from jupyter-core>=4.7->nbconvert<8.0.0,>=7.11.0->pipreqs) (4.3.6)\n",
            "Requirement already satisfied: jupyter-client>=6.1.12 in /usr/local/lib/python3.10/dist-packages (from nbclient>=0.5.0->nbconvert<8.0.0,>=7.11.0->pipreqs) (6.1.12)\n",
            "Requirement already satisfied: fastjsonschema>=2.15 in /usr/local/lib/python3.10/dist-packages (from nbformat>=5.7->nbconvert<8.0.0,>=7.11.0->pipreqs) (2.20.0)\n",
            "Requirement already satisfied: jsonschema>=2.6 in /usr/local/lib/python3.10/dist-packages (from nbformat>=5.7->nbconvert<8.0.0,>=7.11.0->pipreqs) (4.23.0)\n",
            "Requirement already satisfied: ptyprocess>=0.5 in /usr/local/lib/python3.10/dist-packages (from pexpect>4.3->ipython==8.12.3->pipreqs) (0.7.0)\n",
            "Requirement already satisfied: wcwidth in /usr/local/lib/python3.10/dist-packages (from prompt-toolkit!=3.0.37,<3.1.0,>=3.0.30->ipython==8.12.3->pipreqs) (0.2.13)\n",
            "Requirement already satisfied: soupsieve>1.2 in /usr/local/lib/python3.10/dist-packages (from beautifulsoup4->nbconvert<8.0.0,>=7.11.0->pipreqs) (2.6)\n",
            "Requirement already satisfied: charset-normalizer<4,>=2 in /usr/local/lib/python3.10/dist-packages (from requests->yarg==0.1.9->pipreqs) (3.4.0)\n",
            "Requirement already satisfied: idna<4,>=2.5 in /usr/local/lib/python3.10/dist-packages (from requests->yarg==0.1.9->pipreqs) (3.10)\n",
            "Requirement already satisfied: urllib3<3,>=1.21.1 in /usr/local/lib/python3.10/dist-packages (from requests->yarg==0.1.9->pipreqs) (2.2.3)\n",
            "Requirement already satisfied: certifi>=2017.4.17 in /usr/local/lib/python3.10/dist-packages (from requests->yarg==0.1.9->pipreqs) (2024.8.30)\n",
            "Requirement already satisfied: executing>=1.2.0 in /usr/local/lib/python3.10/dist-packages (from stack-data->ipython==8.12.3->pipreqs) (2.1.0)\n",
            "Requirement already satisfied: asttokens>=2.1.0 in /usr/local/lib/python3.10/dist-packages (from stack-data->ipython==8.12.3->pipreqs) (2.4.1)\n",
            "Requirement already satisfied: pure-eval in /usr/local/lib/python3.10/dist-packages (from stack-data->ipython==8.12.3->pipreqs) (0.2.3)\n",
            "Requirement already satisfied: attrs>=22.2.0 in /usr/local/lib/python3.10/dist-packages (from jsonschema>=2.6->nbformat>=5.7->nbconvert<8.0.0,>=7.11.0->pipreqs) (24.2.0)\n",
            "Requirement already satisfied: jsonschema-specifications>=2023.03.6 in /usr/local/lib/python3.10/dist-packages (from jsonschema>=2.6->nbformat>=5.7->nbconvert<8.0.0,>=7.11.0->pipreqs) (2024.10.1)\n",
            "Requirement already satisfied: referencing>=0.28.4 in /usr/local/lib/python3.10/dist-packages (from jsonschema>=2.6->nbformat>=5.7->nbconvert<8.0.0,>=7.11.0->pipreqs) (0.35.1)\n",
            "Requirement already satisfied: rpds-py>=0.7.1 in /usr/local/lib/python3.10/dist-packages (from jsonschema>=2.6->nbformat>=5.7->nbconvert<8.0.0,>=7.11.0->pipreqs) (0.20.0)\n",
            "Requirement already satisfied: pyzmq>=13 in /usr/local/lib/python3.10/dist-packages (from jupyter-client>=6.1.12->nbclient>=0.5.0->nbconvert<8.0.0,>=7.11.0->pipreqs) (24.0.1)\n",
            "Requirement already satisfied: python-dateutil>=2.1 in /usr/local/lib/python3.10/dist-packages (from jupyter-client>=6.1.12->nbclient>=0.5.0->nbconvert<8.0.0,>=7.11.0->pipreqs) (2.8.2)\n",
            "Requirement already satisfied: tornado>=4.1 in /usr/local/lib/python3.10/dist-packages (from jupyter-client>=6.1.12->nbclient>=0.5.0->nbconvert<8.0.0,>=7.11.0->pipreqs) (6.3.3)\n"
          ]
        }
      ],
      "source": [
        "!pip install pandas\n",
        "!pip install plotly\n",
        "!pip install streamlit -q\n",
        "!pip install pipreqs\n",
        "\n",
        "import streamlit as st\n",
        "import pandas as pd\n",
        "import plotly.express as px\n",
        "import plotly.graph_objects as go\n",
        "\n",
        "from google.colab import drive\n",
        "\n",
        "\n",
        "\n"
      ]
    },
    {
      "cell_type": "code",
      "execution_count": null,
      "metadata": {
        "colab": {
          "base_uri": "https://localhost:8080/"
        },
        "id": "hzbMiHUUvyOv",
        "outputId": "abfe3a1c-eba1-4deb-fa82-b40bab989424"
      },
      "outputs": [
        {
          "name": "stdout",
          "output_type": "stream",
          "text": [
            "Mounted at /content/gdrive\n"
          ]
        }
      ],
      "source": [
        "drive.mount('/content/gdrive')\n"
      ]
    },
    {
      "cell_type": "markdown",
      "metadata": {
        "id": "hnbkyLVf3Uth"
      },
      "source": [
        "## Data Wrangling"
      ]
    },
    {
      "cell_type": "markdown",
      "metadata": {
        "id": "DDfgnO4L32NZ"
      },
      "source": [
        "### Gathering Data"
      ]
    },
    {
      "cell_type": "code",
      "execution_count": null,
      "metadata": {
        "id": "1XZ2GSFbKdk4"
      },
      "outputs": [],
      "source": [
        "@st.cache_resource\n",
        "def load_customers_data():\n",
        "    return pd.read_csv(\"/content/gdrive/MyDrive/E-Commerce Public Dataset/customers_dataset.csv\", sep=',')\n",
        "\n",
        "@st.cache_resource\n",
        "def load_products_data():\n",
        "    return pd.read_csv(\"/content/gdrive/MyDrive/E-Commerce Public Dataset/products_dataset.csv\", sep=',')\n",
        "\n",
        "@st.cache_resource\n",
        "def load_orders_data():\n",
        "    return pd.read_csv(\"/content/gdrive/MyDrive/E-Commerce Public Dataset/order_items_dataset.csv\", sep=',')"
      ]
    },
    {
      "cell_type": "code",
      "execution_count": null,
      "metadata": {
        "colab": {
          "base_uri": "https://localhost:8080/"
        },
        "id": "2v_fdlTeLGA6",
        "outputId": "80000926-6cca-4e42-9ce7-df1355e8aace"
      },
      "outputs": [
        {
          "name": "stderr",
          "output_type": "stream",
          "text": [
            "2024-10-16 14:18:25.098 WARNING streamlit.runtime.scriptrunner_utils.script_run_context: Thread 'MainThread': missing ScriptRunContext! This warning can be ignored when running in bare mode.\n",
            "2024-10-16 14:18:25.328 \n",
            "  \u001b[33m\u001b[1mWarning:\u001b[0m to view this Streamlit app on a browser, run it with the following\n",
            "  command:\n",
            "\n",
            "    streamlit run /usr/local/lib/python3.10/dist-packages/colab_kernel_launcher.py [ARGUMENTS]\n",
            "2024-10-16 14:18:25.329 Thread 'MainThread': missing ScriptRunContext! This warning can be ignored when running in bare mode.\n",
            "2024-10-16 14:18:25.332 Thread 'MainThread': missing ScriptRunContext! This warning can be ignored when running in bare mode.\n",
            "2024-10-16 14:18:25.838 Thread 'Thread-11': missing ScriptRunContext! This warning can be ignored when running in bare mode.\n",
            "2024-10-16 14:18:25.841 Thread 'Thread-11': missing ScriptRunContext! This warning can be ignored when running in bare mode.\n",
            "2024-10-16 14:18:27.127 Thread 'MainThread': missing ScriptRunContext! This warning can be ignored when running in bare mode.\n",
            "2024-10-16 14:18:27.132 Thread 'MainThread': missing ScriptRunContext! This warning can be ignored when running in bare mode.\n",
            "2024-10-16 14:18:27.137 Thread 'MainThread': missing ScriptRunContext! This warning can be ignored when running in bare mode.\n",
            "2024-10-16 14:18:27.140 Thread 'MainThread': missing ScriptRunContext! This warning can be ignored when running in bare mode.\n",
            "2024-10-16 14:18:27.142 Thread 'MainThread': missing ScriptRunContext! This warning can be ignored when running in bare mode.\n",
            "2024-10-16 14:18:27.646 Thread 'Thread-12': missing ScriptRunContext! This warning can be ignored when running in bare mode.\n",
            "2024-10-16 14:18:27.650 Thread 'Thread-12': missing ScriptRunContext! This warning can be ignored when running in bare mode.\n",
            "2024-10-16 14:18:27.817 Thread 'MainThread': missing ScriptRunContext! This warning can be ignored when running in bare mode.\n",
            "2024-10-16 14:18:27.822 Thread 'MainThread': missing ScriptRunContext! This warning can be ignored when running in bare mode.\n",
            "2024-10-16 14:18:27.825 Thread 'MainThread': missing ScriptRunContext! This warning can be ignored when running in bare mode.\n",
            "2024-10-16 14:18:27.827 Thread 'MainThread': missing ScriptRunContext! This warning can be ignored when running in bare mode.\n",
            "2024-10-16 14:18:27.829 Thread 'MainThread': missing ScriptRunContext! This warning can be ignored when running in bare mode.\n",
            "2024-10-16 14:18:28.335 Thread 'Thread-13': missing ScriptRunContext! This warning can be ignored when running in bare mode.\n",
            "2024-10-16 14:18:28.338 Thread 'Thread-13': missing ScriptRunContext! This warning can be ignored when running in bare mode.\n",
            "2024-10-16 14:18:29.427 Thread 'MainThread': missing ScriptRunContext! This warning can be ignored when running in bare mode.\n",
            "2024-10-16 14:18:29.431 Thread 'MainThread': missing ScriptRunContext! This warning can be ignored when running in bare mode.\n"
          ]
        }
      ],
      "source": [
        "customers_data = load_customers_data()\n",
        "products_data = load_products_data()\n",
        "orders_data = load_orders_data()"
      ]
    },
    {
      "cell_type": "markdown",
      "metadata": {
        "id": "R--2ujgV4Dgl"
      },
      "source": [
        "###Assesing Data"
      ]
    },
    {
      "cell_type": "markdown",
      "metadata": {
        "id": "IYKTRI2vWA-d"
      },
      "source": [
        "#### Memeriksa Missing Values"
      ]
    },
    {
      "cell_type": "code",
      "execution_count": null,
      "metadata": {
        "colab": {
          "base_uri": "https://localhost:8080/"
        },
        "id": "wn9Y7TXUWGW3",
        "outputId": "f35601d3-10cd-482a-be7c-d2d82f4b069e"
      },
      "outputs": [
        {
          "name": "stdout",
          "output_type": "stream",
          "text": [
            "Missing Values pada Customers Dataset\n",
            "customer_id                 0\n",
            "customer_unique_id          0\n",
            "customer_zip_code_prefix    0\n",
            "customer_city               0\n",
            "customer_state              0\n",
            "dtype: int64\n"
          ]
        }
      ],
      "source": [
        "#CUSTOMER\n",
        "print(\"Missing Values pada Customers Dataset\")\n",
        "missing_values_customer = customers_data.isnull().sum()\n",
        "\n",
        "print(missing_values_customer)"
      ]
    },
    {
      "cell_type": "code",
      "execution_count": null,
      "metadata": {
        "colab": {
          "base_uri": "https://localhost:8080/"
        },
        "id": "uKGB87D7apdB",
        "outputId": "3f2d47fa-055b-4460-c4f4-e44cf583c635"
      },
      "outputs": [
        {
          "name": "stdout",
          "output_type": "stream",
          "text": [
            "Missing Values pada Product Dataset\n",
            "product_id                      0\n",
            "product_category_name         610\n",
            "product_name_lenght           610\n",
            "product_description_lenght    610\n",
            "product_photos_qty            610\n",
            "product_weight_g                2\n",
            "product_length_cm               2\n",
            "product_height_cm               2\n",
            "product_width_cm                2\n",
            "dtype: int64\n"
          ]
        }
      ],
      "source": [
        "#PRODUCTS\n",
        "print(\"Missing Values pada Product Dataset\")\n",
        "missing_values_product = products_data.isnull().sum()\n",
        "\n",
        "print(missing_values_product)"
      ]
    },
    {
      "cell_type": "code",
      "execution_count": null,
      "metadata": {
        "colab": {
          "base_uri": "https://localhost:8080/"
        },
        "id": "rQFN2-yrapSG",
        "outputId": "00e2e57a-c646-4925-8cfb-509fa661b721"
      },
      "outputs": [
        {
          "name": "stdout",
          "output_type": "stream",
          "text": [
            "Missing Values pada Order Dataset\n",
            "order_id               0\n",
            "order_item_id          0\n",
            "product_id             0\n",
            "seller_id              0\n",
            "shipping_limit_date    0\n",
            "price                  0\n",
            "freight_value          0\n",
            "dtype: int64\n"
          ]
        }
      ],
      "source": [
        "#Order\n",
        "print(\"Missing Values pada Order Dataset\")\n",
        "missing_values_order = orders_data.isnull().sum()\n",
        "\n",
        "print(missing_values_order)"
      ]
    },
    {
      "cell_type": "markdown",
      "metadata": {
        "id": "Ef1gCIGXcQ19"
      },
      "source": [
        "Disini yang memiliki Missing Values pada product Dataset. kita dapat mengisinya dengan value lainnya, memprediksi atau menghapusnya. Disini saya akan menghapus baris yang memiliki values yang kosong"
      ]
    },
    {
      "cell_type": "markdown",
      "metadata": {
        "id": "pa7ynrLWdGCV"
      },
      "source": [
        "#### Memeriksa Duplicated Values"
      ]
    },
    {
      "cell_type": "code",
      "execution_count": null,
      "metadata": {
        "colab": {
          "base_uri": "https://localhost:8080/"
        },
        "id": "q3B6Bn46fIws",
        "outputId": "150f2b6a-681d-43d3-839e-c0f409b5da6a"
      },
      "outputs": [
        {
          "name": "stdout",
          "output_type": "stream",
          "text": [
            "Data Duplikat pada Customer Dataset\n",
            "0\n"
          ]
        }
      ],
      "source": [
        "#Customewr\n",
        "print(\"Data Duplikat pada Customer Dataset\")\n",
        "duplikat_customer = customers_data.duplicated().sum()\n",
        "\n",
        "print(duplikat_customer)"
      ]
    },
    {
      "cell_type": "code",
      "execution_count": null,
      "metadata": {
        "colab": {
          "base_uri": "https://localhost:8080/"
        },
        "id": "8bPUfObEe7DI",
        "outputId": "c94bab04-9611-4f50-9f05-887c75ec08d8"
      },
      "outputs": [
        {
          "name": "stdout",
          "output_type": "stream",
          "text": [
            "Data Duplikat pada Order Dataset\n",
            "0\n"
          ]
        }
      ],
      "source": [
        "#Order\n",
        "print(\"Data Duplikat pada Order Dataset\")\n",
        "duplikat_order = orders_data.duplicated().sum()\n",
        "\n",
        "print(duplikat_order)"
      ]
    },
    {
      "cell_type": "code",
      "execution_count": null,
      "metadata": {
        "colab": {
          "base_uri": "https://localhost:8080/"
        },
        "id": "anm8h2iJdFXD",
        "outputId": "85e47d36-554b-45be-9339-085ab9adebd7"
      },
      "outputs": [
        {
          "name": "stdout",
          "output_type": "stream",
          "text": [
            "Data Duplikat pada Product Dataset\n",
            "0\n"
          ]
        }
      ],
      "source": [
        "#Product\n",
        "print(\"Data Duplikat pada Product Dataset\")\n",
        "duplikat_product = products_data.duplicated().sum()\n",
        "\n",
        "print(duplikat_product)"
      ]
    },
    {
      "cell_type": "markdown",
      "metadata": {
        "id": "QiZklXFf4GyF"
      },
      "source": [
        "###Cleaning Data"
      ]
    },
    {
      "cell_type": "code",
      "execution_count": null,
      "metadata": {
        "id": "xk87hdHjeRpT"
      },
      "outputs": [],
      "source": [
        "#Disini saya hanya cleaning dataset products karena hanya dataset ini yang memiliki missing values\n",
        "products_data = products_data.dropna()"
      ]
    },
    {
      "cell_type": "markdown",
      "metadata": {
        "id": "m950uJut3Upo"
      },
      "source": [
        "## Exploratory Data Analysis"
      ]
    },
    {
      "cell_type": "code",
      "execution_count": null,
      "metadata": {
        "colab": {
          "base_uri": "https://localhost:8080/"
        },
        "id": "V1eyV5z9gmWF",
        "outputId": "74fa582c-e623-4d5b-a609-1862407dde96"
      },
      "outputs": [
        {
          "name": "stderr",
          "output_type": "stream",
          "text": [
            "2024-10-16 14:18:29.903 Thread 'MainThread': missing ScriptRunContext! This warning can be ignored when running in bare mode.\n",
            "2024-10-16 14:18:29.906 Thread 'MainThread': missing ScriptRunContext! This warning can be ignored when running in bare mode.\n"
          ]
        },
        {
          "data": {
            "text/plain": [
              "DeltaGenerator()"
            ]
          },
          "execution_count": 16,
          "metadata": {},
          "output_type": "execute_result"
        }
      ],
      "source": [
        "#Judul Dashboard\n",
        "st.title(\"Business Orders Dashboard\")"
      ]
    },
    {
      "cell_type": "code",
      "execution_count": null,
      "metadata": {
        "colab": {
          "base_uri": "https://localhost:8080/"
        },
        "id": "iwzmvZOwshMl",
        "outputId": "9951c961-05b7-4f81-a3d6-c6d8575ea50b"
      },
      "outputs": [
        {
          "name": "stderr",
          "output_type": "stream",
          "text": [
            "2024-10-16 14:18:29.927 Thread 'MainThread': missing ScriptRunContext! This warning can be ignored when running in bare mode.\n",
            "2024-10-16 14:18:29.930 Thread 'MainThread': missing ScriptRunContext! This warning can be ignored when running in bare mode.\n"
          ]
        }
      ],
      "source": [
        "# Mengelompokkan kota (state) dan menghitung jumlah pesanan\n",
        "state_order_counts = customers_data.groupby(\"customer_state\")[\"customer_id\"].count().reset_index()\n",
        "state_order_counts.columns = [\"State\", \"Number of Orders\"]\n",
        "state_order_counts = state_order_counts.sort_values(by=\"Number of Orders\", ascending=False)\n",
        "# Menghitung jumlah total pesanan untuk setiap kota\n",
        "total_orders = state_order_counts['Number of Orders'].sum()\n",
        "\n",
        "# Menghitung persentase dan menggabungkan yang kurang dari 2% menjadi \"Other\"\n",
        "state_order_counts['Percentage'] = (state_order_counts['Number of Orders'] / total_orders) * 100\n",
        "state_order_counts['State'] = state_order_counts['State'].where(state_order_counts['Percentage'] >= 1.5, 'Other')\n",
        "\n",
        "# Mengelompokkan dan menjumlahkan untuk kategori \"Other\"\n",
        "state_order_counts_grouped = state_order_counts.groupby('State')['Number of Orders'].sum().reset_index()\n",
        "\n",
        "# Membuat pie chart untuk semua kota dengan kategori \"Other\"\n",
        "fig_pie_chart = px.pie(state_order_counts_grouped, values=\"Number of Orders\", names=\"State\",\n",
        "                       title=\"States Contribution by Number of Orders (Including 'Other'[sum thath below 1.5%])\",\n",
        "                       hole=0.4, labels={'State':'State', 'Number of Orders':'Number of Orders'},\n",
        "                       hover_data=[\"Number of Orders\"])\n"
      ]
    },
    {
      "cell_type": "code",
      "execution_count": null,
      "metadata": {
        "colab": {
          "base_uri": "https://localhost:8080/"
        },
        "id": "nzA3j9cGjdFd",
        "outputId": "5dab711f-dc08-4f18-cb05-fa178c2555ee"
      },
      "outputs": [
        {
          "name": "stderr",
          "output_type": "stream",
          "text": [
            "2024-10-16 14:18:29.968 Thread 'MainThread': missing ScriptRunContext! This warning can be ignored when running in bare mode.\n",
            "2024-10-16 14:18:29.971 Thread 'MainThread': missing ScriptRunContext! This warning can be ignored when running in bare mode.\n"
          ]
        }
      ],
      "source": [
        "# 2. Berapa total harga pesanan per kategori produk?\n",
        "# Menggabungkan orders_data dan products_data\n",
        "merged_data = pd.merge(orders_data, products_data, on=\"product_id\", how=\"left\")\n",
        "\n",
        "# Mengelompokkan berdasarkan kategori produk dan menghitung total harga pesanan\n",
        "category_price_totals = merged_data.groupby(\"product_category_name\")[\"price\"].sum().reset_index()\n",
        "category_price_totals.columns = [\"Product Category\", \"Total Order Price\"]\n",
        "category_price_totals = category_price_totals.sort_values(by=\"Total Order Price\", ascending=False)\n",
        "\n",
        "# Menghitung jumlah total harga pesanan untuk setiap kategori produk\n",
        "total_price = category_price_totals['Total Order Price'].sum()\n",
        "\n",
        "# Menghitung persentase dan menggabungkan yang kurang dari 2% menjadi \"Other\"\n",
        "category_price_totals['Percentage'] = (category_price_totals['Total Order Price'] / total_price) * 100\n",
        "category_price_totals['Product Category'] = category_price_totals['Product Category'].where(category_price_totals['Percentage'] >= 1.5, 'Other')\n",
        "\n",
        "# Mengelompokkan dan menjumlahkan untuk kategori \"Other\"\n",
        "category_price_totals_grouped = category_price_totals.groupby('Product Category')['Total Order Price'].sum().reset_index()\n",
        "\n",
        "# Membuat pie chart untuk semua kategori produk dengan kategori \"Other\"\n",
        "fig_pie_chart_category = px.pie(category_price_totals_grouped, values=\"Total Order Price\", names=\"Product Category\",\n",
        "                                title=\"Product Categories Contribution by Total Order Price (Including 'Other'[sum that below 1.5%])\",\n",
        "                                hole=0.4, labels={'Product Category':'Product Category', 'Total Order Price':'Total Order Price'},\n",
        "                                hover_data=[\"Total Order Price\"])\n"
      ]
    },
    {
      "cell_type": "markdown",
      "metadata": {
        "id": "LZucLPUW3Ul3"
      },
      "source": [
        "##Visualization & Explanatory Analysis"
      ]
    },
    {
      "cell_type": "markdown",
      "metadata": {
        "id": "cSuVyQeI4S1u"
      },
      "source": [
        "###Pertanyaan 1"
      ]
    },
    {
      "cell_type": "code",
      "execution_count": null,
      "metadata": {
        "colab": {
          "base_uri": "https://localhost:8080/"
        },
        "id": "l0InWzwW4VYH",
        "outputId": "906596a6-9642-45f5-acb6-d1e8399cef93"
      },
      "outputs": [
        {
          "name": "stderr",
          "output_type": "stream",
          "text": [
            "2024-10-16 14:18:30.099 Thread 'MainThread': missing ScriptRunContext! This warning can be ignored when running in bare mode.\n",
            "2024-10-16 14:18:30.102 Thread 'MainThread': missing ScriptRunContext! This warning can be ignored when running in bare mode.\n",
            "2024-10-16 14:18:30.157 Thread 'MainThread': missing ScriptRunContext! This warning can be ignored when running in bare mode.\n",
            "2024-10-16 14:18:30.160 Thread 'MainThread': missing ScriptRunContext! This warning can be ignored when running in bare mode.\n",
            "2024-10-16 14:18:30.847 Thread 'MainThread': missing ScriptRunContext! This warning can be ignored when running in bare mode.\n",
            "2024-10-16 14:18:30.850 Thread 'MainThread': missing ScriptRunContext! This warning can be ignored when running in bare mode.\n",
            "2024-10-16 14:18:30.852 Thread 'MainThread': missing ScriptRunContext! This warning can be ignored when running in bare mode.\n",
            "2024-10-16 14:18:30.856 Thread 'MainThread': missing ScriptRunContext! This warning can be ignored when running in bare mode.\n"
          ]
        },
        {
          "data": {
            "text/plain": [
              "DeltaGenerator()"
            ]
          },
          "execution_count": 19,
          "metadata": {},
          "output_type": "execute_result"
        }
      ],
      "source": [
        "# Menampilkan subheader\n",
        "st.header(\"1. 5 kota (state) yang memiliki pesanan (orders) terbanyak\")\n",
        "\n",
        "# Menampilkan 5 kota (state) yang memiliki pesanan terbanyak\n",
        "st.subheader(\"Top 5 States by Number of Orders\")\n",
        "st.write(state_order_counts.head(5))\n",
        "\n",
        "# Menampilkan diagram pie dengan kontribusi persentase\n",
        "st.subheader(\"Pie Chart: Top 5 States by Number of Orders\")\n",
        "\n",
        "\n",
        "# Menampilkan pie chart di Streamlit\n",
        "st.plotly_chart(fig_pie_chart)\n"
      ]
    },
    {
      "cell_type": "markdown",
      "metadata": {
        "id": "6RgV0YS44Ss-"
      },
      "source": [
        "### Pertanyaan 2"
      ]
    },
    {
      "cell_type": "code",
      "execution_count": null,
      "metadata": {
        "colab": {
          "base_uri": "https://localhost:8080/"
        },
        "id": "ObgjI4xChnvJ",
        "outputId": "54cc3094-2665-4793-8bbc-9ce04a82b3db"
      },
      "outputs": [
        {
          "name": "stderr",
          "output_type": "stream",
          "text": [
            "2024-10-16 14:18:30.876 Thread 'MainThread': missing ScriptRunContext! This warning can be ignored when running in bare mode.\n",
            "2024-10-16 14:18:30.878 Thread 'MainThread': missing ScriptRunContext! This warning can be ignored when running in bare mode.\n",
            "2024-10-16 14:18:30.882 Thread 'MainThread': missing ScriptRunContext! This warning can be ignored when running in bare mode.\n",
            "2024-10-16 14:18:30.884 Thread 'MainThread': missing ScriptRunContext! This warning can be ignored when running in bare mode.\n",
            "2024-10-16 14:18:30.942 Thread 'MainThread': missing ScriptRunContext! This warning can be ignored when running in bare mode.\n",
            "2024-10-16 14:18:30.945 Thread 'MainThread': missing ScriptRunContext! This warning can be ignored when running in bare mode.\n",
            "2024-10-16 14:18:30.947 Thread 'MainThread': missing ScriptRunContext! This warning can be ignored when running in bare mode.\n",
            "2024-10-16 14:18:30.949 Thread 'MainThread': missing ScriptRunContext! This warning can be ignored when running in bare mode.\n"
          ]
        },
        {
          "data": {
            "text/plain": [
              "DeltaGenerator()"
            ]
          },
          "execution_count": 20,
          "metadata": {},
          "output_type": "execute_result"
        }
      ],
      "source": [
        "\n",
        "# Menampilkan subheader\n",
        "st.header(\"2. Berapa total harga pesanan per kategori produk?\")\n",
        "\n",
        "# Menampilkan 10 kategori teratas berdasarkan total harga pesanan\n",
        "st.subheader(\"Top 10 Product Categories by Total Order Price\")\n",
        "st.write(category_price_totals.head(10))\n",
        "\n",
        "\n",
        "# Membuat bar chart untuk total harga berdasarkan kategori produk\n",
        "fig_category_price = px.bar(category_price_totals.head(10), x=\"Product Category\", y=\"Total Order Price\",\n",
        "                            title=\"Top 10 Product Categories by Total Order Price\",\n",
        "                            color=\"Total Order Price\")\n",
        "\n",
        "st.plotly_chart(fig_category_price)\n",
        "\n",
        "# Menampilkan diagram pie dengan persentase kontribusi\n",
        "st.subheader(\"Pie Chart: Top 10 Product Categories by Total Order Price\")\n",
        "\n",
        "\n",
        "# Menampilkan pie chart di Streamlit\n",
        "st.plotly_chart(fig_pie_chart_category)\n",
        "\n"
      ]
    },
    {
      "cell_type": "markdown",
      "metadata": {
        "id": "MtwqDb2e3UgV"
      },
      "source": [
        "##Conclusion"
      ]
    },
    {
      "cell_type": "markdown",
      "metadata": {
        "id": "ydnU4T5KiFrn"
      },
      "source": [
        "1. 5 kota (state) yang memiliki pesanan (orders) terbanyak secara berturut-urut adalah  \n",
        "\n",
        "<table>\n",
        "    <tr>\n",
        "        <th>Kode State</th>\n",
        "        <th>Total</th>\n",
        "        <th>Persen</th>\n",
        "    </tr>\n",
        "    <tr>\n",
        "        <td>SP</td>\n",
        "        <td>41,746</td>\n",
        "        <td>42% </td>\n",
        "    </tr>\n",
        "    <tr>\n",
        "        <td>RJ</td>\n",
        "        <td>12,852</td>\n",
        "        <td>12.9% </td>\n",
        "    </tr>\n",
        "    <tr>\n",
        "        <td>MG</td>\n",
        "        <td>11,635</td>\n",
        "        <td>11.7% </td>\n",
        "    </tr>\n",
        "    <tr>\n",
        "        <td>RS</td>\n",
        "        <td>5,466</td>\n",
        "        <td> 5.5%</td>\n",
        "    </tr>\n",
        "    <tr>\n",
        "        <td>PR</td>\n",
        "        <td>5,045</td>\n",
        "        <td>5.07% </td>\n",
        "    </tr>\n",
        "</table>\n"
      ]
    },
    {
      "cell_type": "markdown",
      "metadata": {
        "id": "TExOgg8fiSgB"
      },
      "source": [
        "2. Berapa total harga pesanan per kategori produk?  \n",
        "\n",
        "\n",
        "<table>\n",
        "    <tr>\n",
        "        <th>Kategori</th>\n",
        "        <th>Total Harga</th>\n",
        "        <td>Persen </td>\n",
        "    </tr>\n",
        "    <tr>\n",
        "        <td>beleza_saude</td>\n",
        "        <td>1,258,681.34</td>\n",
        "        <td>9.38% </td>\n",
        "    </tr>\n",
        "    <tr>\n",
        "        <td>relogios_presentes</td>\n",
        "        <td>1,205,005.68</td>\n",
        "        <td>8.98% </td>\n",
        "    </tr>\n",
        "    <tr>\n",
        "        <td>cama_mesa_banho</td>\n",
        "        <td>1,036,988.68</td>\n",
        "        <td>7.73% </td>\n",
        "    </tr>\n",
        "    <tr>\n",
        "        <td>esporte_lazer</td>\n",
        "        <td>988,048.97</td>\n",
        "        <td>7.37% </td>\n",
        "    </tr>\n",
        "    <tr>\n",
        "        <td>informatica_acessorios</td>\n",
        "        <td>911,954.32</td>\n",
        "        <td>6.8% </td>\n",
        "    </tr>\n",
        "    <tr>\n",
        "        <td>moveis_decoracao</td>\n",
        "        <td>729,762.49</td>\n",
        "        <td>5.44% </td>\n",
        "    </tr>\n",
        "    <tr>\n",
        "        <td>cool_stuff</td>\n",
        "        <td>635,290.85</td>\n",
        "        <td>4.74% </td>\n",
        "    </tr>\n",
        "    <tr>\n",
        "        <td>utilidades_domesticas</td>\n",
        "        <td>632,248.66</td>\n",
        "        <td>4.71% </td>\n",
        "    </tr>\n",
        "    <tr>\n",
        "        <td>automotivo</td>\n",
        "        <td>592,720.11</td>\n",
        "        <td>4.42% </td>\n",
        "    </tr>\n",
        "    <tr>\n",
        "        <td>ferramentas_jardim</td>\n",
        "        <td>485,256.46</td>\n",
        "        <td>3.62% </td>\n",
        "    </tr>\n",
        "</table>"
      ]
    },
    {
      "cell_type": "code",
      "execution_count": null,
      "metadata": {
        "id": "9yolWkySEuJo"
      },
      "outputs": [],
      "source": []
    }
  ],
  "metadata": {
    "colab": {
      "provenance": []
    },
    "kernelspec": {
      "display_name": "Python 3",
      "name": "python3"
    },
    "language_info": {
      "name": "python"
    }
  },
  "nbformat": 4,
  "nbformat_minor": 0
}